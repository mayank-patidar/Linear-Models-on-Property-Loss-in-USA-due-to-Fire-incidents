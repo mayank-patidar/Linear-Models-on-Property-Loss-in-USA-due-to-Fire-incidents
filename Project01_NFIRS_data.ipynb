{
  "nbformat": 4,
  "nbformat_minor": 0,
  "metadata": {
    "colab": {
      "name": "Project01_NFIRS_data.ipynb",
      "provenance": [],
      "collapsed_sections": [],
      "toc_visible": true,
      "include_colab_link": true
    },
    "kernelspec": {
      "name": "python3",
      "display_name": "Python 3"
    },
    "language_info": {
      "name": "python"
    }
  },
  "cells": [
    {
      "cell_type": "markdown",
      "metadata": {
        "id": "view-in-github",
        "colab_type": "text"
      },
      "source": [
        "<a href=\"https://colab.research.google.com/github/mayank-patidar/Linear-Models-on-Property-Loss-in-USA-due-to-Fire-incidents/blob/main/Project01_NFIRS_data.ipynb\" target=\"_parent\"><img src=\"https://colab.research.google.com/assets/colab-badge.svg\" alt=\"Open In Colab\"/></a>"
      ]
    },
    {
      "cell_type": "markdown",
      "metadata": {
        "id": "K9kH1AiJgrWM"
      },
      "source": [
        "# Project: Linear Models with NFIRS Data \n",
        "\n",
        "Your objective is to predict the PROP_LOSS from fires that have occurred in homes and businesses around the USA. This project is a little bit different in that you will be working with BIG DATA - a huge ~500MB file with 2M rows and lots of missing values.\n",
        "------------------------------\n",
        "\n",
        "\n",
        "## Data Dictionary\n",
        "Here is the data dictionary for BASIC (see p. 163 of document, p. 167 of the PDF). Your goal is to predict the loss as a function of the other variables that are available to you.\n",
        "* https://www.usfa.fema.gov/downloads/pdf/nfirs/NFIRS_Spec_2015.pdf\n",
        "\n",
        "**[optional]** Here is where I got the original data, which I read in R and then converted to a .csv from (`nfirs.data$basic`)\n",
        "* https://stackoverflow.com/questions/21288133/loading-rdata-files-into-python\n",
        "* https://github.com/dnchelst/NFIRS\n",
        "\n",
        "\n",
        "\n",
        "```\n",
        "load(\"C:/Users/dwanik/Downloads/NFIRS2014.RData\")\n",
        "ls() #returns a list of all the objects you just loaded (and anything else in your environment)\n",
        "\n",
        "head(nfirs.data$basic)\n",
        "\n",
        "write.csv(nfirs.data$basic,\n",
        "          file=\"C:/Users/dwanik/Downloads/NFIRS2014.csv\")\n",
        "\n",
        "```\n",
        "\n"
      ]
    },
    {
      "cell_type": "markdown",
      "metadata": {
        "id": "HQBJF7dx3okf"
      },
      "source": [
        "## Read the data from Google Drive \n",
        "Feel free to download a local copy to your OWN Google Drive. Warning: it's a large file!\n",
        "* https://drive.google.com/file/d/1zWt5b8U-PQ-adm_ob4kjucjTBmVHrQzN/view?usp=sharing"
      ]
    },
    {
      "cell_type": "code",
      "metadata": {
        "id": "wKARtfRm4glI"
      },
      "source": [
        "# import modules\n",
        "import pandas as pd"
      ],
      "execution_count": null,
      "outputs": []
    },
    {
      "cell_type": "code",
      "metadata": {
        "colab": {
          "base_uri": "https://localhost:8080/"
        },
        "id": "H34SnZM2g4O1",
        "outputId": "cfd2d0de-3042-4c34-af96-f57eb84dc069"
      },
      "source": [
        "# https://drive.google.com/file/d/1zWt5b8U-PQ-adm_ob4kjucjTBmVHrQzN/view?usp=sharing\n",
        "!gdown --id 1zWt5b8U-PQ-adm_ob4kjucjTBmVHrQzN # 500 MB file - whoa!"
      ],
      "execution_count": null,
      "outputs": [
        {
          "output_type": "stream",
          "name": "stdout",
          "text": [
            "Downloading...\n",
            "From: https://drive.google.com/uc?id=1zWt5b8U-PQ-adm_ob4kjucjTBmVHrQzN\n",
            "To: /content/NFIRS2014.csv\n",
            "100% 471M/471M [00:03<00:00, 118MB/s]\n"
          ]
        }
      ]
    },
    {
      "cell_type": "markdown",
      "metadata": {
        "id": "1xXeamlo3uB_"
      },
      "source": [
        "Note that when you run `df.info()` that you can get the data types, but missing values will not be shown. "
      ]
    },
    {
      "cell_type": "code",
      "metadata": {
        "colab": {
          "base_uri": "https://localhost:8080/"
        },
        "id": "EAP8SgGOgqna",
        "outputId": "855b7379-6a89-4169-9989-fbf5d34879d0"
      },
      "source": [
        "df = pd.read_csv('NFIRS2014.csv')\n",
        "df.info()"
      ],
      "execution_count": null,
      "outputs": [
        {
          "output_type": "stream",
          "name": "stderr",
          "text": [
            "/usr/local/lib/python3.7/dist-packages/IPython/core/interactiveshell.py:2718: DtypeWarning:\n",
            "\n",
            "Columns (2,4,6,14,15,16,17,18,19,37,40) have mixed types.Specify dtype option on import or set low_memory=False.\n",
            "\n"
          ]
        },
        {
          "output_type": "stream",
          "name": "stdout",
          "text": [
            "<class 'pandas.core.frame.DataFrame'>\n",
            "RangeIndex: 2116746 entries, 0 to 2116745\n",
            "Data columns (total 41 columns):\n",
            " #   Column      Dtype  \n",
            "---  ------      -----  \n",
            " 0   Unnamed: 0  int64  \n",
            " 1   STATE       object \n",
            " 2   FDID        object \n",
            " 3   INC_DATE    object \n",
            " 4   INC_NO      object \n",
            " 5   EXP_NO      int64  \n",
            " 6   DEPT_STA    object \n",
            " 7   INC_TYPE    int64  \n",
            " 8   ADD_WILD    object \n",
            " 9   AID         object \n",
            " 10  ALARM       object \n",
            " 11  ARRIVAL     object \n",
            " 12  INC_CONT    float64\n",
            " 13  LU_CLEAR    object \n",
            " 14  SHIFT       object \n",
            " 15  ALARMS      object \n",
            " 16  DISTRICT    object \n",
            " 17  ACT_TAK1    object \n",
            " 18  ACT_TAK2    object \n",
            " 19  ACT_TAK3    object \n",
            " 20  APP_MOD     object \n",
            " 21  SUP_APP     int64  \n",
            " 22  EMS_APP     int64  \n",
            " 23  OTH_APP     int64  \n",
            " 24  SUP_PER     int64  \n",
            " 25  EMS_PER     int64  \n",
            " 26  OTH_PER     int64  \n",
            " 27  RESOU_AID   object \n",
            " 28  PROP_LOSS   float64\n",
            " 29  CONT_LOSS   float64\n",
            " 30  PROP_VAL    float64\n",
            " 31  CONT_VAL    float64\n",
            " 32  FF_DEATH    float64\n",
            " 33  OTH_DEATH   float64\n",
            " 34  FF_INJ      float64\n",
            " 35  OTH_INJ     float64\n",
            " 36  DET_ALERT   object \n",
            " 37  HAZ_REL     object \n",
            " 38  MIXED_USE   object \n",
            " 39  PROP_USE    object \n",
            " 40  CENSUS      object \n",
            "dtypes: float64(9), int64(9), object(23)\n",
            "memory usage: 662.1+ MB\n"
          ]
        }
      ]
    },
    {
      "cell_type": "code",
      "metadata": {
        "colab": {
          "base_uri": "https://localhost:8080/",
          "height": 730
        },
        "id": "ZV0vkibk30I_",
        "outputId": "f7d2e1fa-b270-4143-f38e-a0a22ea833c3"
      },
      "source": [
        "# look at the first 10 rows\n",
        "df.head(n=10)"
      ],
      "execution_count": null,
      "outputs": [
        {
          "output_type": "execute_result",
          "data": {
            "text/html": [
              "<div>\n",
              "<style scoped>\n",
              "    .dataframe tbody tr th:only-of-type {\n",
              "        vertical-align: middle;\n",
              "    }\n",
              "\n",
              "    .dataframe tbody tr th {\n",
              "        vertical-align: top;\n",
              "    }\n",
              "\n",
              "    .dataframe thead th {\n",
              "        text-align: right;\n",
              "    }\n",
              "</style>\n",
              "<table border=\"1\" class=\"dataframe\">\n",
              "  <thead>\n",
              "    <tr style=\"text-align: right;\">\n",
              "      <th></th>\n",
              "      <th>Unnamed: 0</th>\n",
              "      <th>STATE</th>\n",
              "      <th>FDID</th>\n",
              "      <th>INC_DATE</th>\n",
              "      <th>INC_NO</th>\n",
              "      <th>EXP_NO</th>\n",
              "      <th>DEPT_STA</th>\n",
              "      <th>INC_TYPE</th>\n",
              "      <th>ADD_WILD</th>\n",
              "      <th>AID</th>\n",
              "      <th>ALARM</th>\n",
              "      <th>ARRIVAL</th>\n",
              "      <th>INC_CONT</th>\n",
              "      <th>LU_CLEAR</th>\n",
              "      <th>SHIFT</th>\n",
              "      <th>ALARMS</th>\n",
              "      <th>DISTRICT</th>\n",
              "      <th>ACT_TAK1</th>\n",
              "      <th>ACT_TAK2</th>\n",
              "      <th>ACT_TAK3</th>\n",
              "      <th>APP_MOD</th>\n",
              "      <th>SUP_APP</th>\n",
              "      <th>EMS_APP</th>\n",
              "      <th>OTH_APP</th>\n",
              "      <th>SUP_PER</th>\n",
              "      <th>EMS_PER</th>\n",
              "      <th>OTH_PER</th>\n",
              "      <th>RESOU_AID</th>\n",
              "      <th>PROP_LOSS</th>\n",
              "      <th>CONT_LOSS</th>\n",
              "      <th>PROP_VAL</th>\n",
              "      <th>CONT_VAL</th>\n",
              "      <th>FF_DEATH</th>\n",
              "      <th>OTH_DEATH</th>\n",
              "      <th>FF_INJ</th>\n",
              "      <th>OTH_INJ</th>\n",
              "      <th>DET_ALERT</th>\n",
              "      <th>HAZ_REL</th>\n",
              "      <th>MIXED_USE</th>\n",
              "      <th>PROP_USE</th>\n",
              "      <th>CENSUS</th>\n",
              "    </tr>\n",
              "  </thead>\n",
              "  <tbody>\n",
              "    <tr>\n",
              "      <th>0</th>\n",
              "      <td>1</td>\n",
              "      <td>AK</td>\n",
              "      <td>11100</td>\n",
              "      <td>2014-01-02</td>\n",
              "      <td>222</td>\n",
              "      <td>0</td>\n",
              "      <td>3</td>\n",
              "      <td>463</td>\n",
              "      <td>N</td>\n",
              "      <td>N</td>\n",
              "      <td>2014-01-02 17:20:00</td>\n",
              "      <td>2014-01-02 17:29:00</td>\n",
              "      <td>NaN</td>\n",
              "      <td>2014-01-02 17:48:00</td>\n",
              "      <td>A</td>\n",
              "      <td>1</td>\n",
              "      <td>NaN</td>\n",
              "      <td>31</td>\n",
              "      <td>81</td>\n",
              "      <td>NaN</td>\n",
              "      <td>Y</td>\n",
              "      <td>1</td>\n",
              "      <td>2</td>\n",
              "      <td>1</td>\n",
              "      <td>1</td>\n",
              "      <td>4</td>\n",
              "      <td>0</td>\n",
              "      <td>N</td>\n",
              "      <td>NaN</td>\n",
              "      <td>NaN</td>\n",
              "      <td>NaN</td>\n",
              "      <td>NaN</td>\n",
              "      <td>0.0</td>\n",
              "      <td>NaN</td>\n",
              "      <td>0.0</td>\n",
              "      <td>NaN</td>\n",
              "      <td>NaN</td>\n",
              "      <td>N</td>\n",
              "      <td>00</td>\n",
              "      <td>961</td>\n",
              "      <td>NaN</td>\n",
              "    </tr>\n",
              "    <tr>\n",
              "      <th>1</th>\n",
              "      <td>2</td>\n",
              "      <td>AK</td>\n",
              "      <td>11100</td>\n",
              "      <td>2014-01-05</td>\n",
              "      <td>598</td>\n",
              "      <td>0</td>\n",
              "      <td>3</td>\n",
              "      <td>561</td>\n",
              "      <td>N</td>\n",
              "      <td>N</td>\n",
              "      <td>2014-01-05 14:30:00</td>\n",
              "      <td>2014-01-05 14:55:00</td>\n",
              "      <td>NaN</td>\n",
              "      <td>2014-01-05 15:15:00</td>\n",
              "      <td>A</td>\n",
              "      <td>1</td>\n",
              "      <td>NaN</td>\n",
              "      <td>85</td>\n",
              "      <td>80</td>\n",
              "      <td>NaN</td>\n",
              "      <td>Y</td>\n",
              "      <td>1</td>\n",
              "      <td>0</td>\n",
              "      <td>0</td>\n",
              "      <td>2</td>\n",
              "      <td>0</td>\n",
              "      <td>0</td>\n",
              "      <td>N</td>\n",
              "      <td>NaN</td>\n",
              "      <td>NaN</td>\n",
              "      <td>NaN</td>\n",
              "      <td>NaN</td>\n",
              "      <td>0.0</td>\n",
              "      <td>NaN</td>\n",
              "      <td>0.0</td>\n",
              "      <td>NaN</td>\n",
              "      <td>NaN</td>\n",
              "      <td>N</td>\n",
              "      <td>NN</td>\n",
              "      <td>900</td>\n",
              "      <td>NaN</td>\n",
              "    </tr>\n",
              "    <tr>\n",
              "      <th>2</th>\n",
              "      <td>3</td>\n",
              "      <td>AK</td>\n",
              "      <td>11100</td>\n",
              "      <td>2014-01-09</td>\n",
              "      <td>1030</td>\n",
              "      <td>0</td>\n",
              "      <td>3</td>\n",
              "      <td>114</td>\n",
              "      <td>N</td>\n",
              "      <td>N</td>\n",
              "      <td>2014-01-09 13:50:00</td>\n",
              "      <td>2014-01-09 13:54:00</td>\n",
              "      <td>NaN</td>\n",
              "      <td>2014-01-09 14:00:00</td>\n",
              "      <td>B</td>\n",
              "      <td>1</td>\n",
              "      <td>NaN</td>\n",
              "      <td>86</td>\n",
              "      <td>NaN</td>\n",
              "      <td>NaN</td>\n",
              "      <td>Y</td>\n",
              "      <td>5</td>\n",
              "      <td>1</td>\n",
              "      <td>1</td>\n",
              "      <td>7</td>\n",
              "      <td>2</td>\n",
              "      <td>1</td>\n",
              "      <td>N</td>\n",
              "      <td>0.0</td>\n",
              "      <td>0.0</td>\n",
              "      <td>NaN</td>\n",
              "      <td>NaN</td>\n",
              "      <td>0.0</td>\n",
              "      <td>NaN</td>\n",
              "      <td>0.0</td>\n",
              "      <td>NaN</td>\n",
              "      <td>U</td>\n",
              "      <td>N</td>\n",
              "      <td>NN</td>\n",
              "      <td>419</td>\n",
              "      <td>NaN</td>\n",
              "    </tr>\n",
              "    <tr>\n",
              "      <th>3</th>\n",
              "      <td>4</td>\n",
              "      <td>AK</td>\n",
              "      <td>11100</td>\n",
              "      <td>2014-01-10</td>\n",
              "      <td>1212</td>\n",
              "      <td>0</td>\n",
              "      <td>3</td>\n",
              "      <td>561</td>\n",
              "      <td>N</td>\n",
              "      <td>N</td>\n",
              "      <td>2014-01-10 20:34:00</td>\n",
              "      <td>2014-01-10 21:46:00</td>\n",
              "      <td>NaN</td>\n",
              "      <td>2014-01-10 21:50:00</td>\n",
              "      <td>C</td>\n",
              "      <td>1</td>\n",
              "      <td>NaN</td>\n",
              "      <td>80</td>\n",
              "      <td>NaN</td>\n",
              "      <td>NaN</td>\n",
              "      <td>Y</td>\n",
              "      <td>1</td>\n",
              "      <td>0</td>\n",
              "      <td>0</td>\n",
              "      <td>3</td>\n",
              "      <td>0</td>\n",
              "      <td>0</td>\n",
              "      <td>N</td>\n",
              "      <td>NaN</td>\n",
              "      <td>NaN</td>\n",
              "      <td>NaN</td>\n",
              "      <td>NaN</td>\n",
              "      <td>0.0</td>\n",
              "      <td>NaN</td>\n",
              "      <td>0.0</td>\n",
              "      <td>NaN</td>\n",
              "      <td>NaN</td>\n",
              "      <td>N</td>\n",
              "      <td>NN</td>\n",
              "      <td>419</td>\n",
              "      <td>NaN</td>\n",
              "    </tr>\n",
              "    <tr>\n",
              "      <th>4</th>\n",
              "      <td>5</td>\n",
              "      <td>AK</td>\n",
              "      <td>11100</td>\n",
              "      <td>2014-01-11</td>\n",
              "      <td>1280</td>\n",
              "      <td>0</td>\n",
              "      <td>3</td>\n",
              "      <td>138</td>\n",
              "      <td>N</td>\n",
              "      <td>N</td>\n",
              "      <td>2014-01-11 11:48:00</td>\n",
              "      <td>2014-01-11 11:56:00</td>\n",
              "      <td>NaN</td>\n",
              "      <td>2014-01-11 13:30:00</td>\n",
              "      <td>A</td>\n",
              "      <td>1</td>\n",
              "      <td>NaN</td>\n",
              "      <td>11</td>\n",
              "      <td>12</td>\n",
              "      <td>81</td>\n",
              "      <td>Y</td>\n",
              "      <td>3</td>\n",
              "      <td>2</td>\n",
              "      <td>2</td>\n",
              "      <td>7</td>\n",
              "      <td>3</td>\n",
              "      <td>2</td>\n",
              "      <td>N</td>\n",
              "      <td>20000.0</td>\n",
              "      <td>0.0</td>\n",
              "      <td>50000.0</td>\n",
              "      <td>0.0</td>\n",
              "      <td>0.0</td>\n",
              "      <td>NaN</td>\n",
              "      <td>0.0</td>\n",
              "      <td>NaN</td>\n",
              "      <td>NaN</td>\n",
              "      <td>N</td>\n",
              "      <td>60</td>\n",
              "      <td>919</td>\n",
              "      <td>NaN</td>\n",
              "    </tr>\n",
              "    <tr>\n",
              "      <th>5</th>\n",
              "      <td>6</td>\n",
              "      <td>AK</td>\n",
              "      <td>11100</td>\n",
              "      <td>2014-01-12</td>\n",
              "      <td>1392</td>\n",
              "      <td>0</td>\n",
              "      <td>3</td>\n",
              "      <td>142</td>\n",
              "      <td>N</td>\n",
              "      <td>N</td>\n",
              "      <td>2014-01-12 09:53:00</td>\n",
              "      <td>2014-01-12 10:04:00</td>\n",
              "      <td>NaN</td>\n",
              "      <td>2014-01-12 10:44:00</td>\n",
              "      <td>B</td>\n",
              "      <td>1</td>\n",
              "      <td>NaN</td>\n",
              "      <td>11</td>\n",
              "      <td>86</td>\n",
              "      <td>NaN</td>\n",
              "      <td>Y</td>\n",
              "      <td>1</td>\n",
              "      <td>0</td>\n",
              "      <td>0</td>\n",
              "      <td>2</td>\n",
              "      <td>0</td>\n",
              "      <td>0</td>\n",
              "      <td>N</td>\n",
              "      <td>0.0</td>\n",
              "      <td>0.0</td>\n",
              "      <td>1500000.0</td>\n",
              "      <td>20000.0</td>\n",
              "      <td>0.0</td>\n",
              "      <td>NaN</td>\n",
              "      <td>0.0</td>\n",
              "      <td>NaN</td>\n",
              "      <td>NaN</td>\n",
              "      <td>N</td>\n",
              "      <td>NN</td>\n",
              "      <td>669</td>\n",
              "      <td>NaN</td>\n",
              "    </tr>\n",
              "    <tr>\n",
              "      <th>6</th>\n",
              "      <td>7</td>\n",
              "      <td>AK</td>\n",
              "      <td>11100</td>\n",
              "      <td>2014-01-13</td>\n",
              "      <td>1559</td>\n",
              "      <td>0</td>\n",
              "      <td>3</td>\n",
              "      <td>561</td>\n",
              "      <td>N</td>\n",
              "      <td>N</td>\n",
              "      <td>2014-01-13 14:26:00</td>\n",
              "      <td>2014-01-13 14:33:00</td>\n",
              "      <td>NaN</td>\n",
              "      <td>2014-01-13 14:35:00</td>\n",
              "      <td>C</td>\n",
              "      <td>1</td>\n",
              "      <td>NaN</td>\n",
              "      <td>80</td>\n",
              "      <td>NaN</td>\n",
              "      <td>NaN</td>\n",
              "      <td>Y</td>\n",
              "      <td>1</td>\n",
              "      <td>0</td>\n",
              "      <td>0</td>\n",
              "      <td>2</td>\n",
              "      <td>0</td>\n",
              "      <td>0</td>\n",
              "      <td>N</td>\n",
              "      <td>NaN</td>\n",
              "      <td>NaN</td>\n",
              "      <td>NaN</td>\n",
              "      <td>NaN</td>\n",
              "      <td>0.0</td>\n",
              "      <td>NaN</td>\n",
              "      <td>0.0</td>\n",
              "      <td>NaN</td>\n",
              "      <td>NaN</td>\n",
              "      <td>N</td>\n",
              "      <td>NN</td>\n",
              "      <td>938</td>\n",
              "      <td>NaN</td>\n",
              "    </tr>\n",
              "    <tr>\n",
              "      <th>7</th>\n",
              "      <td>8</td>\n",
              "      <td>AK</td>\n",
              "      <td>11100</td>\n",
              "      <td>2014-01-13</td>\n",
              "      <td>1564</td>\n",
              "      <td>0</td>\n",
              "      <td>3</td>\n",
              "      <td>561</td>\n",
              "      <td>N</td>\n",
              "      <td>N</td>\n",
              "      <td>2014-01-13 14:44:00</td>\n",
              "      <td>2014-01-13 14:44:00</td>\n",
              "      <td>NaN</td>\n",
              "      <td>2014-01-13 14:48:00</td>\n",
              "      <td>C</td>\n",
              "      <td>1</td>\n",
              "      <td>NaN</td>\n",
              "      <td>80</td>\n",
              "      <td>NaN</td>\n",
              "      <td>NaN</td>\n",
              "      <td>Y</td>\n",
              "      <td>1</td>\n",
              "      <td>0</td>\n",
              "      <td>0</td>\n",
              "      <td>2</td>\n",
              "      <td>0</td>\n",
              "      <td>0</td>\n",
              "      <td>N</td>\n",
              "      <td>NaN</td>\n",
              "      <td>NaN</td>\n",
              "      <td>NaN</td>\n",
              "      <td>NaN</td>\n",
              "      <td>0.0</td>\n",
              "      <td>NaN</td>\n",
              "      <td>0.0</td>\n",
              "      <td>NaN</td>\n",
              "      <td>NaN</td>\n",
              "      <td>N</td>\n",
              "      <td>60</td>\n",
              "      <td>938</td>\n",
              "      <td>NaN</td>\n",
              "    </tr>\n",
              "    <tr>\n",
              "      <th>8</th>\n",
              "      <td>9</td>\n",
              "      <td>AK</td>\n",
              "      <td>11100</td>\n",
              "      <td>2014-01-16</td>\n",
              "      <td>1943</td>\n",
              "      <td>0</td>\n",
              "      <td>3</td>\n",
              "      <td>411</td>\n",
              "      <td>N</td>\n",
              "      <td>N</td>\n",
              "      <td>2014-01-16 13:38:00</td>\n",
              "      <td>2014-01-16 13:44:00</td>\n",
              "      <td>NaN</td>\n",
              "      <td>2014-01-16 14:57:00</td>\n",
              "      <td>C</td>\n",
              "      <td>1</td>\n",
              "      <td>NaN</td>\n",
              "      <td>43</td>\n",
              "      <td>81</td>\n",
              "      <td>NaN</td>\n",
              "      <td>Y</td>\n",
              "      <td>2</td>\n",
              "      <td>1</td>\n",
              "      <td>0</td>\n",
              "      <td>4</td>\n",
              "      <td>2</td>\n",
              "      <td>0</td>\n",
              "      <td>N</td>\n",
              "      <td>NaN</td>\n",
              "      <td>NaN</td>\n",
              "      <td>NaN</td>\n",
              "      <td>NaN</td>\n",
              "      <td>0.0</td>\n",
              "      <td>NaN</td>\n",
              "      <td>0.0</td>\n",
              "      <td>NaN</td>\n",
              "      <td>NaN</td>\n",
              "      <td>N</td>\n",
              "      <td>NN</td>\n",
              "      <td>974</td>\n",
              "      <td>NaN</td>\n",
              "    </tr>\n",
              "    <tr>\n",
              "      <th>9</th>\n",
              "      <td>10</td>\n",
              "      <td>AK</td>\n",
              "      <td>11100</td>\n",
              "      <td>2014-01-17</td>\n",
              "      <td>2129</td>\n",
              "      <td>0</td>\n",
              "      <td>1</td>\n",
              "      <td>113</td>\n",
              "      <td>N</td>\n",
              "      <td>N</td>\n",
              "      <td>2014-01-17 18:43:00</td>\n",
              "      <td>2014-01-17 18:53:00</td>\n",
              "      <td>NaN</td>\n",
              "      <td>2014-01-17 18:54:00</td>\n",
              "      <td>A</td>\n",
              "      <td>1</td>\n",
              "      <td>NaN</td>\n",
              "      <td>86</td>\n",
              "      <td>85</td>\n",
              "      <td>NaN</td>\n",
              "      <td>Y</td>\n",
              "      <td>3</td>\n",
              "      <td>2</td>\n",
              "      <td>0</td>\n",
              "      <td>5</td>\n",
              "      <td>3</td>\n",
              "      <td>0</td>\n",
              "      <td>N</td>\n",
              "      <td>0.0</td>\n",
              "      <td>0.0</td>\n",
              "      <td>NaN</td>\n",
              "      <td>NaN</td>\n",
              "      <td>0.0</td>\n",
              "      <td>NaN</td>\n",
              "      <td>0.0</td>\n",
              "      <td>NaN</td>\n",
              "      <td>2</td>\n",
              "      <td>N</td>\n",
              "      <td>NN</td>\n",
              "      <td>429</td>\n",
              "      <td>NaN</td>\n",
              "    </tr>\n",
              "  </tbody>\n",
              "</table>\n",
              "</div>"
            ],
            "text/plain": [
              "   Unnamed: 0 STATE   FDID    INC_DATE  ... HAZ_REL  MIXED_USE PROP_USE  CENSUS\n",
              "0           1    AK  11100  2014-01-02  ...       N         00      961     NaN\n",
              "1           2    AK  11100  2014-01-05  ...       N         NN      900     NaN\n",
              "2           3    AK  11100  2014-01-09  ...       N         NN      419     NaN\n",
              "3           4    AK  11100  2014-01-10  ...       N         NN      419     NaN\n",
              "4           5    AK  11100  2014-01-11  ...       N         60      919     NaN\n",
              "5           6    AK  11100  2014-01-12  ...       N         NN      669     NaN\n",
              "6           7    AK  11100  2014-01-13  ...       N         NN      938     NaN\n",
              "7           8    AK  11100  2014-01-13  ...       N         60      938     NaN\n",
              "8           9    AK  11100  2014-01-16  ...       N         NN      974     NaN\n",
              "9          10    AK  11100  2014-01-17  ...       N         NN      429     NaN\n",
              "\n",
              "[10 rows x 41 columns]"
            ]
          },
          "metadata": {},
          "execution_count": 108
        }
      ]
    },
    {
      "cell_type": "markdown",
      "metadata": {
        "id": "JI4ui_3d5KYn"
      },
      "source": [
        "## EDA: Count the number of missing observations per column"
      ]
    },
    {
      "cell_type": "code",
      "metadata": {
        "id": "BPINUT-O4qsP",
        "colab": {
          "base_uri": "https://localhost:8080/"
        },
        "outputId": "2eabb6f1-e667-4a76-d26f-f3d12873be1f"
      },
      "source": [
        "df.isna().sum() # Return the number of rows that have missing values for each column."
      ],
      "execution_count": null,
      "outputs": [
        {
          "output_type": "execute_result",
          "data": {
            "text/plain": [
              "Unnamed: 0          0\n",
              "STATE             329\n",
              "FDID                0\n",
              "INC_DATE            0\n",
              "INC_NO              0\n",
              "EXP_NO              0\n",
              "DEPT_STA       557513\n",
              "INC_TYPE            0\n",
              "ADD_WILD            0\n",
              "AID                 0\n",
              "ALARM               0\n",
              "ARRIVAL             0\n",
              "INC_CONT      1612496\n",
              "LU_CLEAR          114\n",
              "SHIFT          864553\n",
              "ALARMS         755315\n",
              "DISTRICT       893634\n",
              "ACT_TAK1            3\n",
              "ACT_TAK2      1437009\n",
              "ACT_TAK3      1858837\n",
              "APP_MOD             0\n",
              "SUP_APP             0\n",
              "EMS_APP             0\n",
              "OTH_APP             0\n",
              "SUP_PER             0\n",
              "EMS_PER             0\n",
              "OTH_PER             0\n",
              "RESOU_AID           0\n",
              "PROP_LOSS      950366\n",
              "CONT_LOSS      963294\n",
              "PROP_VAL      1277801\n",
              "CONT_VAL      1305971\n",
              "FF_DEATH        26499\n",
              "OTH_DEATH     2108003\n",
              "FF_INJ          26499\n",
              "OTH_INJ       2108003\n",
              "DET_ALERT     1468020\n",
              "HAZ_REL       1606682\n",
              "MIXED_USE     1754158\n",
              "PROP_USE       174726\n",
              "CENSUS        1739681\n",
              "dtype: int64"
            ]
          },
          "metadata": {},
          "execution_count": 109
        }
      ]
    },
    {
      "cell_type": "markdown",
      "metadata": {
        "id": "KfSabxcG43VH"
      },
      "source": [
        "## EDA: Which month had the most fires? Which MM/DD/YY had the most fires?"
      ]
    },
    {
      "cell_type": "code",
      "metadata": {
        "id": "vuJyDfa7As7u"
      },
      "source": [
        "df['INC_DATE'] = pd.to_datetime(df['INC_DATE']) # Convert the datatype to DateTime"
      ],
      "execution_count": null,
      "outputs": []
    },
    {
      "cell_type": "code",
      "metadata": {
        "id": "vP05kXDdkX_Z"
      },
      "source": [
        "tmp1 = df.copy() # Create a copy of main dataframe 'df'"
      ],
      "execution_count": null,
      "outputs": []
    },
    {
      "cell_type": "code",
      "metadata": {
        "id": "_zxnTMY6kXXx"
      },
      "source": [
        "tmp1['INC_TYPE'] = tmp1['INC_TYPE'].astype(str) # Convert the datatype to String"
      ],
      "execution_count": null,
      "outputs": []
    },
    {
      "cell_type": "code",
      "metadata": {
        "id": "jIm_vK5PkXQ4"
      },
      "source": [
        "tmp1 = tmp1[tmp1['INC_TYPE'].str.startswith('1')] # Return all rows where 'INC_TYPE' values start with a '1'."
      ],
      "execution_count": null,
      "outputs": []
    },
    {
      "cell_type": "code",
      "metadata": {
        "colab": {
          "base_uri": "https://localhost:8080/",
          "height": 408
        },
        "id": "HTOwjVdZkXHL",
        "outputId": "8bca6fe1-1bda-4258-a9c4-b2f567e1dd53"
      },
      "source": [
        "tmp1.head()"
      ],
      "execution_count": null,
      "outputs": [
        {
          "output_type": "execute_result",
          "data": {
            "text/html": [
              "<div>\n",
              "<style scoped>\n",
              "    .dataframe tbody tr th:only-of-type {\n",
              "        vertical-align: middle;\n",
              "    }\n",
              "\n",
              "    .dataframe tbody tr th {\n",
              "        vertical-align: top;\n",
              "    }\n",
              "\n",
              "    .dataframe thead th {\n",
              "        text-align: right;\n",
              "    }\n",
              "</style>\n",
              "<table border=\"1\" class=\"dataframe\">\n",
              "  <thead>\n",
              "    <tr style=\"text-align: right;\">\n",
              "      <th></th>\n",
              "      <th>Unnamed: 0</th>\n",
              "      <th>STATE</th>\n",
              "      <th>FDID</th>\n",
              "      <th>INC_DATE</th>\n",
              "      <th>INC_NO</th>\n",
              "      <th>EXP_NO</th>\n",
              "      <th>DEPT_STA</th>\n",
              "      <th>INC_TYPE</th>\n",
              "      <th>ADD_WILD</th>\n",
              "      <th>AID</th>\n",
              "      <th>ALARM</th>\n",
              "      <th>ARRIVAL</th>\n",
              "      <th>INC_CONT</th>\n",
              "      <th>LU_CLEAR</th>\n",
              "      <th>SHIFT</th>\n",
              "      <th>ALARMS</th>\n",
              "      <th>DISTRICT</th>\n",
              "      <th>ACT_TAK1</th>\n",
              "      <th>ACT_TAK2</th>\n",
              "      <th>ACT_TAK3</th>\n",
              "      <th>APP_MOD</th>\n",
              "      <th>SUP_APP</th>\n",
              "      <th>EMS_APP</th>\n",
              "      <th>OTH_APP</th>\n",
              "      <th>SUP_PER</th>\n",
              "      <th>EMS_PER</th>\n",
              "      <th>OTH_PER</th>\n",
              "      <th>RESOU_AID</th>\n",
              "      <th>PROP_LOSS</th>\n",
              "      <th>CONT_LOSS</th>\n",
              "      <th>PROP_VAL</th>\n",
              "      <th>CONT_VAL</th>\n",
              "      <th>FF_DEATH</th>\n",
              "      <th>OTH_DEATH</th>\n",
              "      <th>FF_INJ</th>\n",
              "      <th>OTH_INJ</th>\n",
              "      <th>DET_ALERT</th>\n",
              "      <th>HAZ_REL</th>\n",
              "      <th>MIXED_USE</th>\n",
              "      <th>PROP_USE</th>\n",
              "      <th>CENSUS</th>\n",
              "    </tr>\n",
              "  </thead>\n",
              "  <tbody>\n",
              "    <tr>\n",
              "      <th>2</th>\n",
              "      <td>3</td>\n",
              "      <td>AK</td>\n",
              "      <td>11100</td>\n",
              "      <td>2014-01-09</td>\n",
              "      <td>1030</td>\n",
              "      <td>0</td>\n",
              "      <td>3</td>\n",
              "      <td>114</td>\n",
              "      <td>N</td>\n",
              "      <td>N</td>\n",
              "      <td>2014-01-09 13:50:00</td>\n",
              "      <td>2014-01-09 13:54:00</td>\n",
              "      <td>NaN</td>\n",
              "      <td>2014-01-09 14:00:00</td>\n",
              "      <td>B</td>\n",
              "      <td>1</td>\n",
              "      <td>NaN</td>\n",
              "      <td>86</td>\n",
              "      <td>NaN</td>\n",
              "      <td>NaN</td>\n",
              "      <td>Y</td>\n",
              "      <td>5</td>\n",
              "      <td>1</td>\n",
              "      <td>1</td>\n",
              "      <td>7</td>\n",
              "      <td>2</td>\n",
              "      <td>1</td>\n",
              "      <td>N</td>\n",
              "      <td>0.0</td>\n",
              "      <td>0.0</td>\n",
              "      <td>NaN</td>\n",
              "      <td>NaN</td>\n",
              "      <td>0.0</td>\n",
              "      <td>NaN</td>\n",
              "      <td>0.0</td>\n",
              "      <td>NaN</td>\n",
              "      <td>U</td>\n",
              "      <td>N</td>\n",
              "      <td>NN</td>\n",
              "      <td>419</td>\n",
              "      <td>NaN</td>\n",
              "    </tr>\n",
              "    <tr>\n",
              "      <th>4</th>\n",
              "      <td>5</td>\n",
              "      <td>AK</td>\n",
              "      <td>11100</td>\n",
              "      <td>2014-01-11</td>\n",
              "      <td>1280</td>\n",
              "      <td>0</td>\n",
              "      <td>3</td>\n",
              "      <td>138</td>\n",
              "      <td>N</td>\n",
              "      <td>N</td>\n",
              "      <td>2014-01-11 11:48:00</td>\n",
              "      <td>2014-01-11 11:56:00</td>\n",
              "      <td>NaN</td>\n",
              "      <td>2014-01-11 13:30:00</td>\n",
              "      <td>A</td>\n",
              "      <td>1</td>\n",
              "      <td>NaN</td>\n",
              "      <td>11</td>\n",
              "      <td>12</td>\n",
              "      <td>81</td>\n",
              "      <td>Y</td>\n",
              "      <td>3</td>\n",
              "      <td>2</td>\n",
              "      <td>2</td>\n",
              "      <td>7</td>\n",
              "      <td>3</td>\n",
              "      <td>2</td>\n",
              "      <td>N</td>\n",
              "      <td>20000.0</td>\n",
              "      <td>0.0</td>\n",
              "      <td>50000.0</td>\n",
              "      <td>0.0</td>\n",
              "      <td>0.0</td>\n",
              "      <td>NaN</td>\n",
              "      <td>0.0</td>\n",
              "      <td>NaN</td>\n",
              "      <td>NaN</td>\n",
              "      <td>N</td>\n",
              "      <td>60</td>\n",
              "      <td>919</td>\n",
              "      <td>NaN</td>\n",
              "    </tr>\n",
              "    <tr>\n",
              "      <th>5</th>\n",
              "      <td>6</td>\n",
              "      <td>AK</td>\n",
              "      <td>11100</td>\n",
              "      <td>2014-01-12</td>\n",
              "      <td>1392</td>\n",
              "      <td>0</td>\n",
              "      <td>3</td>\n",
              "      <td>142</td>\n",
              "      <td>N</td>\n",
              "      <td>N</td>\n",
              "      <td>2014-01-12 09:53:00</td>\n",
              "      <td>2014-01-12 10:04:00</td>\n",
              "      <td>NaN</td>\n",
              "      <td>2014-01-12 10:44:00</td>\n",
              "      <td>B</td>\n",
              "      <td>1</td>\n",
              "      <td>NaN</td>\n",
              "      <td>11</td>\n",
              "      <td>86</td>\n",
              "      <td>NaN</td>\n",
              "      <td>Y</td>\n",
              "      <td>1</td>\n",
              "      <td>0</td>\n",
              "      <td>0</td>\n",
              "      <td>2</td>\n",
              "      <td>0</td>\n",
              "      <td>0</td>\n",
              "      <td>N</td>\n",
              "      <td>0.0</td>\n",
              "      <td>0.0</td>\n",
              "      <td>1500000.0</td>\n",
              "      <td>20000.0</td>\n",
              "      <td>0.0</td>\n",
              "      <td>NaN</td>\n",
              "      <td>0.0</td>\n",
              "      <td>NaN</td>\n",
              "      <td>NaN</td>\n",
              "      <td>N</td>\n",
              "      <td>NN</td>\n",
              "      <td>669</td>\n",
              "      <td>NaN</td>\n",
              "    </tr>\n",
              "    <tr>\n",
              "      <th>9</th>\n",
              "      <td>10</td>\n",
              "      <td>AK</td>\n",
              "      <td>11100</td>\n",
              "      <td>2014-01-17</td>\n",
              "      <td>2129</td>\n",
              "      <td>0</td>\n",
              "      <td>1</td>\n",
              "      <td>113</td>\n",
              "      <td>N</td>\n",
              "      <td>N</td>\n",
              "      <td>2014-01-17 18:43:00</td>\n",
              "      <td>2014-01-17 18:53:00</td>\n",
              "      <td>NaN</td>\n",
              "      <td>2014-01-17 18:54:00</td>\n",
              "      <td>A</td>\n",
              "      <td>1</td>\n",
              "      <td>NaN</td>\n",
              "      <td>86</td>\n",
              "      <td>85</td>\n",
              "      <td>NaN</td>\n",
              "      <td>Y</td>\n",
              "      <td>3</td>\n",
              "      <td>2</td>\n",
              "      <td>0</td>\n",
              "      <td>5</td>\n",
              "      <td>3</td>\n",
              "      <td>0</td>\n",
              "      <td>N</td>\n",
              "      <td>0.0</td>\n",
              "      <td>0.0</td>\n",
              "      <td>NaN</td>\n",
              "      <td>NaN</td>\n",
              "      <td>0.0</td>\n",
              "      <td>NaN</td>\n",
              "      <td>0.0</td>\n",
              "      <td>NaN</td>\n",
              "      <td>2</td>\n",
              "      <td>N</td>\n",
              "      <td>NN</td>\n",
              "      <td>429</td>\n",
              "      <td>NaN</td>\n",
              "    </tr>\n",
              "    <tr>\n",
              "      <th>10</th>\n",
              "      <td>11</td>\n",
              "      <td>AK</td>\n",
              "      <td>11100</td>\n",
              "      <td>2014-01-19</td>\n",
              "      <td>2314</td>\n",
              "      <td>0</td>\n",
              "      <td>1</td>\n",
              "      <td>111</td>\n",
              "      <td>N</td>\n",
              "      <td>N</td>\n",
              "      <td>2014-01-19 00:45:00</td>\n",
              "      <td>2014-01-19 00:56:00</td>\n",
              "      <td>NaN</td>\n",
              "      <td>2014-01-19 01:26:00</td>\n",
              "      <td>B</td>\n",
              "      <td>1</td>\n",
              "      <td>NaN</td>\n",
              "      <td>74</td>\n",
              "      <td>75</td>\n",
              "      <td>73</td>\n",
              "      <td>Y</td>\n",
              "      <td>5</td>\n",
              "      <td>2</td>\n",
              "      <td>1</td>\n",
              "      <td>9</td>\n",
              "      <td>4</td>\n",
              "      <td>1</td>\n",
              "      <td>N</td>\n",
              "      <td>250.0</td>\n",
              "      <td>1.0</td>\n",
              "      <td>50000.0</td>\n",
              "      <td>10000.0</td>\n",
              "      <td>0.0</td>\n",
              "      <td>NaN</td>\n",
              "      <td>0.0</td>\n",
              "      <td>NaN</td>\n",
              "      <td>NaN</td>\n",
              "      <td>N</td>\n",
              "      <td>NN</td>\n",
              "      <td>419</td>\n",
              "      <td>NaN</td>\n",
              "    </tr>\n",
              "  </tbody>\n",
              "</table>\n",
              "</div>"
            ],
            "text/plain": [
              "    Unnamed: 0 STATE   FDID   INC_DATE  ... HAZ_REL  MIXED_USE PROP_USE CENSUS\n",
              "2            3    AK  11100 2014-01-09  ...       N         NN      419    NaN\n",
              "4            5    AK  11100 2014-01-11  ...       N         60      919    NaN\n",
              "5            6    AK  11100 2014-01-12  ...       N         NN      669    NaN\n",
              "9           10    AK  11100 2014-01-17  ...       N         NN      429    NaN\n",
              "10          11    AK  11100 2014-01-19  ...       N         NN      419    NaN\n",
              "\n",
              "[5 rows x 41 columns]"
            ]
          },
          "metadata": {},
          "execution_count": 114
        }
      ]
    },
    {
      "cell_type": "code",
      "metadata": {
        "id": "46uUppUMk_LS"
      },
      "source": [
        "# Create a new column which has the corresponding month name from 'INC_DATE' column.\n",
        "tmp1['INC_DATE_MONTH'] = tmp1['INC_DATE'].dt.month_name()"
      ],
      "execution_count": null,
      "outputs": []
    },
    {
      "cell_type": "code",
      "metadata": {
        "colab": {
          "base_uri": "https://localhost:8080/"
        },
        "id": "V8eGu_QDlFSE",
        "outputId": "2e7377c1-503a-476e-cd86-d2cae5edfe7f"
      },
      "source": [
        "tmp1['INC_DATE_MONTH'].mode() # Return the month had the most fires"
      ],
      "execution_count": null,
      "outputs": [
        {
          "output_type": "execute_result",
          "data": {
            "text/plain": [
              "0    March\n",
              "dtype: object"
            ]
          },
          "metadata": {},
          "execution_count": 116
        }
      ]
    },
    {
      "cell_type": "code",
      "metadata": {
        "colab": {
          "base_uri": "https://localhost:8080/"
        },
        "id": "niDLxTJvlHT5",
        "outputId": "7b6fe89e-9cf7-4229-d0ae-8f9cff61e478"
      },
      "source": [
        "tmp1['INC_DATE'].mode() # Return the date that had the most fires"
      ],
      "execution_count": null,
      "outputs": [
        {
          "output_type": "execute_result",
          "data": {
            "text/plain": [
              "0   2014-07-04\n",
              "dtype: datetime64[ns]"
            ]
          },
          "metadata": {},
          "execution_count": 117
        }
      ]
    },
    {
      "cell_type": "markdown",
      "metadata": {
        "id": "Q1O8bZMw5BGg"
      },
      "source": [
        "## EDA: Which state had the most property loss (`df['PROP_LOSS']`)\n",
        "You will need to sum `'PROP_LOSS'` by group, where group is `'STATE'`."
      ]
    },
    {
      "cell_type": "code",
      "metadata": {
        "colab": {
          "base_uri": "https://localhost:8080/"
        },
        "id": "2oDC3db5uIu-",
        "outputId": "c480507e-022a-47e8-da32-9b6dcb07cb61"
      },
      "source": [
        "df.shape ## To check initial number of rows"
      ],
      "execution_count": null,
      "outputs": [
        {
          "output_type": "execute_result",
          "data": {
            "text/plain": [
              "(2116746, 41)"
            ]
          },
          "metadata": {},
          "execution_count": 118
        }
      ]
    },
    {
      "cell_type": "code",
      "metadata": {
        "id": "PZr7W0PGAtsf"
      },
      "source": [
        "df['PROP_LOSS'] = df['PROP_LOSS'].fillna(0) # Replace all missing values with 0."
      ],
      "execution_count": null,
      "outputs": []
    },
    {
      "cell_type": "code",
      "metadata": {
        "colab": {
          "base_uri": "https://localhost:8080/",
          "height": 1000
        },
        "id": "GyWa_z_rofh2",
        "outputId": "7ef4b98a-0ea4-40cf-a030-cb6275dedc2f"
      },
      "source": [
        "tmp = pd.DataFrame(df.PROP_LOSS.groupby(by=df.STATE).sum())   # Calculate the sum of property loss, convert it to a dataframe and store in tmp.\n",
        "tmp = tmp.sort_values(by=['PROP_LOSS'], ascending= False)     # Sort values in a descending order.\n",
        "tmp\n"
      ],
      "execution_count": null,
      "outputs": [
        {
          "output_type": "execute_result",
          "data": {
            "text/html": [
              "<div>\n",
              "<style scoped>\n",
              "    .dataframe tbody tr th:only-of-type {\n",
              "        vertical-align: middle;\n",
              "    }\n",
              "\n",
              "    .dataframe tbody tr th {\n",
              "        vertical-align: top;\n",
              "    }\n",
              "\n",
              "    .dataframe thead th {\n",
              "        text-align: right;\n",
              "    }\n",
              "</style>\n",
              "<table border=\"1\" class=\"dataframe\">\n",
              "  <thead>\n",
              "    <tr style=\"text-align: right;\">\n",
              "      <th></th>\n",
              "      <th>PROP_LOSS</th>\n",
              "    </tr>\n",
              "    <tr>\n",
              "      <th>STATE</th>\n",
              "      <th></th>\n",
              "    </tr>\n",
              "  </thead>\n",
              "  <tbody>\n",
              "    <tr>\n",
              "      <th>CA</th>\n",
              "      <td>839716885.0</td>\n",
              "    </tr>\n",
              "    <tr>\n",
              "      <th>TX</th>\n",
              "      <td>517798452.0</td>\n",
              "    </tr>\n",
              "    <tr>\n",
              "      <th>KY</th>\n",
              "      <td>497602050.0</td>\n",
              "    </tr>\n",
              "    <tr>\n",
              "      <th>FL</th>\n",
              "      <td>399988908.0</td>\n",
              "    </tr>\n",
              "    <tr>\n",
              "      <th>MI</th>\n",
              "      <td>385733330.0</td>\n",
              "    </tr>\n",
              "    <tr>\n",
              "      <th>IL</th>\n",
              "      <td>315622451.0</td>\n",
              "    </tr>\n",
              "    <tr>\n",
              "      <th>GA</th>\n",
              "      <td>286015916.0</td>\n",
              "    </tr>\n",
              "    <tr>\n",
              "      <th>OH</th>\n",
              "      <td>249603029.0</td>\n",
              "    </tr>\n",
              "    <tr>\n",
              "      <th>TN</th>\n",
              "      <td>206991064.0</td>\n",
              "    </tr>\n",
              "    <tr>\n",
              "      <th>WI</th>\n",
              "      <td>200223314.0</td>\n",
              "    </tr>\n",
              "    <tr>\n",
              "      <th>MA</th>\n",
              "      <td>200183589.0</td>\n",
              "    </tr>\n",
              "    <tr>\n",
              "      <th>WA</th>\n",
              "      <td>193980269.0</td>\n",
              "    </tr>\n",
              "    <tr>\n",
              "      <th>VA</th>\n",
              "      <td>187532875.0</td>\n",
              "    </tr>\n",
              "    <tr>\n",
              "      <th>NC</th>\n",
              "      <td>183656059.0</td>\n",
              "    </tr>\n",
              "    <tr>\n",
              "      <th>MN</th>\n",
              "      <td>170988037.0</td>\n",
              "    </tr>\n",
              "    <tr>\n",
              "      <th>AR</th>\n",
              "      <td>141774637.0</td>\n",
              "    </tr>\n",
              "    <tr>\n",
              "      <th>LA</th>\n",
              "      <td>139933855.0</td>\n",
              "    </tr>\n",
              "    <tr>\n",
              "      <th>SC</th>\n",
              "      <td>131919327.0</td>\n",
              "    </tr>\n",
              "    <tr>\n",
              "      <th>MS</th>\n",
              "      <td>130466925.0</td>\n",
              "    </tr>\n",
              "    <tr>\n",
              "      <th>MD</th>\n",
              "      <td>129775967.0</td>\n",
              "    </tr>\n",
              "    <tr>\n",
              "      <th>PA</th>\n",
              "      <td>114432744.0</td>\n",
              "    </tr>\n",
              "    <tr>\n",
              "      <th>IA</th>\n",
              "      <td>107669696.0</td>\n",
              "    </tr>\n",
              "    <tr>\n",
              "      <th>OR</th>\n",
              "      <td>99534936.0</td>\n",
              "    </tr>\n",
              "    <tr>\n",
              "      <th>MO</th>\n",
              "      <td>97007887.0</td>\n",
              "    </tr>\n",
              "    <tr>\n",
              "      <th>OK</th>\n",
              "      <td>96187504.0</td>\n",
              "    </tr>\n",
              "    <tr>\n",
              "      <th>NY</th>\n",
              "      <td>91536732.0</td>\n",
              "    </tr>\n",
              "    <tr>\n",
              "      <th>CT</th>\n",
              "      <td>90702164.0</td>\n",
              "    </tr>\n",
              "    <tr>\n",
              "      <th>NJ</th>\n",
              "      <td>90188742.0</td>\n",
              "    </tr>\n",
              "    <tr>\n",
              "      <th>KS</th>\n",
              "      <td>85692832.0</td>\n",
              "    </tr>\n",
              "    <tr>\n",
              "      <th>WV</th>\n",
              "      <td>84619213.0</td>\n",
              "    </tr>\n",
              "    <tr>\n",
              "      <th>NM</th>\n",
              "      <td>59686091.0</td>\n",
              "    </tr>\n",
              "    <tr>\n",
              "      <th>AZ</th>\n",
              "      <td>58583790.0</td>\n",
              "    </tr>\n",
              "    <tr>\n",
              "      <th>AL</th>\n",
              "      <td>57052431.0</td>\n",
              "    </tr>\n",
              "    <tr>\n",
              "      <th>CO</th>\n",
              "      <td>56018342.0</td>\n",
              "    </tr>\n",
              "    <tr>\n",
              "      <th>AK</th>\n",
              "      <td>52470529.0</td>\n",
              "    </tr>\n",
              "    <tr>\n",
              "      <th>UT</th>\n",
              "      <td>36039167.0</td>\n",
              "    </tr>\n",
              "    <tr>\n",
              "      <th>ID</th>\n",
              "      <td>31145057.0</td>\n",
              "    </tr>\n",
              "    <tr>\n",
              "      <th>NE</th>\n",
              "      <td>30347577.0</td>\n",
              "    </tr>\n",
              "    <tr>\n",
              "      <th>MT</th>\n",
              "      <td>29537161.0</td>\n",
              "    </tr>\n",
              "    <tr>\n",
              "      <th>ME</th>\n",
              "      <td>29032039.0</td>\n",
              "    </tr>\n",
              "    <tr>\n",
              "      <th>ND</th>\n",
              "      <td>24564192.0</td>\n",
              "    </tr>\n",
              "    <tr>\n",
              "      <th>NH</th>\n",
              "      <td>24334552.0</td>\n",
              "    </tr>\n",
              "    <tr>\n",
              "      <th>NV</th>\n",
              "      <td>23329260.0</td>\n",
              "    </tr>\n",
              "    <tr>\n",
              "      <th>HI</th>\n",
              "      <td>19645221.0</td>\n",
              "    </tr>\n",
              "    <tr>\n",
              "      <th>VT</th>\n",
              "      <td>17138357.0</td>\n",
              "    </tr>\n",
              "    <tr>\n",
              "      <th>IN</th>\n",
              "      <td>15440681.0</td>\n",
              "    </tr>\n",
              "    <tr>\n",
              "      <th>SD</th>\n",
              "      <td>14211795.0</td>\n",
              "    </tr>\n",
              "    <tr>\n",
              "      <th>RI</th>\n",
              "      <td>12657936.0</td>\n",
              "    </tr>\n",
              "    <tr>\n",
              "      <th>WY</th>\n",
              "      <td>6306986.0</td>\n",
              "    </tr>\n",
              "    <tr>\n",
              "      <th>DE</th>\n",
              "      <td>5889224.0</td>\n",
              "    </tr>\n",
              "    <tr>\n",
              "      <th>DC</th>\n",
              "      <td>1987530.0</td>\n",
              "    </tr>\n",
              "  </tbody>\n",
              "</table>\n",
              "</div>"
            ],
            "text/plain": [
              "         PROP_LOSS\n",
              "STATE             \n",
              "CA     839716885.0\n",
              "TX     517798452.0\n",
              "KY     497602050.0\n",
              "FL     399988908.0\n",
              "MI     385733330.0\n",
              "IL     315622451.0\n",
              "GA     286015916.0\n",
              "OH     249603029.0\n",
              "TN     206991064.0\n",
              "WI     200223314.0\n",
              "MA     200183589.0\n",
              "WA     193980269.0\n",
              "VA     187532875.0\n",
              "NC     183656059.0\n",
              "MN     170988037.0\n",
              "AR     141774637.0\n",
              "LA     139933855.0\n",
              "SC     131919327.0\n",
              "MS     130466925.0\n",
              "MD     129775967.0\n",
              "PA     114432744.0\n",
              "IA     107669696.0\n",
              "OR      99534936.0\n",
              "MO      97007887.0\n",
              "OK      96187504.0\n",
              "NY      91536732.0\n",
              "CT      90702164.0\n",
              "NJ      90188742.0\n",
              "KS      85692832.0\n",
              "WV      84619213.0\n",
              "NM      59686091.0\n",
              "AZ      58583790.0\n",
              "AL      57052431.0\n",
              "CO      56018342.0\n",
              "AK      52470529.0\n",
              "UT      36039167.0\n",
              "ID      31145057.0\n",
              "NE      30347577.0\n",
              "MT      29537161.0\n",
              "ME      29032039.0\n",
              "ND      24564192.0\n",
              "NH      24334552.0\n",
              "NV      23329260.0\n",
              "HI      19645221.0\n",
              "VT      17138357.0\n",
              "IN      15440681.0\n",
              "SD      14211795.0\n",
              "RI      12657936.0\n",
              "WY       6306986.0\n",
              "DE       5889224.0\n",
              "DC       1987530.0"
            ]
          },
          "metadata": {},
          "execution_count": 120
        }
      ]
    },
    {
      "cell_type": "code",
      "metadata": {
        "colab": {
          "base_uri": "https://localhost:8080/",
          "height": 110
        },
        "id": "T79LVdHivmCz",
        "outputId": "e084936d-9dbd-4267-c417-180ca7aa3a0d"
      },
      "source": [
        "tmp.head(1) # Get the top value with highest property loss."
      ],
      "execution_count": null,
      "outputs": [
        {
          "output_type": "execute_result",
          "data": {
            "text/html": [
              "<div>\n",
              "<style scoped>\n",
              "    .dataframe tbody tr th:only-of-type {\n",
              "        vertical-align: middle;\n",
              "    }\n",
              "\n",
              "    .dataframe tbody tr th {\n",
              "        vertical-align: top;\n",
              "    }\n",
              "\n",
              "    .dataframe thead th {\n",
              "        text-align: right;\n",
              "    }\n",
              "</style>\n",
              "<table border=\"1\" class=\"dataframe\">\n",
              "  <thead>\n",
              "    <tr style=\"text-align: right;\">\n",
              "      <th></th>\n",
              "      <th>PROP_LOSS</th>\n",
              "    </tr>\n",
              "    <tr>\n",
              "      <th>STATE</th>\n",
              "      <th></th>\n",
              "    </tr>\n",
              "  </thead>\n",
              "  <tbody>\n",
              "    <tr>\n",
              "      <th>CA</th>\n",
              "      <td>839716885.0</td>\n",
              "    </tr>\n",
              "  </tbody>\n",
              "</table>\n",
              "</div>"
            ],
            "text/plain": [
              "         PROP_LOSS\n",
              "STATE             \n",
              "CA     839716885.0"
            ]
          },
          "metadata": {},
          "execution_count": 121
        }
      ]
    },
    {
      "cell_type": "markdown",
      "metadata": {
        "id": "MMPOgYu15ReQ"
      },
      "source": [
        "## EDA: Only keep rows where `df['PROP_LOSS`]` is greater than 1000. \n",
        "Count how many rows there are now that you have discarded now that you've dropped anything less than 1000. Compute summary statistics of `df['PROP_LOSS`] column."
      ]
    },
    {
      "cell_type": "code",
      "metadata": {
        "colab": {
          "base_uri": "https://localhost:8080/"
        },
        "id": "iUb1lgnQwCX9",
        "outputId": "45919f59-099b-4cf4-f35b-42813edbda70"
      },
      "source": [
        "df.shape"
      ],
      "execution_count": null,
      "outputs": [
        {
          "output_type": "execute_result",
          "data": {
            "text/plain": [
              "(2116746, 41)"
            ]
          },
          "metadata": {},
          "execution_count": 122
        }
      ]
    },
    {
      "cell_type": "code",
      "metadata": {
        "id": "Y1MG-1JorG8T"
      },
      "source": [
        "df.drop(df[df['PROP_LOSS'] <= 1000].index, inplace = True) # Drop all rows where property loss is less than or equal to 1000."
      ],
      "execution_count": null,
      "outputs": []
    },
    {
      "cell_type": "code",
      "metadata": {
        "colab": {
          "base_uri": "https://localhost:8080/"
        },
        "id": "1pi0MMQ1tsKT",
        "outputId": "083e4a19-5774-415f-f6f2-83d30d74b4c8"
      },
      "source": [
        "df.shape"
      ],
      "execution_count": null,
      "outputs": [
        {
          "output_type": "execute_result",
          "data": {
            "text/plain": [
              "(169362, 41)"
            ]
          },
          "metadata": {},
          "execution_count": 124
        }
      ]
    },
    {
      "cell_type": "code",
      "metadata": {
        "id": "rxSrDYQmrXoS",
        "colab": {
          "base_uri": "https://localhost:8080/"
        },
        "outputId": "e271b40c-d5b4-487b-be7d-41c495507f65"
      },
      "source": [
        "df.PROP_LOSS.describe()"
      ],
      "execution_count": null,
      "outputs": [
        {
          "output_type": "execute_result",
          "data": {
            "text/plain": [
              "count    1.693620e+05\n",
              "mean     4.151527e+04\n",
              "std      1.107988e+06\n",
              "min      1.001000e+03\n",
              "25%      3.500000e+03\n",
              "50%      8.987500e+03\n",
              "75%      2.500000e+04\n",
              "max      4.000000e+08\n",
              "Name: PROP_LOSS, dtype: float64"
            ]
          },
          "metadata": {},
          "execution_count": 125
        }
      ]
    },
    {
      "cell_type": "markdown",
      "metadata": {
        "id": "HqLS4ei55srQ"
      },
      "source": [
        "## EDA: Only keep rows where `df['PROP_VAL`]` is greater than 1000. \n",
        "Count how many rows there are now that you have discarded now that you've dropped anything less than 1000. Compute summary statistics of `df['PROP_VAL`] column."
      ]
    },
    {
      "cell_type": "code",
      "metadata": {
        "colab": {
          "base_uri": "https://localhost:8080/"
        },
        "id": "yoTF6E6ewQ9u",
        "outputId": "94a82bc4-6ad1-45c0-9870-8369db0ac681"
      },
      "source": [
        "df.shape"
      ],
      "execution_count": null,
      "outputs": [
        {
          "output_type": "execute_result",
          "data": {
            "text/plain": [
              "(169362, 41)"
            ]
          },
          "metadata": {},
          "execution_count": 126
        }
      ]
    },
    {
      "cell_type": "code",
      "metadata": {
        "id": "GrhAzu7hsKaR"
      },
      "source": [
        "df.drop(df[df['PROP_VAL'] <= 1000].index, inplace = True) # Drop all rows where property value is less than or equal to 1000"
      ],
      "execution_count": null,
      "outputs": []
    },
    {
      "cell_type": "code",
      "metadata": {
        "colab": {
          "base_uri": "https://localhost:8080/"
        },
        "id": "r3AFfvW9tgCv",
        "outputId": "4312595c-c1c2-42bb-ff09-791dbf548d2a"
      },
      "source": [
        "df.shape"
      ],
      "execution_count": null,
      "outputs": [
        {
          "output_type": "execute_result",
          "data": {
            "text/plain": [
              "(169362, 41)"
            ]
          },
          "metadata": {},
          "execution_count": 128
        }
      ]
    },
    {
      "cell_type": "code",
      "metadata": {
        "colab": {
          "base_uri": "https://localhost:8080/"
        },
        "id": "n4_lVxNItw_Y",
        "outputId": "67f4e11a-2107-4588-b610-340deb8b6ca2"
      },
      "source": [
        "df.PROP_VAL.describe()   ## statistics of PROP_VAL column"
      ],
      "execution_count": null,
      "outputs": [
        {
          "output_type": "execute_result",
          "data": {
            "text/plain": [
              "count    1.227290e+05\n",
              "mean     3.261011e+05\n",
              "std      7.079028e+06\n",
              "min      1.001000e+03\n",
              "25%      5.250000e+03\n",
              "50%      2.791600e+04\n",
              "75%      1.000000e+05\n",
              "max      1.000000e+09\n",
              "Name: PROP_VAL, dtype: float64"
            ]
          },
          "metadata": {},
          "execution_count": 129
        }
      ]
    },
    {
      "cell_type": "markdown",
      "metadata": {
        "id": "EPzKGNeS50m4"
      },
      "source": [
        "## EDA: Convert `df['CENSUS']` column to numeric and coerce the errors.\n",
        "And check the shape of your dataframe."
      ]
    },
    {
      "cell_type": "code",
      "metadata": {
        "id": "BL6IXQOE9Tqp"
      },
      "source": [
        "df['CENSUS'] = pd.to_numeric(df['CENSUS'], errors = 'coerce') # Change datatype to numeric."
      ],
      "execution_count": null,
      "outputs": []
    },
    {
      "cell_type": "markdown",
      "metadata": {
        "id": "VBl-zvcI6AN3"
      },
      "source": [
        "## EDA: Only keep rows in `df['CENSUS`] that are greater than 0.\n",
        "We only want to work with data that we know where it is."
      ]
    },
    {
      "cell_type": "code",
      "metadata": {
        "id": "tEqn_cUU9GMz",
        "colab": {
          "base_uri": "https://localhost:8080/",
          "height": 408
        },
        "outputId": "f3925eaa-e9eb-478d-f62c-e2819365ac81"
      },
      "source": [
        "df = df[df['CENSUS'] > 0]      ## for values > 0\n",
        "\n",
        "df.head()"
      ],
      "execution_count": null,
      "outputs": [
        {
          "output_type": "execute_result",
          "data": {
            "text/html": [
              "<div>\n",
              "<style scoped>\n",
              "    .dataframe tbody tr th:only-of-type {\n",
              "        vertical-align: middle;\n",
              "    }\n",
              "\n",
              "    .dataframe tbody tr th {\n",
              "        vertical-align: top;\n",
              "    }\n",
              "\n",
              "    .dataframe thead th {\n",
              "        text-align: right;\n",
              "    }\n",
              "</style>\n",
              "<table border=\"1\" class=\"dataframe\">\n",
              "  <thead>\n",
              "    <tr style=\"text-align: right;\">\n",
              "      <th></th>\n",
              "      <th>Unnamed: 0</th>\n",
              "      <th>STATE</th>\n",
              "      <th>FDID</th>\n",
              "      <th>INC_DATE</th>\n",
              "      <th>INC_NO</th>\n",
              "      <th>EXP_NO</th>\n",
              "      <th>DEPT_STA</th>\n",
              "      <th>INC_TYPE</th>\n",
              "      <th>ADD_WILD</th>\n",
              "      <th>AID</th>\n",
              "      <th>ALARM</th>\n",
              "      <th>ARRIVAL</th>\n",
              "      <th>INC_CONT</th>\n",
              "      <th>LU_CLEAR</th>\n",
              "      <th>SHIFT</th>\n",
              "      <th>ALARMS</th>\n",
              "      <th>DISTRICT</th>\n",
              "      <th>ACT_TAK1</th>\n",
              "      <th>ACT_TAK2</th>\n",
              "      <th>ACT_TAK3</th>\n",
              "      <th>APP_MOD</th>\n",
              "      <th>SUP_APP</th>\n",
              "      <th>EMS_APP</th>\n",
              "      <th>OTH_APP</th>\n",
              "      <th>SUP_PER</th>\n",
              "      <th>EMS_PER</th>\n",
              "      <th>OTH_PER</th>\n",
              "      <th>RESOU_AID</th>\n",
              "      <th>PROP_LOSS</th>\n",
              "      <th>CONT_LOSS</th>\n",
              "      <th>PROP_VAL</th>\n",
              "      <th>CONT_VAL</th>\n",
              "      <th>FF_DEATH</th>\n",
              "      <th>OTH_DEATH</th>\n",
              "      <th>FF_INJ</th>\n",
              "      <th>OTH_INJ</th>\n",
              "      <th>DET_ALERT</th>\n",
              "      <th>HAZ_REL</th>\n",
              "      <th>MIXED_USE</th>\n",
              "      <th>PROP_USE</th>\n",
              "      <th>CENSUS</th>\n",
              "    </tr>\n",
              "  </thead>\n",
              "  <tbody>\n",
              "    <tr>\n",
              "      <th>771</th>\n",
              "      <td>772</td>\n",
              "      <td>AK</td>\n",
              "      <td>23100</td>\n",
              "      <td>2014-02-17</td>\n",
              "      <td>0004617</td>\n",
              "      <td>1</td>\n",
              "      <td>NaN</td>\n",
              "      <td>131</td>\n",
              "      <td>N</td>\n",
              "      <td>N</td>\n",
              "      <td>2014-02-17 10:52:00</td>\n",
              "      <td>2014-02-17 10:59:00</td>\n",
              "      <td>NaN</td>\n",
              "      <td>2014-02-17 11:31:00</td>\n",
              "      <td>A</td>\n",
              "      <td>NaN</td>\n",
              "      <td>001</td>\n",
              "      <td>86</td>\n",
              "      <td>NaN</td>\n",
              "      <td>NaN</td>\n",
              "      <td>N</td>\n",
              "      <td>1</td>\n",
              "      <td>0</td>\n",
              "      <td>0</td>\n",
              "      <td>3</td>\n",
              "      <td>0</td>\n",
              "      <td>0</td>\n",
              "      <td>N</td>\n",
              "      <td>4000.0</td>\n",
              "      <td>0.0</td>\n",
              "      <td>16000.0</td>\n",
              "      <td>0.0</td>\n",
              "      <td>0.0</td>\n",
              "      <td>NaN</td>\n",
              "      <td>0.0</td>\n",
              "      <td>NaN</td>\n",
              "      <td>U</td>\n",
              "      <td>NaN</td>\n",
              "      <td>NaN</td>\n",
              "      <td>965</td>\n",
              "      <td>50.0</td>\n",
              "    </tr>\n",
              "    <tr>\n",
              "      <th>772</th>\n",
              "      <td>773</td>\n",
              "      <td>AK</td>\n",
              "      <td>23100</td>\n",
              "      <td>2014-02-17</td>\n",
              "      <td>0004617</td>\n",
              "      <td>2</td>\n",
              "      <td>NaN</td>\n",
              "      <td>131</td>\n",
              "      <td>N</td>\n",
              "      <td>N</td>\n",
              "      <td>2014-02-17 10:52:00</td>\n",
              "      <td>2014-02-17 10:59:00</td>\n",
              "      <td>NaN</td>\n",
              "      <td>2014-02-17 11:31:00</td>\n",
              "      <td>A</td>\n",
              "      <td>NaN</td>\n",
              "      <td>001</td>\n",
              "      <td>86</td>\n",
              "      <td>NaN</td>\n",
              "      <td>NaN</td>\n",
              "      <td>N</td>\n",
              "      <td>1</td>\n",
              "      <td>0</td>\n",
              "      <td>0</td>\n",
              "      <td>3</td>\n",
              "      <td>0</td>\n",
              "      <td>0</td>\n",
              "      <td>N</td>\n",
              "      <td>2000.0</td>\n",
              "      <td>0.0</td>\n",
              "      <td>30000.0</td>\n",
              "      <td>0.0</td>\n",
              "      <td>0.0</td>\n",
              "      <td>NaN</td>\n",
              "      <td>0.0</td>\n",
              "      <td>NaN</td>\n",
              "      <td>U</td>\n",
              "      <td>NaN</td>\n",
              "      <td>NaN</td>\n",
              "      <td>965</td>\n",
              "      <td>50.0</td>\n",
              "    </tr>\n",
              "    <tr>\n",
              "      <th>3130</th>\n",
              "      <td>3131</td>\n",
              "      <td>AK</td>\n",
              "      <td>25400</td>\n",
              "      <td>2014-03-11</td>\n",
              "      <td>8888</td>\n",
              "      <td>0</td>\n",
              "      <td>91</td>\n",
              "      <td>111</td>\n",
              "      <td>N</td>\n",
              "      <td>2</td>\n",
              "      <td>2014-03-11 16:06:00</td>\n",
              "      <td>2014-03-11 16:16:00</td>\n",
              "      <td>3.112014e+10</td>\n",
              "      <td>2014-03-11 18:40:00</td>\n",
              "      <td>NaN</td>\n",
              "      <td>NaN</td>\n",
              "      <td>NaN</td>\n",
              "      <td>11</td>\n",
              "      <td>NaN</td>\n",
              "      <td>NaN</td>\n",
              "      <td>N</td>\n",
              "      <td>4</td>\n",
              "      <td>0</td>\n",
              "      <td>2</td>\n",
              "      <td>10</td>\n",
              "      <td>0</td>\n",
              "      <td>5</td>\n",
              "      <td>N</td>\n",
              "      <td>20000.0</td>\n",
              "      <td>5000.0</td>\n",
              "      <td>NaN</td>\n",
              "      <td>NaN</td>\n",
              "      <td>0.0</td>\n",
              "      <td>NaN</td>\n",
              "      <td>0.0</td>\n",
              "      <td>NaN</td>\n",
              "      <td>2</td>\n",
              "      <td>NaN</td>\n",
              "      <td>NaN</td>\n",
              "      <td>419</td>\n",
              "      <td>9.0</td>\n",
              "    </tr>\n",
              "    <tr>\n",
              "      <th>3149</th>\n",
              "      <td>3150</td>\n",
              "      <td>AK</td>\n",
              "      <td>25400</td>\n",
              "      <td>2014-06-09</td>\n",
              "      <td>22252</td>\n",
              "      <td>0</td>\n",
              "      <td>91</td>\n",
              "      <td>111</td>\n",
              "      <td>N</td>\n",
              "      <td>2</td>\n",
              "      <td>2014-06-09 14:15:00</td>\n",
              "      <td>2014-06-09 14:19:00</td>\n",
              "      <td>NaN</td>\n",
              "      <td>2014-06-09 16:08:00</td>\n",
              "      <td>NaN</td>\n",
              "      <td>NaN</td>\n",
              "      <td>NaN</td>\n",
              "      <td>11</td>\n",
              "      <td>12</td>\n",
              "      <td>86</td>\n",
              "      <td>Y</td>\n",
              "      <td>4</td>\n",
              "      <td>0</td>\n",
              "      <td>0</td>\n",
              "      <td>9</td>\n",
              "      <td>0</td>\n",
              "      <td>0</td>\n",
              "      <td>N</td>\n",
              "      <td>2000.0</td>\n",
              "      <td>0.0</td>\n",
              "      <td>10000.0</td>\n",
              "      <td>25000.0</td>\n",
              "      <td>0.0</td>\n",
              "      <td>NaN</td>\n",
              "      <td>0.0</td>\n",
              "      <td>NaN</td>\n",
              "      <td>1</td>\n",
              "      <td>N</td>\n",
              "      <td>NN</td>\n",
              "      <td>419</td>\n",
              "      <td>9.0</td>\n",
              "    </tr>\n",
              "    <tr>\n",
              "      <th>3173</th>\n",
              "      <td>3174</td>\n",
              "      <td>AK</td>\n",
              "      <td>25400</td>\n",
              "      <td>2014-10-23</td>\n",
              "      <td>44572</td>\n",
              "      <td>0</td>\n",
              "      <td>91</td>\n",
              "      <td>111</td>\n",
              "      <td>N</td>\n",
              "      <td>2</td>\n",
              "      <td>2014-10-23 16:48:00</td>\n",
              "      <td>2014-10-23 16:56:00</td>\n",
              "      <td>1.023201e+11</td>\n",
              "      <td>2014-10-23 17:49:00</td>\n",
              "      <td>NaN</td>\n",
              "      <td>NaN</td>\n",
              "      <td>NaN</td>\n",
              "      <td>11</td>\n",
              "      <td>12</td>\n",
              "      <td>NaN</td>\n",
              "      <td>N</td>\n",
              "      <td>3</td>\n",
              "      <td>0</td>\n",
              "      <td>0</td>\n",
              "      <td>10</td>\n",
              "      <td>0</td>\n",
              "      <td>0</td>\n",
              "      <td>N</td>\n",
              "      <td>10000.0</td>\n",
              "      <td>0.0</td>\n",
              "      <td>NaN</td>\n",
              "      <td>0.0</td>\n",
              "      <td>0.0</td>\n",
              "      <td>NaN</td>\n",
              "      <td>0.0</td>\n",
              "      <td>NaN</td>\n",
              "      <td>2</td>\n",
              "      <td>NaN</td>\n",
              "      <td>NaN</td>\n",
              "      <td>419</td>\n",
              "      <td>9.0</td>\n",
              "    </tr>\n",
              "  </tbody>\n",
              "</table>\n",
              "</div>"
            ],
            "text/plain": [
              "      Unnamed: 0 STATE   FDID   INC_DATE  ... HAZ_REL  MIXED_USE PROP_USE  CENSUS\n",
              "771          772    AK  23100 2014-02-17  ...     NaN        NaN      965    50.0\n",
              "772          773    AK  23100 2014-02-17  ...     NaN        NaN      965    50.0\n",
              "3130        3131    AK  25400 2014-03-11  ...     NaN        NaN      419     9.0\n",
              "3149        3150    AK  25400 2014-06-09  ...       N         NN      419     9.0\n",
              "3173        3174    AK  25400 2014-10-23  ...     NaN        NaN      419     9.0\n",
              "\n",
              "[5 rows x 41 columns]"
            ]
          },
          "metadata": {},
          "execution_count": 131
        }
      ]
    },
    {
      "cell_type": "markdown",
      "metadata": {
        "id": "YCy_62zU6LRb"
      },
      "source": [
        "## EDA: Make a scatterplot of `x='PROP_VAL'` and `y='PROP_LOSS'`. \n",
        "Add nice axis titles, a plot title, a cool marker color, and most importantly, a bullet point about what you see."
      ]
    },
    {
      "cell_type": "code",
      "metadata": {
        "id": "4czvrbXAUto0"
      },
      "source": [
        "import matplotlib.pyplot as plt"
      ],
      "execution_count": null,
      "outputs": []
    },
    {
      "cell_type": "code",
      "metadata": {
        "colab": {
          "base_uri": "https://localhost:8080/",
          "height": 435
        },
        "id": "jxj1rrFcUcE-",
        "outputId": "ffd4362c-6bf9-444b-a5be-d12e378fb903"
      },
      "source": [
        "plt.figure(figsize=(10, 6))\n",
        "\n",
        "plt.scatter(x=df['PROP_VAL'], y=df['PROP_LOSS'], c='red') # Scatter plot\n",
        "\n",
        "plt.xlim([1E3, 1E7]) # X-axis limit\n",
        "\n",
        "plt.ylim([1E3, 1E7]) # Y-axis limit\n",
        "\n",
        "plt.xlabel('Property Value')\n",
        "\n",
        "plt.ylabel('Property Loss')\n",
        "\n",
        "plt.xscale('log')\n",
        "\n",
        "plt.yscale('log')\n",
        "\n",
        "plt.axis('tight')\n",
        "\n",
        "plt.suptitle('PROP_LOSS vs PROP_VAL')\n",
        "\n",
        "plt.show()"
      ],
      "execution_count": null,
      "outputs": [
        {
          "output_type": "display_data",
          "data": {
            "image/png": "[encoded data removed]",
            "text/plain": [
              "<Figure size 720x432 with 1 Axes>"
            ]
          },
          "metadata": {
            "needs_background": "light"
          }
        }
      ]
    },
    {
      "cell_type": "markdown",
      "metadata": {
        "id": "5LFCDCJnWI3z"
      },
      "source": [
        "**Looking at the plot we see that Property value has a positive co-relation with Property Loss.**"
      ]
    },
    {
      "cell_type": "markdown",
      "metadata": {
        "id": "cY_vkQ2Q-75n"
      },
      "source": [
        "## EDA: Make one interesting plot and one interesting table on your own.\n",
        "Be creative!"
      ]
    },
    {
      "cell_type": "markdown",
      "metadata": {
        "id": "zatA-Iod_C8f"
      },
      "source": [
        "###**Interesting Plot**\n",
        "### We will be showing the state wise Property loss On map\n",
        "###Based on color intensity scale on Property loss data we will be able to identify the states with highest to lowest property loss"
      ]
    },
    {
      "cell_type": "code",
      "metadata": {
        "id": "N9MORHzu_ICW"
      },
      "source": [
        "# be creative!\n",
        "import plotly.express as px"
      ],
      "execution_count": null,
      "outputs": []
    },
    {
      "cell_type": "code",
      "metadata": {
        "colab": {
          "base_uri": "https://localhost:8080/"
        },
        "id": "O4SBiZlO6aEX",
        "outputId": "bd73a5ec-50bb-4a0f-f618-16887efc96e5"
      },
      "source": [
        "## find sum for each States Property loss\n",
        "tmp = pd.DataFrame(df.PROP_LOSS.groupby(by=df.STATE).sum())  \n",
        "tmp.reset_index(inplace=True)\n",
        "# tmp = tmp.sort_values(by=['PROP_LOSS'], ascending= False)\n",
        "# tmp.reset_index(drop=False)\n",
        "tmp.info()\n"
      ],
      "execution_count": null,
      "outputs": [
        {
          "output_type": "stream",
          "name": "stdout",
          "text": [
            "<class 'pandas.core.frame.DataFrame'>\n",
            "RangeIndex: 49 entries, 0 to 48\n",
            "Data columns (total 2 columns):\n",
            " #   Column     Non-Null Count  Dtype  \n",
            "---  ------     --------------  -----  \n",
            " 0   STATE      49 non-null     object \n",
            " 1   PROP_LOSS  49 non-null     float64\n",
            "dtypes: float64(1), object(1)\n",
            "memory usage: 912.0+ bytes\n"
          ]
        }
      ]
    },
    {
      "cell_type": "code",
      "metadata": {
        "colab": {
          "base_uri": "https://localhost:8080/",
          "height": 542
        },
        "id": "8O8wGc7J4pEB",
        "outputId": "01d679e9-9049-4d1a-99a3-db618c8e2d42"
      },
      "source": [
        "## And here's the interesting Plot\n",
        "## using choropleth to plot the states in USA\n",
        "fig = px.choropleth(tmp,\n",
        "                    locations='STATE',\n",
        "                    color='PROP_LOSS',\n",
        "                    color_continuous_scale='spectral_r',    \n",
        "                    locationmode='USA-states',\n",
        "                    scope='usa')\n",
        "\n",
        "## color coninous is used to set color accordng to the values in the states\n",
        "\n",
        "## adding names of the states to the plot\n",
        "fig.add_scattergeo(\n",
        "    locations=tmp['STATE'],\n",
        "    locationmode='USA-states',\n",
        "    text=tmp['STATE'],\n",
        "    mode='text')\n",
        "\n",
        "## To allign the name of the states to the centre of each state in map\n",
        "fig.update_layout(\n",
        "    title={'text':'Property LOSS by State',\n",
        "           'xanchor':'center',\n",
        "           'yanchor':'top',\n",
        "           'x':0.5})\n",
        "\n",
        "fig.show()\n",
        "\n"
      ],
      "execution_count": null,
      "outputs": [
        {
          "output_type": "display_data",
          "data": {
            "text/html": [
              "<html>\n",
              "<head><meta charset=\"utf-8\" /></head>\n",
              "<body>\n",
              "    <div>\n",
              "            <script src=\"https://cdnjs.cloudflare.com/ajax/libs/mathjax/2.7.5/MathJax.js?config=TeX-AMS-MML_SVG\"></script><script type=\"text/javascript\">if (window.MathJax) {MathJax.Hub.Config({SVG: {font: \"STIX-Web\"}});}</script>\n",
              "                <script type=\"text/javascript\">window.PlotlyConfig = {MathJaxConfig: 'local'};</script>\n",
              "        <script src=\"https://cdn.plot.ly/plotly-latest.min.js\"></script>    \n",
              "            <div id=\"ec673e29-8382-40af-b135-224921504252\" class=\"plotly-graph-div\" style=\"height:525px; width:100%;\"></div>\n",
              "            <script type=\"text/javascript\">\n",
              "                \n",
              "                    window.PLOTLYENV=window.PLOTLYENV || {};\n",
              "                    \n",
              "                if (document.getElementById(\"ec673e29-8382-40af-b135-224921504252\")) {\n",
              "                    Plotly.newPlot(\n",
              "                        'ec673e29-8382-40af-b135-224921504252',\n",
              "                        [{\"coloraxis\": \"coloraxis\", \"geo\": \"geo\", \"hoverlabel\": {\"namelength\": 0}, \"hovertemplate\": \"STATE=%{location}<br>PROP_LOSS=%{z}\", \"locationmode\": \"USA-states\", \"locations\": [\"AK\", \"AL\", \"AR\", \"AZ\", \"CA\", \"CO\", \"CT\", \"DE\", \"FL\", \"GA\", \"HI\", \"IA\", \"ID\", \"IL\", \"IN\", \"KS\", \"KY\", \"LA\", \"MA\", \"MD\", \"ME\", \"MI\", \"MN\", \"MO\", \"MS\", \"MT\", \"NC\", \"ND\", \"NE\", \"NH\", \"NJ\", \"NM\", \"NV\", \"NY\", \"OH\", \"OK\", \"OR\", \"PA\", \"RI\", \"SC\", \"SD\", \"TN\", \"TX\", \"UT\", \"VA\", \"VT\", \"WA\", \"WI\", \"WV\"], \"name\": \"\", \"type\": \"choropleth\", \"z\": [3986026.0, 1812200.0, 3185213.0, 3186100.0, 274753911.0, 4267500.0, 44397950.0, 1000000.0, 108012127.0, 68691708.0, 19546411.0, 7651151.0, 3042225.0, 93774768.0, 2931500.0, 7768216.0, 19915721.0, 17579752.0, 58643575.0, 12012600.0, 3356000.0, 48184436.0, 13028947.0, 6895962.0, 5549430.0, 181500.0, 12349829.0, 1472100.0, 164000.0, 4691549.0, 24824243.0, 221500.0, 1120000.0, 3356949.0, 59118903.0, 7649700.0, 11990297.0, 24772264.0, 8919476.0, 12093600.0, 290500.0, 9022180.0, 86884553.0, 3926674.0, 26597547.0, 26959.0, 12363371.0, 14161588.0, 16709918.0]}, {\"locationmode\": \"USA-states\", \"locations\": [\"AK\", \"AL\", \"AR\", \"AZ\", \"CA\", \"CO\", \"CT\", \"DE\", \"FL\", \"GA\", \"HI\", \"IA\", \"ID\", \"IL\", \"IN\", \"KS\", \"KY\", \"LA\", \"MA\", \"MD\", \"ME\", \"MI\", \"MN\", \"MO\", \"MS\", \"MT\", \"NC\", \"ND\", \"NE\", \"NH\", \"NJ\", \"NM\", \"NV\", \"NY\", \"OH\", \"OK\", \"OR\", \"PA\", \"RI\", \"SC\", \"SD\", \"TN\", \"TX\", \"UT\", \"VA\", \"VT\", \"WA\", \"WI\", \"WV\"], \"mode\": \"text\", \"text\": [\"AK\", \"AL\", \"AR\", \"AZ\", \"CA\", \"CO\", \"CT\", \"DE\", \"FL\", \"GA\", \"HI\", \"IA\", \"ID\", \"IL\", \"IN\", \"KS\", \"KY\", \"LA\", \"MA\", \"MD\", \"ME\", \"MI\", \"MN\", \"MO\", \"MS\", \"MT\", \"NC\", \"ND\", \"NE\", \"NH\", \"NJ\", \"NM\", \"NV\", \"NY\", \"OH\", \"OK\", \"OR\", \"PA\", \"RI\", \"SC\", \"SD\", \"TN\", \"TX\", \"UT\", \"VA\", \"VT\", \"WA\", \"WI\", \"WV\"], \"type\": \"scattergeo\"}],\n",
              "                        {\"coloraxis\": {\"colorbar\": {\"title\": {\"text\": \"PROP_LOSS\"}}, \"colorscale\": [[0.0, \"rgb(94,79,162)\"], [0.1, \"rgb(50,136,189)\"], [0.2, \"rgb(102,194,165)\"], [0.3, \"rgb(171,221,164)\"], [0.4, \"rgb(230,245,152)\"], [0.5, \"rgb(255,255,191)\"], [0.6, \"rgb(254,224,139)\"], [0.7, \"rgb(253,174,97)\"], [0.8, \"rgb(244,109,67)\"], [0.9, \"rgb(213,62,79)\"], [1.0, \"rgb(158,1,66)\"]]}, \"geo\": {\"center\": {}, \"domain\": {\"x\": [0.0, 1.0], \"y\": [0.0, 1.0]}, \"scope\": \"usa\"}, \"legend\": {\"tracegroupgap\": 0}, \"margin\": {\"t\": 60}, \"template\": {\"data\": {\"bar\": [{\"error_x\": {\"color\": \"#2a3f5f\"}, \"error_y\": {\"color\": \"#2a3f5f\"}, \"marker\": {\"line\": {\"color\": \"#E5ECF6\", \"width\": 0.5}}, \"type\": \"bar\"}], \"barpolar\": [{\"marker\": {\"line\": {\"color\": \"#E5ECF6\", \"width\": 0.5}}, \"type\": \"barpolar\"}], \"carpet\": [{\"aaxis\": {\"endlinecolor\": \"#2a3f5f\", \"gridcolor\": \"white\", \"linecolor\": \"white\", \"minorgridcolor\": \"white\", \"startlinecolor\": \"#2a3f5f\"}, \"baxis\": {\"endlinecolor\": \"#2a3f5f\", \"gridcolor\": \"white\", \"linecolor\": \"white\", \"minorgridcolor\": \"white\", \"startlinecolor\": \"#2a3f5f\"}, \"type\": \"carpet\"}], \"choropleth\": [{\"colorbar\": {\"outlinewidth\": 0, \"ticks\": \"\"}, \"type\": \"choropleth\"}], \"contour\": [{\"colorbar\": {\"outlinewidth\": 0, \"ticks\": \"\"}, \"colorscale\": [[0.0, \"#0d0887\"], [0.1111111111111111, \"#46039f\"], [0.2222222222222222, \"#7201a8\"], [0.3333333333333333, \"#9c179e\"], [0.4444444444444444, \"#bd3786\"], [0.5555555555555556, \"#d8576b\"], [0.6666666666666666, \"#ed7953\"], [0.7777777777777778, \"#fb9f3a\"], [0.8888888888888888, \"#fdca26\"], [1.0, \"#f0f921\"]], \"type\": \"contour\"}], \"contourcarpet\": [{\"colorbar\": {\"outlinewidth\": 0, \"ticks\": \"\"}, \"type\": \"contourcarpet\"}], \"heatmap\": [{\"colorbar\": {\"outlinewidth\": 0, \"ticks\": \"\"}, \"colorscale\": [[0.0, \"#0d0887\"], [0.1111111111111111, \"#46039f\"], [0.2222222222222222, \"#7201a8\"], [0.3333333333333333, \"#9c179e\"], [0.4444444444444444, \"#bd3786\"], [0.5555555555555556, \"#d8576b\"], [0.6666666666666666, \"#ed7953\"], [0.7777777777777778, \"#fb9f3a\"], [0.8888888888888888, \"#fdca26\"], [1.0, \"#f0f921\"]], \"type\": \"heatmap\"}], \"heatmapgl\": [{\"colorbar\": {\"outlinewidth\": 0, \"ticks\": \"\"}, \"colorscale\": [[0.0, \"#0d0887\"], [0.1111111111111111, \"#46039f\"], [0.2222222222222222, \"#7201a8\"], [0.3333333333333333, \"#9c179e\"], [0.4444444444444444, \"#bd3786\"], [0.5555555555555556, \"#d8576b\"], [0.6666666666666666, \"#ed7953\"], [0.7777777777777778, \"#fb9f3a\"], [0.8888888888888888, \"#fdca26\"], [1.0, \"#f0f921\"]], \"type\": \"heatmapgl\"}], \"histogram\": [{\"marker\": {\"colorbar\": {\"outlinewidth\": 0, \"ticks\": \"\"}}, \"type\": \"histogram\"}], \"histogram2d\": [{\"colorbar\": {\"outlinewidth\": 0, \"ticks\": \"\"}, \"colorscale\": [[0.0, \"#0d0887\"], [0.1111111111111111, \"#46039f\"], [0.2222222222222222, \"#7201a8\"], [0.3333333333333333, \"#9c179e\"], [0.4444444444444444, \"#bd3786\"], [0.5555555555555556, \"#d8576b\"], [0.6666666666666666, \"#ed7953\"], [0.7777777777777778, \"#fb9f3a\"], [0.8888888888888888, \"#fdca26\"], [1.0, \"#f0f921\"]], \"type\": \"histogram2d\"}], \"histogram2dcontour\": [{\"colorbar\": {\"outlinewidth\": 0, \"ticks\": \"\"}, \"colorscale\": [[0.0, \"#0d0887\"], [0.1111111111111111, \"#46039f\"], [0.2222222222222222, \"#7201a8\"], [0.3333333333333333, \"#9c179e\"], [0.4444444444444444, \"#bd3786\"], [0.5555555555555556, \"#d8576b\"], [0.6666666666666666, \"#ed7953\"], [0.7777777777777778, \"#fb9f3a\"], [0.8888888888888888, \"#fdca26\"], [1.0, \"#f0f921\"]], \"type\": \"histogram2dcontour\"}], \"mesh3d\": [{\"colorbar\": {\"outlinewidth\": 0, \"ticks\": \"\"}, \"type\": \"mesh3d\"}], \"parcoords\": [{\"line\": {\"colorbar\": {\"outlinewidth\": 0, \"ticks\": \"\"}}, \"type\": \"parcoords\"}], \"pie\": [{\"automargin\": true, \"type\": \"pie\"}], \"scatter\": [{\"marker\": {\"colorbar\": {\"outlinewidth\": 0, \"ticks\": \"\"}}, \"type\": \"scatter\"}], \"scatter3d\": [{\"line\": {\"colorbar\": {\"outlinewidth\": 0, \"ticks\": \"\"}}, \"marker\": {\"colorbar\": {\"outlinewidth\": 0, \"ticks\": \"\"}}, \"type\": \"scatter3d\"}], \"scattercarpet\": [{\"marker\": {\"colorbar\": {\"outlinewidth\": 0, \"ticks\": \"\"}}, \"type\": \"scattercarpet\"}], \"scattergeo\": [{\"marker\": {\"colorbar\": {\"outlinewidth\": 0, \"ticks\": \"\"}}, \"type\": \"scattergeo\"}], \"scattergl\": [{\"marker\": {\"colorbar\": {\"outlinewidth\": 0, \"ticks\": \"\"}}, \"type\": \"scattergl\"}], \"scattermapbox\": [{\"marker\": {\"colorbar\": {\"outlinewidth\": 0, \"ticks\": \"\"}}, \"type\": \"scattermapbox\"}], \"scatterpolar\": [{\"marker\": {\"colorbar\": {\"outlinewidth\": 0, \"ticks\": \"\"}}, \"type\": \"scatterpolar\"}], \"scatterpolargl\": [{\"marker\": {\"colorbar\": {\"outlinewidth\": 0, \"ticks\": \"\"}}, \"type\": \"scatterpolargl\"}], \"scatterternary\": [{\"marker\": {\"colorbar\": {\"outlinewidth\": 0, \"ticks\": \"\"}}, \"type\": \"scatterternary\"}], \"surface\": [{\"colorbar\": {\"outlinewidth\": 0, \"ticks\": \"\"}, \"colorscale\": [[0.0, \"#0d0887\"], [0.1111111111111111, \"#46039f\"], [0.2222222222222222, \"#7201a8\"], [0.3333333333333333, \"#9c179e\"], [0.4444444444444444, \"#bd3786\"], [0.5555555555555556, \"#d8576b\"], [0.6666666666666666, \"#ed7953\"], [0.7777777777777778, \"#fb9f3a\"], [0.8888888888888888, \"#fdca26\"], [1.0, \"#f0f921\"]], \"type\": \"surface\"}], \"table\": [{\"cells\": {\"fill\": {\"color\": \"#EBF0F8\"}, \"line\": {\"color\": \"white\"}}, \"header\": {\"fill\": {\"color\": \"#C8D4E3\"}, \"line\": {\"color\": \"white\"}}, \"type\": \"table\"}]}, \"layout\": {\"annotationdefaults\": {\"arrowcolor\": \"#2a3f5f\", \"arrowhead\": 0, \"arrowwidth\": 1}, \"coloraxis\": {\"colorbar\": {\"outlinewidth\": 0, \"ticks\": \"\"}}, \"colorscale\": {\"diverging\": [[0, \"#8e0152\"], [0.1, \"#c51b7d\"], [0.2, \"#de77ae\"], [0.3, \"#f1b6da\"], [0.4, \"#fde0ef\"], [0.5, \"#f7f7f7\"], [0.6, \"#e6f5d0\"], [0.7, \"#b8e186\"], [0.8, \"#7fbc41\"], [0.9, \"#4d9221\"], [1, \"#276419\"]], \"sequential\": [[0.0, \"#0d0887\"], [0.1111111111111111, \"#46039f\"], [0.2222222222222222, \"#7201a8\"], [0.3333333333333333, \"#9c179e\"], [0.4444444444444444, \"#bd3786\"], [0.5555555555555556, \"#d8576b\"], [0.6666666666666666, \"#ed7953\"], [0.7777777777777778, \"#fb9f3a\"], [0.8888888888888888, \"#fdca26\"], [1.0, \"#f0f921\"]], \"sequentialminus\": [[0.0, \"#0d0887\"], [0.1111111111111111, \"#46039f\"], [0.2222222222222222, \"#7201a8\"], [0.3333333333333333, \"#9c179e\"], [0.4444444444444444, \"#bd3786\"], [0.5555555555555556, \"#d8576b\"], [0.6666666666666666, \"#ed7953\"], [0.7777777777777778, \"#fb9f3a\"], [0.8888888888888888, \"#fdca26\"], [1.0, \"#f0f921\"]]}, \"colorway\": [\"#636efa\", \"#EF553B\", \"#00cc96\", \"#ab63fa\", \"#FFA15A\", \"#19d3f3\", \"#FF6692\", \"#B6E880\", \"#FF97FF\", \"#FECB52\"], \"font\": {\"color\": \"#2a3f5f\"}, \"geo\": {\"bgcolor\": \"white\", \"lakecolor\": \"white\", \"landcolor\": \"#E5ECF6\", \"showlakes\": true, \"showland\": true, \"subunitcolor\": \"white\"}, \"hoverlabel\": {\"align\": \"left\"}, \"hovermode\": \"closest\", \"mapbox\": {\"style\": \"light\"}, \"paper_bgcolor\": \"white\", \"plot_bgcolor\": \"#E5ECF6\", \"polar\": {\"angularaxis\": {\"gridcolor\": \"white\", \"linecolor\": \"white\", \"ticks\": \"\"}, \"bgcolor\": \"#E5ECF6\", \"radialaxis\": {\"gridcolor\": \"white\", \"linecolor\": \"white\", \"ticks\": \"\"}}, \"scene\": {\"xaxis\": {\"backgroundcolor\": \"#E5ECF6\", \"gridcolor\": \"white\", \"gridwidth\": 2, \"linecolor\": \"white\", \"showbackground\": true, \"ticks\": \"\", \"zerolinecolor\": \"white\"}, \"yaxis\": {\"backgroundcolor\": \"#E5ECF6\", \"gridcolor\": \"white\", \"gridwidth\": 2, \"linecolor\": \"white\", \"showbackground\": true, \"ticks\": \"\", \"zerolinecolor\": \"white\"}, \"zaxis\": {\"backgroundcolor\": \"#E5ECF6\", \"gridcolor\": \"white\", \"gridwidth\": 2, \"linecolor\": \"white\", \"showbackground\": true, \"ticks\": \"\", \"zerolinecolor\": \"white\"}}, \"shapedefaults\": {\"line\": {\"color\": \"#2a3f5f\"}}, \"ternary\": {\"aaxis\": {\"gridcolor\": \"white\", \"linecolor\": \"white\", \"ticks\": \"\"}, \"baxis\": {\"gridcolor\": \"white\", \"linecolor\": \"white\", \"ticks\": \"\"}, \"bgcolor\": \"#E5ECF6\", \"caxis\": {\"gridcolor\": \"white\", \"linecolor\": \"white\", \"ticks\": \"\"}}, \"title\": {\"x\": 0.05}, \"xaxis\": {\"automargin\": true, \"gridcolor\": \"white\", \"linecolor\": \"white\", \"ticks\": \"\", \"title\": {\"standoff\": 15}, \"zerolinecolor\": \"white\", \"zerolinewidth\": 2}, \"yaxis\": {\"automargin\": true, \"gridcolor\": \"white\", \"linecolor\": \"white\", \"ticks\": \"\", \"title\": {\"standoff\": 15}, \"zerolinecolor\": \"white\", \"zerolinewidth\": 2}}}, \"title\": {\"text\": \"Property LOSS by State\", \"x\": 0.5, \"xanchor\": \"center\", \"yanchor\": \"top\"}},\n",
              "                        {\"responsive\": true}\n",
              "                    ).then(function(){\n",
              "                            \n",
              "var gd = document.getElementById('ec673e29-8382-40af-b135-224921504252');\n",
              "var x = new MutationObserver(function (mutations, observer) {{\n",
              "        var display = window.getComputedStyle(gd).display;\n",
              "        if (!display || display === 'none') {{\n",
              "            console.log([gd, 'removed!']);\n",
              "            Plotly.purge(gd);\n",
              "            observer.disconnect();\n",
              "        }}\n",
              "}});\n",
              "\n",
              "// Listen for the removal of the full notebook cells\n",
              "var notebookContainer = gd.closest('#notebook-container');\n",
              "if (notebookContainer) {{\n",
              "    x.observe(notebookContainer, {childList: true});\n",
              "}}\n",
              "\n",
              "// Listen for the clearing of the current output cell\n",
              "var outputEl = gd.closest('.output');\n",
              "if (outputEl) {{\n",
              "    x.observe(outputEl, {childList: true});\n",
              "}}\n",
              "\n",
              "                        })\n",
              "                };\n",
              "                \n",
              "            </script>\n",
              "        </div>\n",
              "</body>\n",
              "</html>"
            ]
          },
          "metadata": {}
        }
      ]
    },
    {
      "cell_type": "markdown",
      "metadata": {
        "id": "giPv9A4R_E9r"
      },
      "source": [
        "###**Interesting table**\n",
        "\n",
        "###We have tried to show the Percentage of Property loss in a state to Property Valuae in particular state"
      ]
    },
    {
      "cell_type": "code",
      "metadata": {
        "colab": {
          "base_uri": "https://localhost:8080/"
        },
        "id": "Zo2TJ3QhJodr",
        "outputId": "9d9563b7-1449-4816-a1cc-056f5687112e"
      },
      "source": [
        "temp=df[df['PROP_VAL'].notna()]\n",
        "temp = pd.DataFrame(temp)\n",
        "temp = pd.DataFrame(temp.groupby(by=df.STATE).sum())\n",
        "\n",
        "temp.reset_index(inplace=True)\n",
        "# tmp = tmp.sort_values(by=['PROP_LOSS'], ascending= False)\n",
        "# tmp.reset_index(drop=False)\n",
        "\n",
        "## finding the % of property loss\n",
        "tmp1A = temp[['STATE','PROP_LOSS','PROP_VAL']]\n",
        "tmp1A['PERCENTAGE_OF_PROP_LOSS'] = round(tmp1A['PROP_LOSS']/tmp1A['PROP_VAL'] * 100,2)\n",
        "xyz = tmp1A.sort_values(by='PERCENTAGE_OF_PROP_LOSS',ascending=False)"
      ],
      "execution_count": null,
      "outputs": [
        {
          "output_type": "stream",
          "name": "stderr",
          "text": [
            "/usr/local/lib/python3.7/dist-packages/ipykernel_launcher.py:11: SettingWithCopyWarning:\n",
            "\n",
            "\n",
            "A value is trying to be set on a copy of a slice from a DataFrame.\n",
            "Try using .loc[row_indexer,col_indexer] = value instead\n",
            "\n",
            "See the caveats in the documentation: https://pandas.pydata.org/pandas-docs/stable/user_guide/indexing.html#returning-a-view-versus-a-copy\n",
            "\n"
          ]
        }
      ]
    },
    {
      "cell_type": "markdown",
      "metadata": {
        "id": "MO3IqgcF6e1m"
      },
      "source": [
        "## EDA: Count the number of fires (rows) per State in your clean dataset.\n",
        "What are the top five States that had fires?\n"
      ]
    },
    {
      "cell_type": "code",
      "metadata": {
        "id": "d62K8NED-h1L",
        "colab": {
          "base_uri": "https://localhost:8080/"
        },
        "outputId": "81acd66e-2931-4335-d743-82ee3b9c7175"
      },
      "source": [
        "#tmp1 is the same data data frame which we used to count the mounth with maximum fires\n",
        "#In tmp1 we already cleaned the data based on the INC Type which is Staring with 1 for all the incidents related to fire\n",
        "tmp_state = tmp1.groupby('STATE').size() # Return the number of fires in all states\n",
        "tmp_state"
      ],
      "execution_count": null,
      "outputs": [
        {
          "output_type": "execute_result",
          "data": {
            "text/plain": [
              "STATE\n",
              "AK     2989\n",
              "AL    15449\n",
              "AR    22686\n",
              "AZ    14356\n",
              "CA    74938\n",
              "CO    11497\n",
              "CT    11963\n",
              "DC     1238\n",
              "DE     4399\n",
              "FL    54570\n",
              "GA    39866\n",
              "HI     2719\n",
              "IA    12179\n",
              "ID     5981\n",
              "IL    54374\n",
              "IN     5341\n",
              "KS    21142\n",
              "KY    19269\n",
              "LA    22481\n",
              "MA    29523\n",
              "MD    19267\n",
              "ME     5412\n",
              "MI    31286\n",
              "MN    15470\n",
              "MO    29617\n",
              "MS    21083\n",
              "MT     3340\n",
              "NC    50589\n",
              "ND     1977\n",
              "NE     5428\n",
              "NH     5589\n",
              "NJ    32913\n",
              "NM    10114\n",
              "NV     8944\n",
              "NY    70373\n",
              "OH    52273\n",
              "OK    22085\n",
              "OR    11634\n",
              "PA    34576\n",
              "RI     2437\n",
              "SC    28253\n",
              "SD     2043\n",
              "TN    29247\n",
              "TX    84942\n",
              "UT     6478\n",
              "VA    29000\n",
              "VT     3153\n",
              "WA    21104\n",
              "WI    16846\n",
              "WV    12454\n",
              "WY     1331\n",
              "dtype: int64"
            ]
          },
          "metadata": {},
          "execution_count": 138
        }
      ]
    },
    {
      "cell_type": "code",
      "metadata": {
        "id": "txD0KMnrl0qU"
      },
      "source": [
        "state_fire = pd.DataFrame(data = tmp_state).reset_index() # Reset index"
      ],
      "execution_count": null,
      "outputs": []
    },
    {
      "cell_type": "code",
      "metadata": {
        "colab": {
          "base_uri": "https://localhost:8080/",
          "height": 1000
        },
        "id": "0eMDnakll0iI",
        "outputId": "e69e7699-7d0f-4001-95ec-924e4f8a5903"
      },
      "source": [
        "state_fire.rename(columns= {'STATE' : 'STATE',  0 : 'Fires_Count'}, inplace= True) # Rename columns\n",
        "\n",
        "state_fire"
      ],
      "execution_count": null,
      "outputs": [
        {
          "output_type": "execute_result",
          "data": {
            "text/html": [
              "<div>\n",
              "<style scoped>\n",
              "    .dataframe tbody tr th:only-of-type {\n",
              "        vertical-align: middle;\n",
              "    }\n",
              "\n",
              "    .dataframe tbody tr th {\n",
              "        vertical-align: top;\n",
              "    }\n",
              "\n",
              "    .dataframe thead th {\n",
              "        text-align: right;\n",
              "    }\n",
              "</style>\n",
              "<table border=\"1\" class=\"dataframe\">\n",
              "  <thead>\n",
              "    <tr style=\"text-align: right;\">\n",
              "      <th></th>\n",
              "      <th>STATE</th>\n",
              "      <th>Fires_Count</th>\n",
              "    </tr>\n",
              "  </thead>\n",
              "  <tbody>\n",
              "    <tr>\n",
              "      <th>0</th>\n",
              "      <td>AK</td>\n",
              "      <td>2989</td>\n",
              "    </tr>\n",
              "    <tr>\n",
              "      <th>1</th>\n",
              "      <td>AL</td>\n",
              "      <td>15449</td>\n",
              "    </tr>\n",
              "    <tr>\n",
              "      <th>2</th>\n",
              "      <td>AR</td>\n",
              "      <td>22686</td>\n",
              "    </tr>\n",
              "    <tr>\n",
              "      <th>3</th>\n",
              "      <td>AZ</td>\n",
              "      <td>14356</td>\n",
              "    </tr>\n",
              "    <tr>\n",
              "      <th>4</th>\n",
              "      <td>CA</td>\n",
              "      <td>74938</td>\n",
              "    </tr>\n",
              "    <tr>\n",
              "      <th>5</th>\n",
              "      <td>CO</td>\n",
              "      <td>11497</td>\n",
              "    </tr>\n",
              "    <tr>\n",
              "      <th>6</th>\n",
              "      <td>CT</td>\n",
              "      <td>11963</td>\n",
              "    </tr>\n",
              "    <tr>\n",
              "      <th>7</th>\n",
              "      <td>DC</td>\n",
              "      <td>1238</td>\n",
              "    </tr>\n",
              "    <tr>\n",
              "      <th>8</th>\n",
              "      <td>DE</td>\n",
              "      <td>4399</td>\n",
              "    </tr>\n",
              "    <tr>\n",
              "      <th>9</th>\n",
              "      <td>FL</td>\n",
              "      <td>54570</td>\n",
              "    </tr>\n",
              "    <tr>\n",
              "      <th>10</th>\n",
              "      <td>GA</td>\n",
              "      <td>39866</td>\n",
              "    </tr>\n",
              "    <tr>\n",
              "      <th>11</th>\n",
              "      <td>HI</td>\n",
              "      <td>2719</td>\n",
              "    </tr>\n",
              "    <tr>\n",
              "      <th>12</th>\n",
              "      <td>IA</td>\n",
              "      <td>12179</td>\n",
              "    </tr>\n",
              "    <tr>\n",
              "      <th>13</th>\n",
              "      <td>ID</td>\n",
              "      <td>5981</td>\n",
              "    </tr>\n",
              "    <tr>\n",
              "      <th>14</th>\n",
              "      <td>IL</td>\n",
              "      <td>54374</td>\n",
              "    </tr>\n",
              "    <tr>\n",
              "      <th>15</th>\n",
              "      <td>IN</td>\n",
              "      <td>5341</td>\n",
              "    </tr>\n",
              "    <tr>\n",
              "      <th>16</th>\n",
              "      <td>KS</td>\n",
              "      <td>21142</td>\n",
              "    </tr>\n",
              "    <tr>\n",
              "      <th>17</th>\n",
              "      <td>KY</td>\n",
              "      <td>19269</td>\n",
              "    </tr>\n",
              "    <tr>\n",
              "      <th>18</th>\n",
              "      <td>LA</td>\n",
              "      <td>22481</td>\n",
              "    </tr>\n",
              "    <tr>\n",
              "      <th>19</th>\n",
              "      <td>MA</td>\n",
              "      <td>29523</td>\n",
              "    </tr>\n",
              "    <tr>\n",
              "      <th>20</th>\n",
              "      <td>MD</td>\n",
              "      <td>19267</td>\n",
              "    </tr>\n",
              "    <tr>\n",
              "      <th>21</th>\n",
              "      <td>ME</td>\n",
              "      <td>5412</td>\n",
              "    </tr>\n",
              "    <tr>\n",
              "      <th>22</th>\n",
              "      <td>MI</td>\n",
              "      <td>31286</td>\n",
              "    </tr>\n",
              "    <tr>\n",
              "      <th>23</th>\n",
              "      <td>MN</td>\n",
              "      <td>15470</td>\n",
              "    </tr>\n",
              "    <tr>\n",
              "      <th>24</th>\n",
              "      <td>MO</td>\n",
              "      <td>29617</td>\n",
              "    </tr>\n",
              "    <tr>\n",
              "      <th>25</th>\n",
              "      <td>MS</td>\n",
              "      <td>21083</td>\n",
              "    </tr>\n",
              "    <tr>\n",
              "      <th>26</th>\n",
              "      <td>MT</td>\n",
              "      <td>3340</td>\n",
              "    </tr>\n",
              "    <tr>\n",
              "      <th>27</th>\n",
              "      <td>NC</td>\n",
              "      <td>50589</td>\n",
              "    </tr>\n",
              "    <tr>\n",
              "      <th>28</th>\n",
              "      <td>ND</td>\n",
              "      <td>1977</td>\n",
              "    </tr>\n",
              "    <tr>\n",
              "      <th>29</th>\n",
              "      <td>NE</td>\n",
              "      <td>5428</td>\n",
              "    </tr>\n",
              "    <tr>\n",
              "      <th>30</th>\n",
              "      <td>NH</td>\n",
              "      <td>5589</td>\n",
              "    </tr>\n",
              "    <tr>\n",
              "      <th>31</th>\n",
              "      <td>NJ</td>\n",
              "      <td>32913</td>\n",
              "    </tr>\n",
              "    <tr>\n",
              "      <th>32</th>\n",
              "      <td>NM</td>\n",
              "      <td>10114</td>\n",
              "    </tr>\n",
              "    <tr>\n",
              "      <th>33</th>\n",
              "      <td>NV</td>\n",
              "      <td>8944</td>\n",
              "    </tr>\n",
              "    <tr>\n",
              "      <th>34</th>\n",
              "      <td>NY</td>\n",
              "      <td>70373</td>\n",
              "    </tr>\n",
              "    <tr>\n",
              "      <th>35</th>\n",
              "      <td>OH</td>\n",
              "      <td>52273</td>\n",
              "    </tr>\n",
              "    <tr>\n",
              "      <th>36</th>\n",
              "      <td>OK</td>\n",
              "      <td>22085</td>\n",
              "    </tr>\n",
              "    <tr>\n",
              "      <th>37</th>\n",
              "      <td>OR</td>\n",
              "      <td>11634</td>\n",
              "    </tr>\n",
              "    <tr>\n",
              "      <th>38</th>\n",
              "      <td>PA</td>\n",
              "      <td>34576</td>\n",
              "    </tr>\n",
              "    <tr>\n",
              "      <th>39</th>\n",
              "      <td>RI</td>\n",
              "      <td>2437</td>\n",
              "    </tr>\n",
              "    <tr>\n",
              "      <th>40</th>\n",
              "      <td>SC</td>\n",
              "      <td>28253</td>\n",
              "    </tr>\n",
              "    <tr>\n",
              "      <th>41</th>\n",
              "      <td>SD</td>\n",
              "      <td>2043</td>\n",
              "    </tr>\n",
              "    <tr>\n",
              "      <th>42</th>\n",
              "      <td>TN</td>\n",
              "      <td>29247</td>\n",
              "    </tr>\n",
              "    <tr>\n",
              "      <th>43</th>\n",
              "      <td>TX</td>\n",
              "      <td>84942</td>\n",
              "    </tr>\n",
              "    <tr>\n",
              "      <th>44</th>\n",
              "      <td>UT</td>\n",
              "      <td>6478</td>\n",
              "    </tr>\n",
              "    <tr>\n",
              "      <th>45</th>\n",
              "      <td>VA</td>\n",
              "      <td>29000</td>\n",
              "    </tr>\n",
              "    <tr>\n",
              "      <th>46</th>\n",
              "      <td>VT</td>\n",
              "      <td>3153</td>\n",
              "    </tr>\n",
              "    <tr>\n",
              "      <th>47</th>\n",
              "      <td>WA</td>\n",
              "      <td>21104</td>\n",
              "    </tr>\n",
              "    <tr>\n",
              "      <th>48</th>\n",
              "      <td>WI</td>\n",
              "      <td>16846</td>\n",
              "    </tr>\n",
              "    <tr>\n",
              "      <th>49</th>\n",
              "      <td>WV</td>\n",
              "      <td>12454</td>\n",
              "    </tr>\n",
              "    <tr>\n",
              "      <th>50</th>\n",
              "      <td>WY</td>\n",
              "      <td>1331</td>\n",
              "    </tr>\n",
              "  </tbody>\n",
              "</table>\n",
              "</div>"
            ],
            "text/plain": [
              "   STATE  Fires_Count\n",
              "0     AK         2989\n",
              "1     AL        15449\n",
              "2     AR        22686\n",
              "3     AZ        14356\n",
              "4     CA        74938\n",
              "5     CO        11497\n",
              "6     CT        11963\n",
              "7     DC         1238\n",
              "8     DE         4399\n",
              "9     FL        54570\n",
              "10    GA        39866\n",
              "11    HI         2719\n",
              "12    IA        12179\n",
              "13    ID         5981\n",
              "14    IL        54374\n",
              "15    IN         5341\n",
              "16    KS        21142\n",
              "17    KY        19269\n",
              "18    LA        22481\n",
              "19    MA        29523\n",
              "20    MD        19267\n",
              "21    ME         5412\n",
              "22    MI        31286\n",
              "23    MN        15470\n",
              "24    MO        29617\n",
              "25    MS        21083\n",
              "26    MT         3340\n",
              "27    NC        50589\n",
              "28    ND         1977\n",
              "29    NE         5428\n",
              "30    NH         5589\n",
              "31    NJ        32913\n",
              "32    NM        10114\n",
              "33    NV         8944\n",
              "34    NY        70373\n",
              "35    OH        52273\n",
              "36    OK        22085\n",
              "37    OR        11634\n",
              "38    PA        34576\n",
              "39    RI         2437\n",
              "40    SC        28253\n",
              "41    SD         2043\n",
              "42    TN        29247\n",
              "43    TX        84942\n",
              "44    UT         6478\n",
              "45    VA        29000\n",
              "46    VT         3153\n",
              "47    WA        21104\n",
              "48    WI        16846\n",
              "49    WV        12454\n",
              "50    WY         1331"
            ]
          },
          "metadata": {},
          "execution_count": 140
        }
      ]
    },
    {
      "cell_type": "code",
      "metadata": {
        "colab": {
          "base_uri": "https://localhost:8080/",
          "height": 203
        },
        "id": "EO6wRB2sl_6d",
        "outputId": "97f6b642-7305-4994-aa1d-92d2cf35e3f5"
      },
      "source": [
        "state_fire.sort_values(by= 'Fires_Count', ascending= False).head(5).reset_index(drop = True) # Return top 5 states with highest count of fires"
      ],
      "execution_count": null,
      "outputs": [
        {
          "output_type": "execute_result",
          "data": {
            "text/html": [
              "<div>\n",
              "<style scoped>\n",
              "    .dataframe tbody tr th:only-of-type {\n",
              "        vertical-align: middle;\n",
              "    }\n",
              "\n",
              "    .dataframe tbody tr th {\n",
              "        vertical-align: top;\n",
              "    }\n",
              "\n",
              "    .dataframe thead th {\n",
              "        text-align: right;\n",
              "    }\n",
              "</style>\n",
              "<table border=\"1\" class=\"dataframe\">\n",
              "  <thead>\n",
              "    <tr style=\"text-align: right;\">\n",
              "      <th></th>\n",
              "      <th>STATE</th>\n",
              "      <th>Fires_Count</th>\n",
              "    </tr>\n",
              "  </thead>\n",
              "  <tbody>\n",
              "    <tr>\n",
              "      <th>0</th>\n",
              "      <td>TX</td>\n",
              "      <td>84942</td>\n",
              "    </tr>\n",
              "    <tr>\n",
              "      <th>1</th>\n",
              "      <td>CA</td>\n",
              "      <td>74938</td>\n",
              "    </tr>\n",
              "    <tr>\n",
              "      <th>2</th>\n",
              "      <td>NY</td>\n",
              "      <td>70373</td>\n",
              "    </tr>\n",
              "    <tr>\n",
              "      <th>3</th>\n",
              "      <td>FL</td>\n",
              "      <td>54570</td>\n",
              "    </tr>\n",
              "    <tr>\n",
              "      <th>4</th>\n",
              "      <td>IL</td>\n",
              "      <td>54374</td>\n",
              "    </tr>\n",
              "  </tbody>\n",
              "</table>\n",
              "</div>"
            ],
            "text/plain": [
              "  STATE  Fires_Count\n",
              "0    TX        84942\n",
              "1    CA        74938\n",
              "2    NY        70373\n",
              "3    FL        54570\n",
              "4    IL        54374"
            ]
          },
          "metadata": {},
          "execution_count": 141
        }
      ]
    },
    {
      "cell_type": "markdown",
      "metadata": {
        "id": "iEEJWyNDn9mI"
      },
      "source": [
        "## Data Prep: Subset columns for modeling and add a description of what each one means. \n",
        "To start, we are going to subset some numeric-looking columns for modeling. Please go into the data dictionary and provide a plain description of what each means. This data is a little messy, so you're going to have to read and try your best to make sense of what's what.\n",
        "\n",
        "* 'INC_TYPE', \n",
        "* 'ALARMS'\n",
        "* 'ACT_TAK1'\n",
        "* 'SUP_APP'\n",
        "* 'EMS_APP'\n",
        "* 'OTH_APP'\n",
        "* 'PROP_LOSS'\n",
        "* 'PROP_VAL'\n",
        "* 'CONT_VAL'\n",
        "* 'FF_DEATH'\n",
        "* 'FF_INJ'\n",
        "* 'PROP_USE'"
      ]
    },
    {
      "cell_type": "markdown",
      "metadata": {
        "id": "UeREt-tamJPr"
      },
      "source": [
        "**INC_TYPE** - Incident Type <br>\n",
        "Incident Types with values that begin with the number '1' have fire-related incidents. There are no fire incidents in the rest that does not begin with 1. The different incident type codes are listed below, which categorize further as the number of digits in the code increases. <br>\n",
        "1 - Fire <br>\n",
        "2 - OverPressure Rupture, Explosion, Overheat<br>\n",
        "3 - Rescue & Emergency Medical Service Incident<br>\n",
        "4 - Hazardous Condition (No Fire)<br>\n",
        "5- Service Call<br>\n",
        "6 - Good Intent Call<br>\n",
        "7 - False Alarm & False Call<br>\n",
        "8 - Severe Weather & Natural Disaster<br>\n",
        "9 - Special Incident Type<br>"
      ]
    },
    {
      "cell_type": "markdown",
      "metadata": {
        "id": "rPGs30XQmv2F"
      },
      "source": [
        "**ACT_TAK1** - Action Taken 1<br>\n",
        "In this section a two-digit code is entered to explain the most significant actions taken by the fire\n",
        "service personnel at the incident scene. Information on the primary action taken in\n",
        "response to the incident is provided. However, lines also are provided to list two additional actions taken.\n",
        "Together with the incident type, these data help a fire department document the variety of activities\n",
        "performed and resources required to respond to a range of emergency situations."
      ]
    },
    {
      "cell_type": "markdown",
      "metadata": {
        "id": "q7E2DJU5nEwH"
      },
      "source": [
        "**SUP_APP** - Suppression Appratus Code <br>\n",
        "Suppression ApparatusCode for the number of fire apparatus and vehicles, excluding EMS vehicles\n",
        "that responded from your department."
      ]
    },
    {
      "cell_type": "markdown",
      "metadata": {
        "id": "uoe-pFFWnEmo"
      },
      "source": [
        "**EMS_APP** - EMS Apparatus <br>\n",
        "Code for the number of EMS vehicles that responded from your department.\n",
        "Include Advanced Life Support and Basic Life Support units."
      ]
    },
    {
      "cell_type": "markdown",
      "metadata": {
        "id": "YcevEnq2nEcS"
      },
      "source": [
        "**OTHER APP** -  Other Apparatus<br>\n",
        "Enter the number of units that responded to this incident from your\n",
        "department other than fire vehicles and ALS/BLS units."
      ]
    },
    {
      "cell_type": "markdown",
      "metadata": {
        "id": "SrkWokOMnaIJ"
      },
      "source": [
        "**PROP_LOSS** - Property Loss<br>\n",
        "If the building, other structure, outside property or vehicle sustained\n",
        "damage from flame, smoke, or suppression efforts, estimate of the loss in whole dollars. Exclude from this amount the estimated loss to building contents or other structure contents."
      ]
    },
    {
      "cell_type": "markdown",
      "metadata": {
        "id": "ny_bvBHUnZ-R"
      },
      "source": [
        "**PROP_VAL** - Property Value<br>\n",
        "Estimate of the property value prior to the incident, excluding\n",
        "contents, based upon available information"
      ]
    },
    {
      "cell_type": "markdown",
      "metadata": {
        "id": "iLZZoRUfnkrL"
      },
      "source": [
        "**PROP_USE** - Property Use<br>\n",
        "Property use where the incident occurred or coded entry and description in the area indicated.Property Type 500s, 600s, 700s, and 800s. If the property use code falls in the 500, 600, 700, or 800 series, completion of the “C-On-Site Materials” field will be required in the Fire Module (NFIRS-2) if the incident is a fire.\n"
      ]
    },
    {
      "cell_type": "markdown",
      "metadata": {
        "id": "RKJFhNgVcP3-"
      },
      "source": [
        "**FF_DEATH** - This indicates death/alive status of fire fighters.\n",
        "\n",
        "**FF_INJ** - This indicates the code for type of injury caused to a fire fighter.\n",
        "\n",
        "**CONT_VAL** - We tried to figure out the significane for this variable but we were unable to find the same.\n",
        "\n",
        "**ALARMS** - This indicates the code for types of alarm."
      ]
    },
    {
      "cell_type": "markdown",
      "metadata": {
        "id": "tHMuNbNj75nI"
      },
      "source": [
        "## Data prep: Convert all columns to numeric and use errors='coerce'.\n",
        "By using `errors='coerce'`, anything that's not numeric will turn into NaN. Makes it easy to impute or drop NA rows."
      ]
    },
    {
      "cell_type": "markdown",
      "metadata": {
        "id": "rSSvogXpp6Cl"
      },
      "source": [
        "Check out this amazing link... \n",
        "* https://stackoverflow.com/questions/36814100/pandas-to-numeric-for-multiple-columns"
      ]
    },
    {
      "cell_type": "code",
      "metadata": {
        "id": "xGbOc6ISpIv6"
      },
      "source": [
        "# Convert to numeric\n",
        "df['INC_TYPE'] = pd.to_numeric(df['INC_TYPE'], errors='coerce')\n",
        "df['ALARMS'] = pd.to_numeric(df['ALARMS'], errors='coerce')\n",
        "df['ACT_TAK1'] = pd.to_numeric(df['ACT_TAK1'], errors='coerce')\n",
        "df['SUP_APP'] = pd.to_numeric(df['SUP_APP'], errors='coerce')\n",
        "df['EMS_APP'] = pd.to_numeric(df['EMS_APP'], errors='coerce')\n",
        "df['OTH_APP'] = pd.to_numeric(df['OTH_APP'], errors='coerce')\n",
        "df['PROP_LOSS'] = pd.to_numeric(df['PROP_LOSS'], errors='coerce')\n",
        "df['PROP_VAL'] = pd.to_numeric(df['PROP_VAL'], errors='coerce')\n",
        "df['CONT_VAL'] = pd.to_numeric(df['CONT_VAL'], errors='coerce')\n",
        "df['FF_DEATH'] = pd.to_numeric(df['FF_DEATH'], errors='coerce')\n",
        "df['FF_INJ'] = pd.to_numeric(df['FF_INJ'], errors='coerce')\n",
        "df['PROP_USE'] = pd.to_numeric(df['PROP_USE'], errors='coerce')"
      ],
      "execution_count": null,
      "outputs": []
    },
    {
      "cell_type": "code",
      "metadata": {
        "colab": {
          "base_uri": "https://localhost:8080/"
        },
        "id": "woBe_yc3dmCb",
        "outputId": "bc548dd9-22eb-4490-b902-f82eefd03dab"
      },
      "source": [
        "df.info()"
      ],
      "execution_count": null,
      "outputs": [
        {
          "output_type": "stream",
          "name": "stdout",
          "text": [
            "<class 'pandas.core.frame.DataFrame'>\n",
            "Int64Index: 31134 entries, 771 to 2114068\n",
            "Data columns (total 41 columns):\n",
            " #   Column      Non-Null Count  Dtype         \n",
            "---  ------      --------------  -----         \n",
            " 0   Unnamed: 0  31134 non-null  int64         \n",
            " 1   STATE       31130 non-null  object        \n",
            " 2   FDID        31134 non-null  object        \n",
            " 3   INC_DATE    31134 non-null  datetime64[ns]\n",
            " 4   INC_NO      31134 non-null  object        \n",
            " 5   EXP_NO      31134 non-null  int64         \n",
            " 6   DEPT_STA    27992 non-null  object        \n",
            " 7   INC_TYPE    31134 non-null  int64         \n",
            " 8   ADD_WILD    31134 non-null  object        \n",
            " 9   AID         31134 non-null  object        \n",
            " 10  ALARM       31134 non-null  object        \n",
            " 11  ARRIVAL     31134 non-null  object        \n",
            " 12  INC_CONT    9947 non-null   float64       \n",
            " 13  LU_CLEAR    31134 non-null  object        \n",
            " 14  SHIFT       28796 non-null  object        \n",
            " 15  ALARMS      25485 non-null  float64       \n",
            " 16  DISTRICT    26022 non-null  object        \n",
            " 17  ACT_TAK1    31134 non-null  float64       \n",
            " 18  ACT_TAK2    17324 non-null  object        \n",
            " 19  ACT_TAK3    9873 non-null   object        \n",
            " 20  APP_MOD     31134 non-null  object        \n",
            " 21  SUP_APP     31134 non-null  int64         \n",
            " 22  EMS_APP     31134 non-null  int64         \n",
            " 23  OTH_APP     31134 non-null  int64         \n",
            " 24  SUP_PER     31134 non-null  int64         \n",
            " 25  EMS_PER     31134 non-null  int64         \n",
            " 26  OTH_PER     31134 non-null  int64         \n",
            " 27  RESOU_AID   31134 non-null  object        \n",
            " 28  PROP_LOSS   31134 non-null  float64       \n",
            " 29  CONT_LOSS   29252 non-null  float64       \n",
            " 30  PROP_VAL    22351 non-null  float64       \n",
            " 31  CONT_VAL    19786 non-null  float64       \n",
            " 32  FF_DEATH    31133 non-null  float64       \n",
            " 33  OTH_DEATH   1091 non-null   float64       \n",
            " 34  FF_INJ      31133 non-null  float64       \n",
            " 35  OTH_INJ     1091 non-null   float64       \n",
            " 36  DET_ALERT   13822 non-null  object        \n",
            " 37  HAZ_REL     13151 non-null  object        \n",
            " 38  MIXED_USE   10115 non-null  object        \n",
            " 39  PROP_USE    30878 non-null  float64       \n",
            " 40  CENSUS      31134 non-null  float64       \n",
            "dtypes: datetime64[ns](1), float64(13), int64(9), object(18)\n",
            "memory usage: 11.2+ MB\n"
          ]
        }
      ]
    },
    {
      "cell_type": "markdown",
      "metadata": {
        "id": "OVIll9_r8d3I"
      },
      "source": [
        "## Data Prep: Drop NA rows or use imputation.\n",
        "Your choice! Use `df.info()` after your imputation or dropNA statement to ensure you have nice clean data. You should have somewhere between 16K and 22K rows depending on what you decide."
      ]
    },
    {
      "cell_type": "code",
      "metadata": {
        "id": "7l8ggXIspoSG",
        "colab": {
          "base_uri": "https://localhost:8080/"
        },
        "outputId": "4726e1ac-56f2-4420-ab30-f87aa24afc23"
      },
      "source": [
        "df.isnull().sum() # Count missing values per column"
      ],
      "execution_count": null,
      "outputs": [
        {
          "output_type": "execute_result",
          "data": {
            "text/plain": [
              "Unnamed: 0        0\n",
              "STATE             4\n",
              "FDID              0\n",
              "INC_DATE          0\n",
              "INC_NO            0\n",
              "EXP_NO            0\n",
              "DEPT_STA       3142\n",
              "INC_TYPE          0\n",
              "ADD_WILD          0\n",
              "AID               0\n",
              "ALARM             0\n",
              "ARRIVAL           0\n",
              "INC_CONT      21187\n",
              "LU_CLEAR          0\n",
              "SHIFT          2338\n",
              "ALARMS         5649\n",
              "DISTRICT       5112\n",
              "ACT_TAK1          0\n",
              "ACT_TAK2      13810\n",
              "ACT_TAK3      21261\n",
              "APP_MOD           0\n",
              "SUP_APP           0\n",
              "EMS_APP           0\n",
              "OTH_APP           0\n",
              "SUP_PER           0\n",
              "EMS_PER           0\n",
              "OTH_PER           0\n",
              "RESOU_AID         0\n",
              "PROP_LOSS         0\n",
              "CONT_LOSS      1882\n",
              "PROP_VAL       8783\n",
              "CONT_VAL      11348\n",
              "FF_DEATH          1\n",
              "OTH_DEATH     30043\n",
              "FF_INJ            1\n",
              "OTH_INJ       30043\n",
              "DET_ALERT     17312\n",
              "HAZ_REL       17983\n",
              "MIXED_USE     21019\n",
              "PROP_USE        256\n",
              "CENSUS            0\n",
              "dtype: int64"
            ]
          },
          "metadata": {},
          "execution_count": 144
        }
      ]
    },
    {
      "cell_type": "code",
      "metadata": {
        "colab": {
          "base_uri": "https://localhost:8080/"
        },
        "id": "uKP9pwEGaAQJ",
        "outputId": "23a6ed53-b340-4c7d-e510-547831ebcd7f"
      },
      "source": [
        "# Droping  na rows for folliwing colums as there are very less null values\n",
        "df['ALARMS'].dropna()\n",
        "df['ACT_TAK1'].dropna()"
      ],
      "execution_count": null,
      "outputs": [
        {
          "output_type": "execute_result",
          "data": {
            "text/plain": [
              "771        86.0\n",
              "772        86.0\n",
              "3130       11.0\n",
              "3149       11.0\n",
              "3173       11.0\n",
              "           ... \n",
              "2114057    11.0\n",
              "2114059    11.0\n",
              "2114061    11.0\n",
              "2114064    11.0\n",
              "2114068    11.0\n",
              "Name: ACT_TAK1, Length: 31134, dtype: float64"
            ]
          },
          "metadata": {},
          "execution_count": 145
        }
      ]
    },
    {
      "cell_type": "code",
      "metadata": {
        "id": "dcXxNWZht7S6",
        "colab": {
          "base_uri": "https://localhost:8080/"
        },
        "outputId": "4ad15a2d-b5ba-47c2-8ef6-e86be3d97850"
      },
      "source": [
        "#We decided to impute the null values of the prop values based on the our interesting tables result\n",
        "#there we counted the prop loss as % of the prop value for states\n",
        "#so now using the prop loss values and prop loss as percentage of the prop value we imputed the prop value\n",
        "xyz.drop(columns=['PROP_VAL','PROP_LOSS'],inplace=True)\n",
        "#pd.merge(df, xyz['PERCENTAGE_OF_PROP_LOSS'], on='STATE')\n",
        "dfinal = df.merge(xyz, on='STATE', how = 'inner')\n",
        "dfinal['PROP_VAL'].fillna(dfinal['PROP_LOSS']/dfinal['PERCENTAGE_OF_PROP_LOSS'],inplace=True)\n",
        "dfinal.isnull().sum()"
      ],
      "execution_count": null,
      "outputs": [
        {
          "output_type": "execute_result",
          "data": {
            "text/plain": [
              "Unnamed: 0                     0\n",
              "STATE                          0\n",
              "FDID                           0\n",
              "INC_DATE                       0\n",
              "INC_NO                         0\n",
              "EXP_NO                         0\n",
              "DEPT_STA                    3142\n",
              "INC_TYPE                       0\n",
              "ADD_WILD                       0\n",
              "AID                            0\n",
              "ALARM                          0\n",
              "ARRIVAL                        0\n",
              "INC_CONT                   21187\n",
              "LU_CLEAR                       0\n",
              "SHIFT                       2338\n",
              "ALARMS                      5649\n",
              "DISTRICT                    5112\n",
              "ACT_TAK1                       0\n",
              "ACT_TAK2                   13807\n",
              "ACT_TAK3                   21257\n",
              "APP_MOD                        0\n",
              "SUP_APP                        0\n",
              "EMS_APP                        0\n",
              "OTH_APP                        0\n",
              "SUP_PER                        0\n",
              "EMS_PER                        0\n",
              "OTH_PER                        0\n",
              "RESOU_AID                      0\n",
              "PROP_LOSS                      0\n",
              "CONT_LOSS                   1882\n",
              "PROP_VAL                       0\n",
              "CONT_VAL                   11348\n",
              "FF_DEATH                       1\n",
              "OTH_DEATH                  30039\n",
              "FF_INJ                         1\n",
              "OTH_INJ                    30039\n",
              "DET_ALERT                  17309\n",
              "HAZ_REL                    17980\n",
              "MIXED_USE                  21016\n",
              "PROP_USE                     254\n",
              "CENSUS                         0\n",
              "PERCENTAGE_OF_PROP_LOSS        0\n",
              "dtype: int64"
            ]
          },
          "metadata": {},
          "execution_count": 146
        }
      ]
    },
    {
      "cell_type": "code",
      "metadata": {
        "id": "fBw3hM4m-rNd"
      },
      "source": [
        "dfinal = dfinal[['INC_TYPE',\n",
        "'ALARMS',\n",
        "'ACT_TAK1',\n",
        "'SUP_APP',\n",
        "'EMS_APP',\n",
        "'OTH_APP',\n",
        "'PROP_LOSS',\n",
        "'PROP_VAL',\n",
        "'CONT_VAL',\n",
        "'FF_DEATH',\n",
        "'FF_INJ',\n",
        "'PROP_USE']]\n",
        "dfinal.dropna(inplace=True)\n"
      ],
      "execution_count": null,
      "outputs": []
    },
    {
      "cell_type": "code",
      "metadata": {
        "colab": {
          "base_uri": "https://localhost:8080/"
        },
        "id": "VyoNNqNBBXUG",
        "outputId": "d3be8013-bcb6-47eb-ab2c-11683c35a8ff"
      },
      "source": [
        "dfinal.info()"
      ],
      "execution_count": null,
      "outputs": [
        {
          "output_type": "stream",
          "name": "stdout",
          "text": [
            "<class 'pandas.core.frame.DataFrame'>\n",
            "Int64Index: 16516 entries, 6 to 31120\n",
            "Data columns (total 12 columns):\n",
            " #   Column     Non-Null Count  Dtype  \n",
            "---  ------     --------------  -----  \n",
            " 0   INC_TYPE   16516 non-null  int64  \n",
            " 1   ALARMS     16516 non-null  float64\n",
            " 2   ACT_TAK1   16516 non-null  float64\n",
            " 3   SUP_APP    16516 non-null  int64  \n",
            " 4   EMS_APP    16516 non-null  int64  \n",
            " 5   OTH_APP    16516 non-null  int64  \n",
            " 6   PROP_LOSS  16516 non-null  float64\n",
            " 7   PROP_VAL   16516 non-null  float64\n",
            " 8   CONT_VAL   16516 non-null  float64\n",
            " 9   FF_DEATH   16516 non-null  float64\n",
            " 10  FF_INJ     16516 non-null  float64\n",
            " 11  PROP_USE   16516 non-null  float64\n",
            "dtypes: float64(8), int64(4)\n",
            "memory usage: 1.6 MB\n"
          ]
        }
      ]
    },
    {
      "cell_type": "code",
      "metadata": {
        "id": "KLqirmD62VWc"
      },
      "source": [
        "dfinal['FF_INJ']=dfinal['FF_INJ'].dropna()   ## droping NA values\n"
      ],
      "execution_count": null,
      "outputs": []
    },
    {
      "cell_type": "code",
      "metadata": {
        "colab": {
          "base_uri": "https://localhost:8080/"
        },
        "id": "oGNQCsyz2Z2V",
        "outputId": "4eef32cf-5fc8-4de8-9f91-66e00344d629"
      },
      "source": [
        "dfinal.isnull().sum()   ## can cross check here"
      ],
      "execution_count": null,
      "outputs": [
        {
          "output_type": "execute_result",
          "data": {
            "text/plain": [
              "INC_TYPE     0\n",
              "ALARMS       0\n",
              "ACT_TAK1     0\n",
              "SUP_APP      0\n",
              "EMS_APP      0\n",
              "OTH_APP      0\n",
              "PROP_LOSS    0\n",
              "PROP_VAL     0\n",
              "CONT_VAL     0\n",
              "FF_DEATH     0\n",
              "FF_INJ       0\n",
              "PROP_USE     0\n",
              "dtype: int64"
            ]
          },
          "metadata": {},
          "execution_count": 150
        }
      ]
    },
    {
      "cell_type": "markdown",
      "metadata": {
        "id": "EW_-CLhC8kFo"
      },
      "source": [
        "Check your work!"
      ]
    },
    {
      "cell_type": "code",
      "metadata": {
        "id": "sNHffDvqptwt",
        "colab": {
          "base_uri": "https://localhost:8080/"
        },
        "outputId": "ea2c28fe-790e-4c12-e5b3-1136e47954a8"
      },
      "source": [
        "df.shape"
      ],
      "execution_count": null,
      "outputs": [
        {
          "output_type": "execute_result",
          "data": {
            "text/plain": [
              "(31134, 41)"
            ]
          },
          "metadata": {},
          "execution_count": 151
        }
      ]
    },
    {
      "cell_type": "code",
      "metadata": {
        "colab": {
          "base_uri": "https://localhost:8080/"
        },
        "id": "T6-93uY7qzMJ",
        "outputId": "d10fa0a6-8ce2-4a86-a2e7-28d0b1ad7b92"
      },
      "source": [
        "df.isna().sum()"
      ],
      "execution_count": null,
      "outputs": [
        {
          "output_type": "execute_result",
          "data": {
            "text/plain": [
              "Unnamed: 0        0\n",
              "STATE             4\n",
              "FDID              0\n",
              "INC_DATE          0\n",
              "INC_NO            0\n",
              "EXP_NO            0\n",
              "DEPT_STA       3142\n",
              "INC_TYPE          0\n",
              "ADD_WILD          0\n",
              "AID               0\n",
              "ALARM             0\n",
              "ARRIVAL           0\n",
              "INC_CONT      21187\n",
              "LU_CLEAR          0\n",
              "SHIFT          2338\n",
              "ALARMS         5649\n",
              "DISTRICT       5112\n",
              "ACT_TAK1          0\n",
              "ACT_TAK2      13810\n",
              "ACT_TAK3      21261\n",
              "APP_MOD           0\n",
              "SUP_APP           0\n",
              "EMS_APP           0\n",
              "OTH_APP           0\n",
              "SUP_PER           0\n",
              "EMS_PER           0\n",
              "OTH_PER           0\n",
              "RESOU_AID         0\n",
              "PROP_LOSS         0\n",
              "CONT_LOSS      1882\n",
              "PROP_VAL       8783\n",
              "CONT_VAL      11348\n",
              "FF_DEATH          1\n",
              "OTH_DEATH     30043\n",
              "FF_INJ            1\n",
              "OTH_INJ       30043\n",
              "DET_ALERT     17312\n",
              "HAZ_REL       17983\n",
              "MIXED_USE     21019\n",
              "PROP_USE        256\n",
              "CENSUS            0\n",
              "dtype: int64"
            ]
          },
          "metadata": {},
          "execution_count": 152
        }
      ]
    },
    {
      "cell_type": "markdown",
      "metadata": {
        "id": "ByxVyYvPW2u6"
      },
      "source": [
        "**Box Plots**"
      ]
    },
    {
      "cell_type": "code",
      "metadata": {
        "colab": {
          "base_uri": "https://localhost:8080/",
          "height": 265
        },
        "id": "FjWNdwtnW2B8",
        "outputId": "b248cd01-2e31-49c5-f573-2fb070e7028b"
      },
      "source": [
        "plt.boxplot(dfinal['SUP_APP'], vert=False)\n",
        "plt.show()"
      ],
      "execution_count": null,
      "outputs": [
        {
          "output_type": "display_data",
          "data": {
            "image/png": "[encoded data removed]",
            "text/plain": [
              "<Figure size 432x288 with 1 Axes>"
            ]
          },
          "metadata": {
            "needs_background": "light"
          }
        }
      ]
    },
    {
      "cell_type": "code",
      "metadata": {
        "colab": {
          "base_uri": "https://localhost:8080/",
          "height": 278
        },
        "id": "jHtLH9nRXQVK",
        "outputId": "1b1bab4f-9d32-442a-d5a1-f166f2848048"
      },
      "source": [
        "plt.boxplot(dfinal['PROP_LOSS'], vert=False)\n",
        "plt.show()"
      ],
      "execution_count": null,
      "outputs": [
        {
          "output_type": "display_data",
          "data": {
            "image/png": "[encoded data removed]",
            "text/plain": [
              "<Figure size 432x288 with 1 Axes>"
            ]
          },
          "metadata": {
            "needs_background": "light"
          }
        }
      ]
    },
    {
      "cell_type": "code",
      "metadata": {
        "colab": {
          "base_uri": "https://localhost:8080/",
          "height": 278
        },
        "id": "NXAT_hY6XYDD",
        "outputId": "92122558-af0c-4339-f33b-25f10f3ef079"
      },
      "source": [
        "plt.boxplot(dfinal['CONT_VAL'], vert=False)\n",
        "plt.show()"
      ],
      "execution_count": null,
      "outputs": [
        {
          "output_type": "display_data",
          "data": {
            "image/png": "[encoded data removed]",
            "text/plain": [
              "<Figure size 432x288 with 1 Axes>"
            ]
          },
          "metadata": {
            "needs_background": "light"
          }
        }
      ]
    },
    {
      "cell_type": "markdown",
      "metadata": {
        "id": "7Qa200TcXfTQ"
      },
      "source": [
        "We discovered outliers in the box plots for 'SUP APP,' 'PROP LOSS,' and 'CONT VAL,' which would have caused problems when min/max scaling input variables. As a result, a few of the severe outliers were eliminated from the analysis."
      ]
    },
    {
      "cell_type": "code",
      "metadata": {
        "id": "fZ6VgmJ72QjC"
      },
      "source": [
        "dfinal.drop(dfinal[dfinal['SUP_APP'] == 130].index, inplace=True)"
      ],
      "execution_count": null,
      "outputs": []
    },
    {
      "cell_type": "code",
      "metadata": {
        "id": "qqSIOiUkDdh4"
      },
      "source": [
        "dfinal.drop(dfinal[dfinal['PROP_LOSS'] == 35000000].index, axis=0, inplace=True)"
      ],
      "execution_count": null,
      "outputs": []
    },
    {
      "cell_type": "code",
      "metadata": {
        "id": "C3OJIgKZKe91"
      },
      "source": [
        "dfinal.drop(dfinal[dfinal['PROP_LOSS'] == 20000000].index, axis=0, inplace=True)"
      ],
      "execution_count": null,
      "outputs": []
    },
    {
      "cell_type": "code",
      "metadata": {
        "id": "xGniWhwwOYZ3"
      },
      "source": [
        "dfinal.drop(dfinal[dfinal['CONT_VAL'] >= 100000000].index, axis=0, inplace=True)"
      ],
      "execution_count": null,
      "outputs": []
    },
    {
      "cell_type": "markdown",
      "metadata": {
        "id": "wegqHHbUpwm0"
      },
      "source": [
        "Now we are ready for modeling. No missing values!"
      ]
    },
    {
      "cell_type": "markdown",
      "metadata": {
        "id": "9A6XQ_gsoG5X"
      },
      "source": [
        "## Modeling: Define $X$ and $y$\n",
        "`y = 'PROP_LOSS'`\n",
        "\n",
        "`X = all other columns!`"
      ]
    },
    {
      "cell_type": "code",
      "metadata": {
        "id": "BNt9ENrGqNJB"
      },
      "source": [
        "y = dfinal['PROP_LOSS'] # Output variable\n",
        "X = dfinal.drop('PROP_LOSS', axis = 1) # Input variables"
      ],
      "execution_count": null,
      "outputs": []
    },
    {
      "cell_type": "code",
      "metadata": {
        "colab": {
          "base_uri": "https://localhost:8080/"
        },
        "id": "zxhz02fwKGLn",
        "outputId": "502f3060-bb17-413d-fa2b-b67aed7ebe9a"
      },
      "source": [
        "X.info()"
      ],
      "execution_count": null,
      "outputs": [
        {
          "output_type": "stream",
          "name": "stdout",
          "text": [
            "<class 'pandas.core.frame.DataFrame'>\n",
            "Int64Index: 16506 entries, 6 to 31120\n",
            "Data columns (total 11 columns):\n",
            " #   Column    Non-Null Count  Dtype  \n",
            "---  ------    --------------  -----  \n",
            " 0   INC_TYPE  16506 non-null  int64  \n",
            " 1   ALARMS    16506 non-null  float64\n",
            " 2   ACT_TAK1  16506 non-null  float64\n",
            " 3   SUP_APP   16506 non-null  int64  \n",
            " 4   EMS_APP   16506 non-null  int64  \n",
            " 5   OTH_APP   16506 non-null  int64  \n",
            " 6   PROP_VAL  16506 non-null  float64\n",
            " 7   CONT_VAL  16506 non-null  float64\n",
            " 8   FF_DEATH  16506 non-null  float64\n",
            " 9   FF_INJ    16506 non-null  float64\n",
            " 10  PROP_USE  16506 non-null  float64\n",
            "dtypes: float64(7), int64(4)\n",
            "memory usage: 1.5 MB\n"
          ]
        }
      ]
    },
    {
      "cell_type": "code",
      "metadata": {
        "id": "7nHbjDVsqvNG",
        "colab": {
          "base_uri": "https://localhost:8080/"
        },
        "outputId": "a1d27419-d8ae-422a-b0ac-7ec28706cde6"
      },
      "source": [
        "print(y.shape)\n",
        "print(X.shape)"
      ],
      "execution_count": null,
      "outputs": [
        {
          "output_type": "stream",
          "name": "stdout",
          "text": [
            "(16506,)\n",
            "(16506, 11)\n"
          ]
        }
      ]
    },
    {
      "cell_type": "markdown",
      "metadata": {
        "id": "wjESqA3y9HoH"
      },
      "source": [
        "## Modeling: Split data using an 80/20 random split. Use a random_state so that you can repeat your work."
      ]
    },
    {
      "cell_type": "code",
      "metadata": {
        "id": "YzGsDMBEpz_q"
      },
      "source": [
        "import numpy as np\n",
        "\n",
        "# these functions are useful for splitting and normalization\n",
        "\n",
        "from sklearn.preprocessing import  MinMaxScaler\n",
        "\n",
        "from sklearn.model_selection import train_test_split\n",
        "\n",
        "# import other functions we'll need for regression modeling\n",
        "\n",
        "from sklearn.linear_model import LinearRegression\n",
        "\n",
        "# regression error metrics\n",
        "\n",
        "from sklearn.metrics import mean_absolute_error\n",
        "\n",
        "from sklearn.metrics import mean_squared_error\n",
        "\n",
        "from sklearn.metrics import r2_score\n",
        "\n",
        "from sklearn.metrics import median_absolute_error\n",
        "\n",
        "from sklearn.linear_model import Lasso, LassoCV\n",
        "import statsmodels.api as sm\n",
        "\n",
        "from sklearn.linear_model import ElasticNet, ElasticNetCV"
      ],
      "execution_count": null,
      "outputs": []
    },
    {
      "cell_type": "code",
      "metadata": {
        "id": "kxr2oNU4qAp0"
      },
      "source": [
        "X_train, X_test, y_train, y_test = train_test_split(X, y,\n",
        "\n",
        "                                                    test_size = 0.2, # 80/20 split\n",
        "\n",
        "                                                    shuffle = True,\n",
        "\n",
        "                                                    random_state = 42)"
      ],
      "execution_count": null,
      "outputs": []
    },
    {
      "cell_type": "code",
      "metadata": {
        "colab": {
          "base_uri": "https://localhost:8080/"
        },
        "id": "J9-40v4tsewj",
        "outputId": "97f38252-8c2a-439d-8f0f-7ea24b7c9d05"
      },
      "source": [
        "print(X_train.shape, X_test.shape, y_train.shape, y_test.shape)"
      ],
      "execution_count": null,
      "outputs": [
        {
          "output_type": "stream",
          "name": "stdout",
          "text": [
            "(13204, 11) (3302, 11) (13204,) (3302,)\n"
          ]
        }
      ]
    },
    {
      "cell_type": "code",
      "metadata": {
        "id": "Af4lgWMnssKG"
      },
      "source": [
        "# Convert to numpy array\n",
        "X_train = np.array(X_train)\n",
        "X_test = np.array(X_test)\n",
        "y_train = np.array(y_train)\n",
        "y_test = np.array(y_test)"
      ],
      "execution_count": null,
      "outputs": []
    },
    {
      "cell_type": "code",
      "metadata": {
        "id": "pB1QtLeVtFUe"
      },
      "source": [
        "scaler = MinMaxScaler() # For min/max scaling"
      ],
      "execution_count": null,
      "outputs": []
    },
    {
      "cell_type": "code",
      "metadata": {
        "id": "Jr9C2eW2tmFo"
      },
      "source": [
        "X_train = scaler.fit_transform(X_train) # scale"
      ],
      "execution_count": null,
      "outputs": []
    },
    {
      "cell_type": "code",
      "metadata": {
        "id": "G7U3AoqCtdna"
      },
      "source": [
        "# take that coordinate system you just learned on X_train, and APPLY it to X_test\n",
        "\n",
        "X_test = scaler.transform(X_test)"
      ],
      "execution_count": null,
      "outputs": []
    },
    {
      "cell_type": "code",
      "metadata": {
        "colab": {
          "base_uri": "https://localhost:8080/"
        },
        "id": "gErh3H0HtotT",
        "outputId": "fe690a6e-fb93-4fbe-aaf5-1be4241ee5b5"
      },
      "source": [
        "X_train"
      ],
      "execution_count": null,
      "outputs": [
        {
          "output_type": "execute_result",
          "data": {
            "text/plain": [
              "array([[0.03030303, 0.        , 0.11956522, ..., 0.        , 0.        ,\n",
              "        0.57317073],\n",
              "       [0.05785124, 0.04761905, 0.11956522, ..., 0.        , 0.        ,\n",
              "        0.42581301],\n",
              "       [0.03030303, 0.04761905, 0.11956522, ..., 0.        , 0.        ,\n",
              "        0.42581301],\n",
              "       ...,\n",
              "       [0.1046832 , 0.04761905, 0.11956522, ..., 0.        , 0.        ,\n",
              "        0.97662602],\n",
              "       [0.03030303, 0.        , 0.93478261, ..., 0.        , 0.        ,\n",
              "        0.43597561],\n",
              "       [0.08815427, 0.14285714, 0.11956522, ..., 0.        , 0.        ,\n",
              "        0.98069106]])"
            ]
          },
          "metadata": {},
          "execution_count": 170
        }
      ]
    },
    {
      "cell_type": "code",
      "metadata": {
        "colab": {
          "base_uri": "https://localhost:8080/",
          "height": 315
        },
        "id": "nlk7fmiqtqRE",
        "outputId": "44723556-cf2f-4359-847e-aa6aa5bd01c0"
      },
      "source": [
        "tmp2 = pd.DataFrame(X_train) # Convert to dataframe\n",
        "tmp2.describe()"
      ],
      "execution_count": null,
      "outputs": [
        {
          "output_type": "execute_result",
          "data": {
            "text/html": [
              "<div>\n",
              "<style scoped>\n",
              "    .dataframe tbody tr th:only-of-type {\n",
              "        vertical-align: middle;\n",
              "    }\n",
              "\n",
              "    .dataframe tbody tr th {\n",
              "        vertical-align: top;\n",
              "    }\n",
              "\n",
              "    .dataframe thead th {\n",
              "        text-align: right;\n",
              "    }\n",
              "</style>\n",
              "<table border=\"1\" class=\"dataframe\">\n",
              "  <thead>\n",
              "    <tr style=\"text-align: right;\">\n",
              "      <th></th>\n",
              "      <th>0</th>\n",
              "      <th>1</th>\n",
              "      <th>2</th>\n",
              "      <th>3</th>\n",
              "      <th>4</th>\n",
              "      <th>5</th>\n",
              "      <th>6</th>\n",
              "      <th>7</th>\n",
              "      <th>8</th>\n",
              "      <th>9</th>\n",
              "      <th>10</th>\n",
              "    </tr>\n",
              "  </thead>\n",
              "  <tbody>\n",
              "    <tr>\n",
              "      <th>count</th>\n",
              "      <td>13204.000000</td>\n",
              "      <td>13204.000000</td>\n",
              "      <td>13204.000000</td>\n",
              "      <td>13204.000000</td>\n",
              "      <td>13204.000000</td>\n",
              "      <td>13204.000000</td>\n",
              "      <td>13204.000000</td>\n",
              "      <td>1.320400e+04</td>\n",
              "      <td>13204.000000</td>\n",
              "      <td>13204.000000</td>\n",
              "      <td>13204.000000</td>\n",
              "    </tr>\n",
              "    <tr>\n",
              "      <th>mean</th>\n",
              "      <td>0.060550</td>\n",
              "      <td>0.043951</td>\n",
              "      <td>0.253774</td>\n",
              "      <td>0.096061</td>\n",
              "      <td>0.020699</td>\n",
              "      <td>0.011900</td>\n",
              "      <td>0.001290</td>\n",
              "      <td>2.270106e-03</td>\n",
              "      <td>0.000114</td>\n",
              "      <td>0.003509</td>\n",
              "      <td>0.609687</td>\n",
              "    </tr>\n",
              "    <tr>\n",
              "      <th>std</th>\n",
              "      <td>0.089845</td>\n",
              "      <td>0.039756</td>\n",
              "      <td>0.292029</td>\n",
              "      <td>0.083568</td>\n",
              "      <td>0.053473</td>\n",
              "      <td>0.031733</td>\n",
              "      <td>0.017633</td>\n",
              "      <td>2.240237e-02</td>\n",
              "      <td>0.009729</td>\n",
              "      <td>0.023237</td>\n",
              "      <td>0.260502</td>\n",
              "    </tr>\n",
              "    <tr>\n",
              "      <th>min</th>\n",
              "      <td>0.000000</td>\n",
              "      <td>0.000000</td>\n",
              "      <td>0.000000</td>\n",
              "      <td>0.000000</td>\n",
              "      <td>0.000000</td>\n",
              "      <td>0.000000</td>\n",
              "      <td>0.000000</td>\n",
              "      <td>0.000000e+00</td>\n",
              "      <td>0.000000</td>\n",
              "      <td>0.000000</td>\n",
              "      <td>0.000000</td>\n",
              "    </tr>\n",
              "    <tr>\n",
              "      <th>25%</th>\n",
              "      <td>0.030303</td>\n",
              "      <td>0.047619</td>\n",
              "      <td>0.119565</td>\n",
              "      <td>0.039216</td>\n",
              "      <td>0.000000</td>\n",
              "      <td>0.000000</td>\n",
              "      <td>0.000016</td>\n",
              "      <td>3.333333e-08</td>\n",
              "      <td>0.000000</td>\n",
              "      <td>0.000000</td>\n",
              "      <td>0.425813</td>\n",
              "    </tr>\n",
              "    <tr>\n",
              "      <th>50%</th>\n",
              "      <td>0.030303</td>\n",
              "      <td>0.047619</td>\n",
              "      <td>0.119565</td>\n",
              "      <td>0.078431</td>\n",
              "      <td>0.000000</td>\n",
              "      <td>0.000000</td>\n",
              "      <td>0.000100</td>\n",
              "      <td>1.000000e-04</td>\n",
              "      <td>0.000000</td>\n",
              "      <td>0.000000</td>\n",
              "      <td>0.435976</td>\n",
              "    </tr>\n",
              "    <tr>\n",
              "      <th>75%</th>\n",
              "      <td>0.085399</td>\n",
              "      <td>0.047619</td>\n",
              "      <td>0.119565</td>\n",
              "      <td>0.137255</td>\n",
              "      <td>0.000000</td>\n",
              "      <td>0.015385</td>\n",
              "      <td>0.000416</td>\n",
              "      <td>6.666667e-04</td>\n",
              "      <td>0.000000</td>\n",
              "      <td>0.000000</td>\n",
              "      <td>0.975610</td>\n",
              "    </tr>\n",
              "    <tr>\n",
              "      <th>max</th>\n",
              "      <td>1.000000</td>\n",
              "      <td>1.000000</td>\n",
              "      <td>1.000000</td>\n",
              "      <td>1.000000</td>\n",
              "      <td>1.000000</td>\n",
              "      <td>1.000000</td>\n",
              "      <td>1.000000</td>\n",
              "      <td>1.000000e+00</td>\n",
              "      <td>1.000000</td>\n",
              "      <td>1.000000</td>\n",
              "      <td>1.000000</td>\n",
              "    </tr>\n",
              "  </tbody>\n",
              "</table>\n",
              "</div>"
            ],
            "text/plain": [
              "                 0             1   ...            9             10\n",
              "count  13204.000000  13204.000000  ...  13204.000000  13204.000000\n",
              "mean       0.060550      0.043951  ...      0.003509      0.609687\n",
              "std        0.089845      0.039756  ...      0.023237      0.260502\n",
              "min        0.000000      0.000000  ...      0.000000      0.000000\n",
              "25%        0.030303      0.047619  ...      0.000000      0.425813\n",
              "50%        0.030303      0.047619  ...      0.000000      0.435976\n",
              "75%        0.085399      0.047619  ...      0.000000      0.975610\n",
              "max        1.000000      1.000000  ...      1.000000      1.000000\n",
              "\n",
              "[8 rows x 11 columns]"
            ]
          },
          "metadata": {},
          "execution_count": 171
        }
      ]
    },
    {
      "cell_type": "code",
      "metadata": {
        "colab": {
          "base_uri": "https://localhost:8080/",
          "height": 332
        },
        "id": "2Unu6xZRuJve",
        "outputId": "788cd2c7-4894-4f24-ff94-b5bedad8dd4a"
      },
      "source": [
        "tmp2 = pd.DataFrame(X_test) # Convert to dataframe\n",
        "\n",
        "tmp2.describe()"
      ],
      "execution_count": null,
      "outputs": [
        {
          "output_type": "execute_result",
          "data": {
            "text/html": [
              "<div>\n",
              "<style scoped>\n",
              "    .dataframe tbody tr th:only-of-type {\n",
              "        vertical-align: middle;\n",
              "    }\n",
              "\n",
              "    .dataframe tbody tr th {\n",
              "        vertical-align: top;\n",
              "    }\n",
              "\n",
              "    .dataframe thead th {\n",
              "        text-align: right;\n",
              "    }\n",
              "</style>\n",
              "<table border=\"1\" class=\"dataframe\">\n",
              "  <thead>\n",
              "    <tr style=\"text-align: right;\">\n",
              "      <th></th>\n",
              "      <th>0</th>\n",
              "      <th>1</th>\n",
              "      <th>2</th>\n",
              "      <th>3</th>\n",
              "      <th>4</th>\n",
              "      <th>5</th>\n",
              "      <th>6</th>\n",
              "      <th>7</th>\n",
              "      <th>8</th>\n",
              "      <th>9</th>\n",
              "      <th>10</th>\n",
              "    </tr>\n",
              "  </thead>\n",
              "  <tbody>\n",
              "    <tr>\n",
              "      <th>count</th>\n",
              "      <td>3302.000000</td>\n",
              "      <td>3302.000000</td>\n",
              "      <td>3302.000000</td>\n",
              "      <td>3302.000000</td>\n",
              "      <td>3302.000000</td>\n",
              "      <td>3302.000000</td>\n",
              "      <td>3.302000e+03</td>\n",
              "      <td>3.302000e+03</td>\n",
              "      <td>3302.000000</td>\n",
              "      <td>3302.000000</td>\n",
              "      <td>3302.000000</td>\n",
              "    </tr>\n",
              "    <tr>\n",
              "      <th>mean</th>\n",
              "      <td>0.060312</td>\n",
              "      <td>0.043970</td>\n",
              "      <td>0.254905</td>\n",
              "      <td>0.094850</td>\n",
              "      <td>0.019836</td>\n",
              "      <td>0.013027</td>\n",
              "      <td>9.100938e-04</td>\n",
              "      <td>1.474295e-03</td>\n",
              "      <td>0.000151</td>\n",
              "      <td>0.003912</td>\n",
              "      <td>0.604862</td>\n",
              "    </tr>\n",
              "    <tr>\n",
              "      <th>std</th>\n",
              "      <td>0.091000</td>\n",
              "      <td>0.037814</td>\n",
              "      <td>0.294622</td>\n",
              "      <td>0.078926</td>\n",
              "      <td>0.051616</td>\n",
              "      <td>0.033379</td>\n",
              "      <td>1.028295e-02</td>\n",
              "      <td>8.078092e-03</td>\n",
              "      <td>0.008701</td>\n",
              "      <td>0.022269</td>\n",
              "      <td>0.259185</td>\n",
              "    </tr>\n",
              "    <tr>\n",
              "      <th>min</th>\n",
              "      <td>0.000000</td>\n",
              "      <td>0.000000</td>\n",
              "      <td>0.000000</td>\n",
              "      <td>0.000000</td>\n",
              "      <td>0.000000</td>\n",
              "      <td>0.000000</td>\n",
              "      <td>-4.093377e-08</td>\n",
              "      <td>0.000000e+00</td>\n",
              "      <td>0.000000</td>\n",
              "      <td>0.000000</td>\n",
              "      <td>0.000000</td>\n",
              "    </tr>\n",
              "    <tr>\n",
              "      <th>25%</th>\n",
              "      <td>0.030303</td>\n",
              "      <td>0.047619</td>\n",
              "      <td>0.119565</td>\n",
              "      <td>0.039216</td>\n",
              "      <td>0.000000</td>\n",
              "      <td>0.000000</td>\n",
              "      <td>1.646373e-05</td>\n",
              "      <td>1.666667e-07</td>\n",
              "      <td>0.000000</td>\n",
              "      <td>0.000000</td>\n",
              "      <td>0.425813</td>\n",
              "    </tr>\n",
              "    <tr>\n",
              "      <th>50%</th>\n",
              "      <td>0.030303</td>\n",
              "      <td>0.047619</td>\n",
              "      <td>0.119565</td>\n",
              "      <td>0.078431</td>\n",
              "      <td>0.000000</td>\n",
              "      <td>0.000000</td>\n",
              "      <td>1.164637e-04</td>\n",
              "      <td>1.000000e-04</td>\n",
              "      <td>0.000000</td>\n",
              "      <td>0.000000</td>\n",
              "      <td>0.435976</td>\n",
              "    </tr>\n",
              "    <tr>\n",
              "      <th>75%</th>\n",
              "      <td>0.085399</td>\n",
              "      <td>0.047619</td>\n",
              "      <td>0.119565</td>\n",
              "      <td>0.137255</td>\n",
              "      <td>0.000000</td>\n",
              "      <td>0.015385</td>\n",
              "      <td>4.497971e-04</td>\n",
              "      <td>8.333333e-04</td>\n",
              "      <td>0.000000</td>\n",
              "      <td>0.000000</td>\n",
              "      <td>0.953252</td>\n",
              "    </tr>\n",
              "    <tr>\n",
              "      <th>max</th>\n",
              "      <td>1.049587</td>\n",
              "      <td>1.000000</td>\n",
              "      <td>1.000000</td>\n",
              "      <td>1.000000</td>\n",
              "      <td>0.687500</td>\n",
              "      <td>0.446154</td>\n",
              "      <td>3.333332e-01</td>\n",
              "      <td>1.666667e-01</td>\n",
              "      <td>0.500000</td>\n",
              "      <td>0.333333</td>\n",
              "      <td>1.000000</td>\n",
              "    </tr>\n",
              "  </tbody>\n",
              "</table>\n",
              "</div>"
            ],
            "text/plain": [
              "                0            1   ...           9            10\n",
              "count  3302.000000  3302.000000  ...  3302.000000  3302.000000\n",
              "mean      0.060312     0.043970  ...     0.003912     0.604862\n",
              "std       0.091000     0.037814  ...     0.022269     0.259185\n",
              "min       0.000000     0.000000  ...     0.000000     0.000000\n",
              "25%       0.030303     0.047619  ...     0.000000     0.425813\n",
              "50%       0.030303     0.047619  ...     0.000000     0.435976\n",
              "75%       0.085399     0.047619  ...     0.000000     0.953252\n",
              "max       1.049587     1.000000  ...     0.333333     1.000000\n",
              "\n",
              "[8 rows x 11 columns]"
            ]
          },
          "metadata": {},
          "execution_count": 172
        }
      ]
    },
    {
      "cell_type": "markdown",
      "metadata": {
        "id": "rDyYxM069RZ8"
      },
      "source": [
        "## Modeling: Fit a linear regression (vanilla, ridge, lasso or elastic net).\n",
        "Your choice! Feel free to experiment here and see what gives the best result."
      ]
    },
    {
      "cell_type": "markdown",
      "metadata": {
        "id": "c8ou_2yiut-8"
      },
      "source": [
        "**Simple Linear Regression Model**"
      ]
    },
    {
      "cell_type": "code",
      "metadata": {
        "id": "GJVJAv31q0Wj"
      },
      "source": [
        "LR = LinearRegression() # Create new object for LinearRegression\n",
        "\n",
        "# fit the model - one line of code - LR is now a 'model object'\n",
        "\n",
        "LR = LR.fit(X_train, y_train) # Run the model. Order matters here! don't reverse it!"
      ],
      "execution_count": null,
      "outputs": []
    },
    {
      "cell_type": "code",
      "metadata": {
        "id": "V9ntOaj_vQRJ"
      },
      "source": [
        "train_preds = LR.predict(X_train) \n",
        "test_preds = LR.predict(X_test)"
      ],
      "execution_count": null,
      "outputs": []
    },
    {
      "cell_type": "code",
      "metadata": {
        "colab": {
          "base_uri": "https://localhost:8080/"
        },
        "id": "4rlgf1_jxMsd",
        "outputId": "aead88d5-d59a-40ed-b7d5-96a9664faf99"
      },
      "source": [
        "print(train_preds.shape) \n",
        "print(y_train.shape)\n",
        "print(test_preds.shape)\n",
        "print(y_test.shape)"
      ],
      "execution_count": null,
      "outputs": [
        {
          "output_type": "stream",
          "name": "stdout",
          "text": [
            "(13204,)\n",
            "(13204,)\n",
            "(3302,)\n",
            "(3302,)\n"
          ]
        }
      ]
    },
    {
      "cell_type": "markdown",
      "metadata": {
        "id": "2H28hrMj9eDf"
      },
      "source": [
        "## Evaluation: calculate mean absolute error and median absolute error for train and test partition.\n",
        "Which number is lower - mean or median absolute error? And what does this mean about how your model is predicting?"
      ]
    },
    {
      "cell_type": "code",
      "metadata": {
        "colab": {
          "base_uri": "https://localhost:8080/"
        },
        "id": "wZgX2PPj3Oyx",
        "outputId": "e7ab311c-78c4-45ea-eace-5fb2c7363eb5"
      },
      "source": [
        "# Calculate Mean Absolute Error\n",
        "\n",
        "trainMAE = mean_absolute_error(y_train, train_preds)\n",
        "\n",
        "print(\"This is trainMAE:\", trainMAE) # train\n",
        "\n",
        "testMAE = mean_absolute_error(y_test, test_preds)\n",
        "\n",
        "print(\"This is testMAE:\", testMAE) # test"
      ],
      "execution_count": null,
      "outputs": [
        {
          "output_type": "stream",
          "name": "stdout",
          "text": [
            "This is trainMAE: 36202.236910556996\n",
            "This is testMAE: 39058.63939688454\n"
          ]
        }
      ]
    },
    {
      "cell_type": "code",
      "metadata": {
        "id": "x23vsCpVrKFs",
        "colab": {
          "base_uri": "https://localhost:8080/"
        },
        "outputId": "9d02f0aa-88d6-4655-9d74-fa7b1b177455"
      },
      "source": [
        "# Calculate Median Absolute Error\n",
        "\n",
        "trainMAE = median_absolute_error(y_train, train_preds)\n",
        "\n",
        "print(\"This is trainMAE:\", trainMAE) # train\n",
        "\n",
        "testMAE = median_absolute_error(y_test, test_preds)\n",
        "\n",
        "print(\"This is testMAE:\", testMAE) # test"
      ],
      "execution_count": null,
      "outputs": [
        {
          "output_type": "stream",
          "name": "stdout",
          "text": [
            "This is trainMAE: 17781.255304798447\n",
            "This is testMAE: 17801.070765764533\n"
          ]
        }
      ]
    },
    {
      "cell_type": "markdown",
      "metadata": {
        "id": "wm7QSeTz4ydN"
      },
      "source": [
        "As we can see above, the Median Absolute Error is lower than the Mean Absolute error. \n",
        "This indicates that the lower and upper limit of error is less in magnitude."
      ]
    },
    {
      "cell_type": "markdown",
      "metadata": {
        "id": "1BN0q-tlxMKW"
      },
      "source": [
        "## Evalution: Calculate the baseline mean-only predictions and calculate both mean and median absolute error."
      ]
    },
    {
      "cell_type": "code",
      "metadata": {
        "id": "ljhngXcsT_7I"
      },
      "source": [
        "baseline = y_train # Create new variable"
      ],
      "execution_count": null,
      "outputs": []
    },
    {
      "cell_type": "code",
      "metadata": {
        "colab": {
          "base_uri": "https://localhost:8080/",
          "height": 203
        },
        "id": "cUZvvrYgKBch",
        "outputId": "d8df0374-62a9-4c0f-89fa-c648c8ea956e"
      },
      "source": [
        "baseline = pd.DataFrame(baseline) # Convert to dataframe\n",
        "baseline.head()"
      ],
      "execution_count": null,
      "outputs": [
        {
          "output_type": "execute_result",
          "data": {
            "text/html": [
              "<div>\n",
              "<style scoped>\n",
              "    .dataframe tbody tr th:only-of-type {\n",
              "        vertical-align: middle;\n",
              "    }\n",
              "\n",
              "    .dataframe tbody tr th {\n",
              "        vertical-align: top;\n",
              "    }\n",
              "\n",
              "    .dataframe thead th {\n",
              "        text-align: right;\n",
              "    }\n",
              "</style>\n",
              "<table border=\"1\" class=\"dataframe\">\n",
              "  <thead>\n",
              "    <tr style=\"text-align: right;\">\n",
              "      <th></th>\n",
              "      <th>0</th>\n",
              "    </tr>\n",
              "  </thead>\n",
              "  <tbody>\n",
              "    <tr>\n",
              "      <th>0</th>\n",
              "      <td>20000.0</td>\n",
              "    </tr>\n",
              "    <tr>\n",
              "      <th>1</th>\n",
              "      <td>15000.0</td>\n",
              "    </tr>\n",
              "    <tr>\n",
              "      <th>2</th>\n",
              "      <td>100000.0</td>\n",
              "    </tr>\n",
              "    <tr>\n",
              "      <th>3</th>\n",
              "      <td>5000.0</td>\n",
              "    </tr>\n",
              "    <tr>\n",
              "      <th>4</th>\n",
              "      <td>2000.0</td>\n",
              "    </tr>\n",
              "  </tbody>\n",
              "</table>\n",
              "</div>"
            ],
            "text/plain": [
              "          0\n",
              "0   20000.0\n",
              "1   15000.0\n",
              "2  100000.0\n",
              "3    5000.0\n",
              "4    2000.0"
            ]
          },
          "metadata": {},
          "execution_count": 179
        }
      ]
    },
    {
      "cell_type": "code",
      "metadata": {
        "colab": {
          "base_uri": "https://localhost:8080/",
          "height": 417
        },
        "id": "iniJGCN6KQiJ",
        "outputId": "8a36968d-6632-4a41-8729-c22c02661128"
      },
      "source": [
        "baseline['baseline_train_preds'] = y_train.mean() # Create new column\n",
        "baseline"
      ],
      "execution_count": null,
      "outputs": [
        {
          "output_type": "execute_result",
          "data": {
            "text/html": [
              "<div>\n",
              "<style scoped>\n",
              "    .dataframe tbody tr th:only-of-type {\n",
              "        vertical-align: middle;\n",
              "    }\n",
              "\n",
              "    .dataframe tbody tr th {\n",
              "        vertical-align: top;\n",
              "    }\n",
              "\n",
              "    .dataframe thead th {\n",
              "        text-align: right;\n",
              "    }\n",
              "</style>\n",
              "<table border=\"1\" class=\"dataframe\">\n",
              "  <thead>\n",
              "    <tr style=\"text-align: right;\">\n",
              "      <th></th>\n",
              "      <th>0</th>\n",
              "      <th>baseline_train_preds</th>\n",
              "    </tr>\n",
              "  </thead>\n",
              "  <tbody>\n",
              "    <tr>\n",
              "      <th>0</th>\n",
              "      <td>20000.0</td>\n",
              "      <td>33594.244168</td>\n",
              "    </tr>\n",
              "    <tr>\n",
              "      <th>1</th>\n",
              "      <td>15000.0</td>\n",
              "      <td>33594.244168</td>\n",
              "    </tr>\n",
              "    <tr>\n",
              "      <th>2</th>\n",
              "      <td>100000.0</td>\n",
              "      <td>33594.244168</td>\n",
              "    </tr>\n",
              "    <tr>\n",
              "      <th>3</th>\n",
              "      <td>5000.0</td>\n",
              "      <td>33594.244168</td>\n",
              "    </tr>\n",
              "    <tr>\n",
              "      <th>4</th>\n",
              "      <td>2000.0</td>\n",
              "      <td>33594.244168</td>\n",
              "    </tr>\n",
              "    <tr>\n",
              "      <th>...</th>\n",
              "      <td>...</td>\n",
              "      <td>...</td>\n",
              "    </tr>\n",
              "    <tr>\n",
              "      <th>13199</th>\n",
              "      <td>6000.0</td>\n",
              "      <td>33594.244168</td>\n",
              "    </tr>\n",
              "    <tr>\n",
              "      <th>13200</th>\n",
              "      <td>2000.0</td>\n",
              "      <td>33594.244168</td>\n",
              "    </tr>\n",
              "    <tr>\n",
              "      <th>13201</th>\n",
              "      <td>50000.0</td>\n",
              "      <td>33594.244168</td>\n",
              "    </tr>\n",
              "    <tr>\n",
              "      <th>13202</th>\n",
              "      <td>1500.0</td>\n",
              "      <td>33594.244168</td>\n",
              "    </tr>\n",
              "    <tr>\n",
              "      <th>13203</th>\n",
              "      <td>20000.0</td>\n",
              "      <td>33594.244168</td>\n",
              "    </tr>\n",
              "  </tbody>\n",
              "</table>\n",
              "<p>13204 rows × 2 columns</p>\n",
              "</div>"
            ],
            "text/plain": [
              "              0  baseline_train_preds\n",
              "0       20000.0          33594.244168\n",
              "1       15000.0          33594.244168\n",
              "2      100000.0          33594.244168\n",
              "3        5000.0          33594.244168\n",
              "4        2000.0          33594.244168\n",
              "...         ...                   ...\n",
              "13199    6000.0          33594.244168\n",
              "13200    2000.0          33594.244168\n",
              "13201   50000.0          33594.244168\n",
              "13202    1500.0          33594.244168\n",
              "13203   20000.0          33594.244168\n",
              "\n",
              "[13204 rows x 2 columns]"
            ]
          },
          "metadata": {},
          "execution_count": 180
        }
      ]
    },
    {
      "cell_type": "code",
      "metadata": {
        "colab": {
          "base_uri": "https://localhost:8080/"
        },
        "id": "oRqh64RaKgNu",
        "outputId": "d3094dd0-1858-48d9-da30-38d1c63d6c41"
      },
      "source": [
        "# Calculate Mean Absolute Error\n",
        "\n",
        "trainMAE = mean_absolute_error(y_train, baseline['baseline_train_preds'])\n",
        "\n",
        "print(\"This is trainMAE:\", trainMAE) # train"
      ],
      "execution_count": null,
      "outputs": [
        {
          "output_type": "stream",
          "name": "stdout",
          "text": [
            "This is trainMAE: 39990.65758248833\n"
          ]
        }
      ]
    },
    {
      "cell_type": "code",
      "metadata": {
        "colab": {
          "base_uri": "https://localhost:8080/"
        },
        "id": "zBHshWYGK35v",
        "outputId": "55cd2de7-cb0d-4425-8662-830251200ee0"
      },
      "source": [
        "# Calculate Median Absolute Error\n",
        "\n",
        "trainMAE = median_absolute_error(y_train, baseline['baseline_train_preds'])\n",
        "\n",
        "print(\"This is trainMAE:\", trainMAE) # train"
      ],
      "execution_count": null,
      "outputs": [
        {
          "output_type": "stream",
          "name": "stdout",
          "text": [
            "This is trainMAE: 28594.244168433805\n"
          ]
        }
      ]
    },
    {
      "cell_type": "code",
      "metadata": {
        "id": "01XoZhc5Li-i"
      },
      "source": [
        "baseline_test = y_test # Create new variable"
      ],
      "execution_count": null,
      "outputs": []
    },
    {
      "cell_type": "code",
      "metadata": {
        "colab": {
          "base_uri": "https://localhost:8080/",
          "height": 203
        },
        "id": "p5VOIuVELaqq",
        "outputId": "12ffba29-52cc-4777-d557-def34fcd0c45"
      },
      "source": [
        "baseline_test = pd.DataFrame(baseline_test)\n",
        "baseline_test.head()"
      ],
      "execution_count": null,
      "outputs": [
        {
          "output_type": "execute_result",
          "data": {
            "text/html": [
              "<div>\n",
              "<style scoped>\n",
              "    .dataframe tbody tr th:only-of-type {\n",
              "        vertical-align: middle;\n",
              "    }\n",
              "\n",
              "    .dataframe tbody tr th {\n",
              "        vertical-align: top;\n",
              "    }\n",
              "\n",
              "    .dataframe thead th {\n",
              "        text-align: right;\n",
              "    }\n",
              "</style>\n",
              "<table border=\"1\" class=\"dataframe\">\n",
              "  <thead>\n",
              "    <tr style=\"text-align: right;\">\n",
              "      <th></th>\n",
              "      <th>0</th>\n",
              "    </tr>\n",
              "  </thead>\n",
              "  <tbody>\n",
              "    <tr>\n",
              "      <th>0</th>\n",
              "      <td>45000.0</td>\n",
              "    </tr>\n",
              "    <tr>\n",
              "      <th>1</th>\n",
              "      <td>32000.0</td>\n",
              "    </tr>\n",
              "    <tr>\n",
              "      <th>2</th>\n",
              "      <td>7000.0</td>\n",
              "    </tr>\n",
              "    <tr>\n",
              "      <th>3</th>\n",
              "      <td>6000.0</td>\n",
              "    </tr>\n",
              "    <tr>\n",
              "      <th>4</th>\n",
              "      <td>2000.0</td>\n",
              "    </tr>\n",
              "  </tbody>\n",
              "</table>\n",
              "</div>"
            ],
            "text/plain": [
              "         0\n",
              "0  45000.0\n",
              "1  32000.0\n",
              "2   7000.0\n",
              "3   6000.0\n",
              "4   2000.0"
            ]
          },
          "metadata": {},
          "execution_count": 184
        }
      ]
    },
    {
      "cell_type": "code",
      "metadata": {
        "colab": {
          "base_uri": "https://localhost:8080/",
          "height": 417
        },
        "id": "KnXdULeELCTR",
        "outputId": "36cbb631-1bf3-4772-8eb1-119f8c44491c"
      },
      "source": [
        "baseline_test['baseline_test_preds'] = y_test.mean() # Create new column\n",
        "baseline_test"
      ],
      "execution_count": null,
      "outputs": [
        {
          "output_type": "execute_result",
          "data": {
            "text/html": [
              "<div>\n",
              "<style scoped>\n",
              "    .dataframe tbody tr th:only-of-type {\n",
              "        vertical-align: middle;\n",
              "    }\n",
              "\n",
              "    .dataframe tbody tr th {\n",
              "        vertical-align: top;\n",
              "    }\n",
              "\n",
              "    .dataframe thead th {\n",
              "        text-align: right;\n",
              "    }\n",
              "</style>\n",
              "<table border=\"1\" class=\"dataframe\">\n",
              "  <thead>\n",
              "    <tr style=\"text-align: right;\">\n",
              "      <th></th>\n",
              "      <th>0</th>\n",
              "      <th>baseline_test_preds</th>\n",
              "    </tr>\n",
              "  </thead>\n",
              "  <tbody>\n",
              "    <tr>\n",
              "      <th>0</th>\n",
              "      <td>45000.0</td>\n",
              "      <td>37805.007571</td>\n",
              "    </tr>\n",
              "    <tr>\n",
              "      <th>1</th>\n",
              "      <td>32000.0</td>\n",
              "      <td>37805.007571</td>\n",
              "    </tr>\n",
              "    <tr>\n",
              "      <th>2</th>\n",
              "      <td>7000.0</td>\n",
              "      <td>37805.007571</td>\n",
              "    </tr>\n",
              "    <tr>\n",
              "      <th>3</th>\n",
              "      <td>6000.0</td>\n",
              "      <td>37805.007571</td>\n",
              "    </tr>\n",
              "    <tr>\n",
              "      <th>4</th>\n",
              "      <td>2000.0</td>\n",
              "      <td>37805.007571</td>\n",
              "    </tr>\n",
              "    <tr>\n",
              "      <th>...</th>\n",
              "      <td>...</td>\n",
              "      <td>...</td>\n",
              "    </tr>\n",
              "    <tr>\n",
              "      <th>3297</th>\n",
              "      <td>40000.0</td>\n",
              "      <td>37805.007571</td>\n",
              "    </tr>\n",
              "    <tr>\n",
              "      <th>3298</th>\n",
              "      <td>25000.0</td>\n",
              "      <td>37805.007571</td>\n",
              "    </tr>\n",
              "    <tr>\n",
              "      <th>3299</th>\n",
              "      <td>1500.0</td>\n",
              "      <td>37805.007571</td>\n",
              "    </tr>\n",
              "    <tr>\n",
              "      <th>3300</th>\n",
              "      <td>5000.0</td>\n",
              "      <td>37805.007571</td>\n",
              "    </tr>\n",
              "    <tr>\n",
              "      <th>3301</th>\n",
              "      <td>150000.0</td>\n",
              "      <td>37805.007571</td>\n",
              "    </tr>\n",
              "  </tbody>\n",
              "</table>\n",
              "<p>3302 rows × 2 columns</p>\n",
              "</div>"
            ],
            "text/plain": [
              "             0  baseline_test_preds\n",
              "0      45000.0         37805.007571\n",
              "1      32000.0         37805.007571\n",
              "2       7000.0         37805.007571\n",
              "3       6000.0         37805.007571\n",
              "4       2000.0         37805.007571\n",
              "...        ...                  ...\n",
              "3297   40000.0         37805.007571\n",
              "3298   25000.0         37805.007571\n",
              "3299    1500.0         37805.007571\n",
              "3300    5000.0         37805.007571\n",
              "3301  150000.0         37805.007571\n",
              "\n",
              "[3302 rows x 2 columns]"
            ]
          },
          "metadata": {},
          "execution_count": 185
        }
      ]
    },
    {
      "cell_type": "code",
      "metadata": {
        "colab": {
          "base_uri": "https://localhost:8080/"
        },
        "id": "MAMYkViXLHA7",
        "outputId": "f6922e07-9fce-432b-f63d-d37c1657b134"
      },
      "source": [
        "# Calculate Mean Absolute Error\n",
        "\n",
        "trainMAE = mean_absolute_error(y_test, baseline_test['baseline_test_preds'])\n",
        "\n",
        "print(\"This is testMAE:\", trainMAE) # train"
      ],
      "execution_count": null,
      "outputs": [
        {
          "output_type": "stream",
          "name": "stdout",
          "text": [
            "This is testMAE: 46398.68939111842\n"
          ]
        }
      ]
    },
    {
      "cell_type": "code",
      "metadata": {
        "colab": {
          "base_uri": "https://localhost:8080/"
        },
        "id": "i7DGrthSLHrn",
        "outputId": "10b64e53-554c-4c79-fdc8-2bb41ac3acef"
      },
      "source": [
        "# Calculate Mean Absolute Error\n",
        "\n",
        "trainMAE = median_absolute_error(y_test, baseline_test['baseline_test_preds'])\n",
        "\n",
        "print(\"This is testMAE:\", trainMAE) # train"
      ],
      "execution_count": null,
      "outputs": [
        {
          "output_type": "stream",
          "name": "stdout",
          "text": [
            "This is testMAE: 32805.007571168986\n"
          ]
        }
      ]
    },
    {
      "cell_type": "markdown",
      "metadata": {
        "id": "BIlxXNb2Wmny"
      },
      "source": [
        "**Elastic Net**"
      ]
    },
    {
      "cell_type": "code",
      "metadata": {
        "id": "nk_p_kypup1q",
        "colab": {
          "base_uri": "https://localhost:8080/",
          "height": 616
        },
        "outputId": "21cb0ebc-5ee8-450e-ae73-99d6ff1478b2"
      },
      "source": [
        "model = sm.OLS(y_train,X_train)\n",
        "\n",
        "results = model.fit()\n",
        "\n",
        "results.summary()"
      ],
      "execution_count": null,
      "outputs": [
        {
          "output_type": "execute_result",
          "data": {
            "text/html": [
              "<table class=\"simpletable\">\n",
              "<caption>OLS Regression Results</caption>\n",
              "<tr>\n",
              "  <th>Dep. Variable:</th>            <td>y</td>        <th>  R-squared (uncentered):</th>       <td>   0.145</td>  \n",
              "</tr>\n",
              "<tr>\n",
              "  <th>Model:</th>                   <td>OLS</td>       <th>  Adj. R-squared (uncentered):</th>  <td>   0.144</td>  \n",
              "</tr>\n",
              "<tr>\n",
              "  <th>Method:</th>             <td>Least Squares</td>  <th>  F-statistic:       </th>           <td>   203.1</td>  \n",
              "</tr>\n",
              "<tr>\n",
              "  <th>Date:</th>             <td>Sat, 16 Oct 2021</td> <th>  Prob (F-statistic):</th>            <td>  0.00</td>   \n",
              "</tr>\n",
              "<tr>\n",
              "  <th>Time:</th>                 <td>03:48:26</td>     <th>  Log-Likelihood:    </th>          <td>-1.7394e+05</td>\n",
              "</tr>\n",
              "<tr>\n",
              "  <th>No. Observations:</th>      <td> 13204</td>      <th>  AIC:               </th>           <td>3.479e+05</td> \n",
              "</tr>\n",
              "<tr>\n",
              "  <th>Df Residuals:</th>          <td> 13193</td>      <th>  BIC:               </th>           <td>3.480e+05</td> \n",
              "</tr>\n",
              "<tr>\n",
              "  <th>Df Model:</th>              <td>    11</td>      <th>                     </th>               <td> </td>     \n",
              "</tr>\n",
              "<tr>\n",
              "  <th>Covariance Type:</th>      <td>nonrobust</td>    <th>                     </th>               <td> </td>     \n",
              "</tr>\n",
              "</table>\n",
              "<table class=\"simpletable\">\n",
              "<tr>\n",
              "   <td></td>      <th>coef</th>     <th>std err</th>      <th>t</th>      <th>P>|t|</th>  <th>[0.025</th>    <th>0.975]</th>  \n",
              "</tr>\n",
              "<tr>\n",
              "  <th>x1</th>  <td>-1823.3147</td> <td> 1.28e+04</td> <td>   -0.142</td> <td> 0.887</td> <td>-2.69e+04</td> <td> 2.33e+04</td>\n",
              "</tr>\n",
              "<tr>\n",
              "  <th>x2</th>  <td> 1.256e+05</td> <td> 2.74e+04</td> <td>    4.582</td> <td> 0.000</td> <td> 7.18e+04</td> <td> 1.79e+05</td>\n",
              "</tr>\n",
              "<tr>\n",
              "  <th>x3</th>  <td>-1905.9435</td> <td> 3706.786</td> <td>   -0.514</td> <td> 0.607</td> <td>-9171.778</td> <td> 5359.890</td>\n",
              "</tr>\n",
              "<tr>\n",
              "  <th>x4</th>  <td>  2.41e+05</td> <td> 1.21e+04</td> <td>   19.945</td> <td> 0.000</td> <td> 2.17e+05</td> <td> 2.65e+05</td>\n",
              "</tr>\n",
              "<tr>\n",
              "  <th>x5</th>  <td> 1.753e+04</td> <td> 2.13e+04</td> <td>    0.823</td> <td> 0.410</td> <td>-2.42e+04</td> <td> 5.93e+04</td>\n",
              "</tr>\n",
              "<tr>\n",
              "  <th>x6</th>  <td> 3.406e+05</td> <td> 3.56e+04</td> <td>    9.580</td> <td> 0.000</td> <td> 2.71e+05</td> <td>  4.1e+05</td>\n",
              "</tr>\n",
              "<tr>\n",
              "  <th>x7</th>  <td> 1.695e+05</td> <td> 6.39e+04</td> <td>    2.654</td> <td> 0.008</td> <td> 4.43e+04</td> <td> 2.95e+05</td>\n",
              "</tr>\n",
              "<tr>\n",
              "  <th>x8</th>  <td> 7.071e+05</td> <td> 5.02e+04</td> <td>   14.074</td> <td> 0.000</td> <td> 6.09e+05</td> <td> 8.06e+05</td>\n",
              "</tr>\n",
              "<tr>\n",
              "  <th>x9</th>  <td>-2.202e+05</td> <td> 1.14e+05</td> <td>   -1.926</td> <td> 0.054</td> <td>-4.44e+05</td> <td> 3894.731</td>\n",
              "</tr>\n",
              "<tr>\n",
              "  <th>x10</th> <td> 9.694e+05</td> <td> 4.83e+04</td> <td>   20.050</td> <td> 0.000</td> <td> 8.75e+05</td> <td> 1.06e+06</td>\n",
              "</tr>\n",
              "<tr>\n",
              "  <th>x11</th> <td>-6213.9643</td> <td> 2787.124</td> <td>   -2.230</td> <td> 0.026</td> <td>-1.17e+04</td> <td> -750.800</td>\n",
              "</tr>\n",
              "</table>\n",
              "<table class=\"simpletable\">\n",
              "<tr>\n",
              "  <th>Omnibus:</th>       <td>30526.963</td> <th>  Durbin-Watson:     </th>   <td>   2.015</td>   \n",
              "</tr>\n",
              "<tr>\n",
              "  <th>Prob(Omnibus):</th>  <td> 0.000</td>   <th>  Jarque-Bera (JB):  </th> <td>381704935.819</td>\n",
              "</tr>\n",
              "<tr>\n",
              "  <th>Skew:</th>           <td>22.456</td>   <th>  Prob(JB):          </th>   <td>    0.00</td>   \n",
              "</tr>\n",
              "<tr>\n",
              "  <th>Kurtosis:</th>       <td>834.734</td>  <th>  Cond. No.          </th>   <td>    74.4</td>   \n",
              "</tr>\n",
              "</table><br/><br/>Warnings:<br/>[1] Standard Errors assume that the covariance matrix of the errors is correctly specified."
            ],
            "text/plain": [
              "<class 'statsmodels.iolib.summary.Summary'>\n",
              "\"\"\"\n",
              "                                 OLS Regression Results                                \n",
              "=======================================================================================\n",
              "Dep. Variable:                      y   R-squared (uncentered):                   0.145\n",
              "Model:                            OLS   Adj. R-squared (uncentered):              0.144\n",
              "Method:                 Least Squares   F-statistic:                              203.1\n",
              "Date:                Sat, 16 Oct 2021   Prob (F-statistic):                        0.00\n",
              "Time:                        03:48:26   Log-Likelihood:                     -1.7394e+05\n",
              "No. Observations:               13204   AIC:                                  3.479e+05\n",
              "Df Residuals:                   13193   BIC:                                  3.480e+05\n",
              "Df Model:                          11                                                  \n",
              "Covariance Type:            nonrobust                                                  \n",
              "==============================================================================\n",
              "                 coef    std err          t      P>|t|      [0.025      0.975]\n",
              "------------------------------------------------------------------------------\n",
              "x1         -1823.3147   1.28e+04     -0.142      0.887   -2.69e+04    2.33e+04\n",
              "x2          1.256e+05   2.74e+04      4.582      0.000    7.18e+04    1.79e+05\n",
              "x3         -1905.9435   3706.786     -0.514      0.607   -9171.778    5359.890\n",
              "x4           2.41e+05   1.21e+04     19.945      0.000    2.17e+05    2.65e+05\n",
              "x5          1.753e+04   2.13e+04      0.823      0.410   -2.42e+04    5.93e+04\n",
              "x6          3.406e+05   3.56e+04      9.580      0.000    2.71e+05     4.1e+05\n",
              "x7          1.695e+05   6.39e+04      2.654      0.008    4.43e+04    2.95e+05\n",
              "x8          7.071e+05   5.02e+04     14.074      0.000    6.09e+05    8.06e+05\n",
              "x9         -2.202e+05   1.14e+05     -1.926      0.054   -4.44e+05    3894.731\n",
              "x10         9.694e+05   4.83e+04     20.050      0.000    8.75e+05    1.06e+06\n",
              "x11        -6213.9643   2787.124     -2.230      0.026   -1.17e+04    -750.800\n",
              "==============================================================================\n",
              "Omnibus:                    30526.963   Durbin-Watson:                   2.015\n",
              "Prob(Omnibus):                  0.000   Jarque-Bera (JB):        381704935.819\n",
              "Skew:                          22.456   Prob(JB):                         0.00\n",
              "Kurtosis:                     834.734   Cond. No.                         74.4\n",
              "==============================================================================\n",
              "\n",
              "Warnings:\n",
              "[1] Standard Errors assume that the covariance matrix of the errors is correctly specified.\n",
              "\"\"\""
            ]
          },
          "metadata": {},
          "execution_count": 188
        }
      ]
    },
    {
      "cell_type": "code",
      "metadata": {
        "colab": {
          "base_uri": "https://localhost:8080/"
        },
        "id": "uZ0MNRNgW7HM",
        "outputId": "83f0534c-fb7e-485b-f6af-77b2e3be7f68"
      },
      "source": [
        "lr = LinearRegression() # Create object\n",
        "\n",
        "lr.fit(X_train, y_train) # Run the model\n",
        "\n",
        "print(\"For Training set : \", lr.score(X_train,y_train))\n",
        "\n",
        "print(\"For Test set : \",lr.score(X_test,y_test))"
      ],
      "execution_count": null,
      "outputs": [
        {
          "output_type": "stream",
          "name": "stdout",
          "text": [
            "For Training set :  0.09069293649506571\n",
            "For Test set :  0.0856077859725255\n"
          ]
        }
      ]
    },
    {
      "cell_type": "code",
      "metadata": {
        "colab": {
          "base_uri": "https://localhost:8080/"
        },
        "id": "tKgOVLsxXCvX",
        "outputId": "1075634c-8290-4538-ac5c-0c19c284bbe5"
      },
      "source": [
        "# try l1_ratio=0.5\n",
        "\n",
        "eln = ElasticNet(l1_ratio=0.5)\n",
        "eln.fit(X_train, y_train) # Run the model\n",
        "eln.score(X_train,y_train) # check the score metric"
      ],
      "execution_count": null,
      "outputs": [
        {
          "output_type": "execute_result",
          "data": {
            "text/plain": [
              "0.0032208204342116797"
            ]
          },
          "metadata": {},
          "execution_count": 190
        }
      ]
    },
    {
      "cell_type": "code",
      "metadata": {
        "colab": {
          "base_uri": "https://localhost:8080/"
        },
        "id": "XmNCySI-XY8S",
        "outputId": "6d3e656d-7894-4777-c857-87a6430a55b1"
      },
      "source": [
        "# try l1_ratio=0.1\n",
        "\n",
        "eln = ElasticNet(l1_ratio=0.1)\n",
        "eln.fit(X_train, y_train) # Run the model\n",
        "eln.score(X_train,y_train) # check the score metric"
      ],
      "execution_count": null,
      "outputs": [
        {
          "output_type": "execute_result",
          "data": {
            "text/plain": [
              "0.0019111193447636234"
            ]
          },
          "metadata": {},
          "execution_count": 191
        }
      ]
    },
    {
      "cell_type": "code",
      "metadata": {
        "colab": {
          "base_uri": "https://localhost:8080/"
        },
        "id": "IblL0h6_XY0e",
        "outputId": "51aed24a-4bc8-4415-d684-aac527e97b61"
      },
      "source": [
        "# try l1_ratio=0.9\n",
        "\n",
        "eln = ElasticNet(l1_ratio=0.9)\n",
        "eln.fit(X_train, y_train) # Run the model\n",
        "eln.score(X_train,y_train) # check the score metric"
      ],
      "execution_count": null,
      "outputs": [
        {
          "output_type": "execute_result",
          "data": {
            "text/plain": [
              "0.010563118877035094"
            ]
          },
          "metadata": {},
          "execution_count": 192
        }
      ]
    },
    {
      "cell_type": "code",
      "metadata": {
        "colab": {
          "base_uri": "https://localhost:8080/"
        },
        "id": "25j0arrlXoiN",
        "outputId": "8f4f3927-08e9-462f-b248-3a736ce7fa85"
      },
      "source": [
        "# use cross validation to find the best alpha\n",
        "\n",
        "elasticcv = ElasticNetCV(alphas=[0.01, 0.1, 0.3, 0.4, 0.45, 0.5,1, 5, 7, 10, 100],l1_ratio=[0.1,0.2,0.3,0.4,0.5,0.6,0.7,0.8,0.9])\n",
        "\n",
        "elasticcv.fit(X_train, y_train) # Run the model\n",
        "\n",
        "alpha = elasticcv.alpha_\n",
        "\n",
        "ratio = elasticcv.l1_ratio_\n",
        "\n",
        "print('The optimal alpha is ',alpha,'and the optimal ratio is ',ratio)\n",
        "\n",
        "print(elasticcv.score(X_train, y_train))"
      ],
      "execution_count": null,
      "outputs": [
        {
          "output_type": "stream",
          "name": "stdout",
          "text": [
            "The optimal alpha is  0.01 and the optimal ratio is  0.9\n",
            "0.06965482871946782\n"
          ]
        }
      ]
    },
    {
      "cell_type": "markdown",
      "metadata": {
        "id": "adg5jVtVsDye"
      },
      "source": [
        "## Evaluation: Scatterplots of `x=Actual` and `y=Pred`\n",
        "Make a nice scatterplot of actual vs. predicted with log scale for X and y. Use axis limits of [1E3,1E7] for both x and y axes. Add a 45 degree line, a plot title, axis titles etc. Do this for both train and test partitions."
      ]
    },
    {
      "cell_type": "code",
      "metadata": {
        "id": "K0D11wtqsPr6",
        "colab": {
          "base_uri": "https://localhost:8080/",
          "height": 435
        },
        "outputId": "3ca0a4bb-6e3f-4fcb-aac9-51335c072f4b"
      },
      "source": [
        "plt.figure(figsize=(10, 6))\n",
        "\n",
        "plt.scatter(x=y_train, y=train_preds) # Scatter plot\n",
        "plt.xlim([1E3, 1E7]) # X-axis limit\n",
        "plt.ylim([1E3, 1E7]) # Y-axis limit\n",
        "\n",
        "plt.xlabel('Actual Property Loss')\n",
        "\n",
        "plt.ylabel('Predicted Property Loss')\n",
        "\n",
        "## converting the plot to log scale to better understnd the graph in terms of visibility\n",
        "plt.xscale('log')\n",
        "plt.yscale('log')\n",
        "\n",
        "plt.plot([1E3, 1E7], [1E3, 1E7], '--k') # 45 degree line\n",
        "\n",
        "plt.axis('tight')\n",
        "\n",
        "plt.suptitle('Train Results')\n",
        "\n",
        "plt.show()"
      ],
      "execution_count": null,
      "outputs": [
        {
          "output_type": "display_data",
          "data": {
            "image/png": "[encoded data removed]",
            "text/plain": [
              "<Figure size 720x432 with 1 Axes>"
            ]
          },
          "metadata": {
            "needs_background": "light"
          }
        }
      ]
    },
    {
      "cell_type": "code",
      "metadata": {
        "colab": {
          "base_uri": "https://localhost:8080/",
          "height": 435
        },
        "id": "Y9-KjuQOL_x7",
        "outputId": "06897934-7e78-46c7-e1a8-ee2399703cfa"
      },
      "source": [
        "plt.figure(figsize=(10, 6))\n",
        "\n",
        "plt.scatter(x=y_test, y=test_preds) # Scatter plot\n",
        "\n",
        "plt.xlim([1E3, 1E7]) # X-axis limit\n",
        "plt.ylim([1E3, 1E7]) # Y-axis limit\n",
        "\n",
        "plt.xlabel('Actual Property Loss')\n",
        "plt.ylabel('Predicted Property Loss')\n",
        "\n",
        "\n",
        "## converting the plot to log scale to better understnd the graph in terms of visibility\n",
        "plt.xscale('log')\n",
        "plt.yscale('log')\n",
        "\n",
        "plt.suptitle('Test Results')\n",
        "plt.plot([1E3, 1E7], [1E3, 1E7], '--k') # 45 degree line\n",
        "\n",
        "plt.axis('tight')\n",
        "\n",
        "plt.show()"
      ],
      "execution_count": null,
      "outputs": [
        {
          "output_type": "display_data",
          "data": {
            "image/png": "[encoded data removed]",
            "text/plain": [
              "<Figure size 720x432 with 1 Axes>"
            ]
          },
          "metadata": {
            "needs_background": "light"
          }
        }
      ]
    },
    {
      "cell_type": "markdown",
      "metadata": {
        "id": "0rSQtXc9-JAf"
      },
      "source": [
        "## Discussion: What did your learn?\n",
        "Write five meaningful bullets of what you learned and if you have a 'good' model or not."
      ]
    },
    {
      "cell_type": "markdown",
      "metadata": {
        "id": "7Fe3wiSCY8Fg"
      },
      "source": [
        "* While creating an interesting plot, we initially created a bar plot to compare the Property Values in each states. But later we tried to make the plot on US map. We learned to use a new library for geographic plot and the graph now looks much better in terms of visualization and understanding too.\n",
        "\n",
        "* For the interesting table, we created a table in terms of analyzing the top states where the most of the property loss was stated. This shows that the percentage loss in terms of property value in some states is larger than one would have expected it to be. This cab be easily seen from the table we have created.\n",
        "\n",
        "* While doing the min max scaling for x and y variables on train and test, we found an interesting thing that even after test scaling the values in column Prop_val the values are not between 0 and 1 it has some higher and lower values too. This may be due to the fact that, this particular column has most highest values as compared to other columns in the whole dataset.\n",
        "\n",
        "* Following the implementation of the Linear Regression Model, it is clear that the model is not as accurate as it should be, with a low score of 0.085.\n",
        "\n",
        "* From the train and test scatterplots we saw that the model fits too closely to the training set, the model becomes “overfitted,” and it is unable to generalize well to new data."
      ]
    },
    {
      "cell_type": "markdown",
      "metadata": {
        "id": "r8ARNAnRxu1F"
      },
      "source": [
        "# [Optional:] A random forest! (+1 pt extra credit)\n",
        "\n",
        "Now instead of a linear model, use this code instead of the linear model. If you had this as your original model code...\n",
        "\n",
        "\n",
        "\n",
        "```\n",
        "# fit the model\n",
        "from sklearn.linear_model import LinearRegression\n",
        "LR = LinearRegression()\n",
        "LR.fit(X_train, y_train)\n",
        "```\n",
        "\n",
        "\n",
        "\n",
        "Try replacing it with a random forest regressor... like this....\n",
        "\n",
        "\n",
        "```\n",
        "# left for students later as a treat...\n",
        "\n",
        "# fit the model\n",
        "from sklearn.ensemble import RandomForestRegressor\n",
        "LR = RandomForestRegressor()\n",
        "LR.fit(X_train, y_train)\n",
        "```\n",
        "\n",
        "\n",
        "\n",
        "How do your model results change? Add a bullet point of how easy is it to fit machine learning models in Python :)"
      ]
    },
    {
      "cell_type": "code",
      "metadata": {
        "id": "yPTn5dxuQjX6"
      },
      "source": [
        "from sklearn.ensemble import RandomForestRegressor"
      ],
      "execution_count": null,
      "outputs": []
    },
    {
      "cell_type": "code",
      "metadata": {
        "id": "fTa7OdUEQYTm"
      },
      "source": [
        "LR = RandomForestRegressor() # Create new object\n",
        "\n",
        "# fit the model - one line of code - LR is now a 'model object'\n",
        "\n",
        "LR = LR.fit(X_train, y_train) # order matters here! don't reverse it!\n",
        "\n",
        "train_preds = LR.predict(X_train) # Training set predictions\n",
        "\n",
        "test_preds = LR.predict(X_test) # Test set prediction"
      ],
      "execution_count": null,
      "outputs": []
    },
    {
      "cell_type": "code",
      "metadata": {
        "colab": {
          "base_uri": "https://localhost:8080/"
        },
        "id": "vpuZOsYaQVqf",
        "outputId": "a933d33d-17ac-4279-b30a-0eb166da1a92"
      },
      "source": [
        "lr = RandomForestRegressor() # Create new object\n",
        "\n",
        "lr.fit(X_train, y_train) # Run the model\n",
        "\n",
        "print(\"For Training set : \", lr.score(X_train,y_train))\n",
        "\n",
        "print(\"For Test set : \",lr.score(X_test,y_test))"
      ],
      "execution_count": null,
      "outputs": [
        {
          "output_type": "stream",
          "name": "stdout",
          "text": [
            "For Training set :  0.8706050858515453\n",
            "For Test set :  0.20472348617400304\n"
          ]
        }
      ]
    },
    {
      "cell_type": "code",
      "metadata": {
        "colab": {
          "base_uri": "https://localhost:8080/",
          "height": 435
        },
        "id": "5rhn28OZQxZv",
        "outputId": "4589a42c-a613-4d4e-d12f-9ebb2c91f823"
      },
      "source": [
        "plt.figure(figsize=(10, 6))\n",
        "\n",
        "plt.scatter(x=y_train, y=train_preds) # Scatter plot\n",
        "plt.xlim([1E3, 1E7]) # X-axis limit\n",
        "plt.ylim([1E3, 1E7]) # Y-axis limit\n",
        "\n",
        "plt.xlabel('Actual Property Loss')\n",
        "plt.ylabel('Predicted Property Loss')\n",
        "\n",
        "\n",
        "## converting the plot to log scale to better understnd the graph in terms of visibility\n",
        "plt.xscale('log')\n",
        "plt.yscale('log')\n",
        "\n",
        "plt.plot([1E3, 1E7], [1E3, 1E7], '--k') # 45 degree line\n",
        "\n",
        "plt.axis('tight')\n",
        "\n",
        "plt.suptitle('Train Results')\n",
        "\n",
        "plt.show()"
      ],
      "execution_count": null,
      "outputs": [
        {
          "output_type": "display_data",
          "data": {
            "image/png": "[encoded data removed]",
            "text/plain": [
              "<Figure size 720x432 with 1 Axes>"
            ]
          },
          "metadata": {
            "needs_background": "light"
          }
        }
      ]
    },
    {
      "cell_type": "code",
      "metadata": {
        "colab": {
          "base_uri": "https://localhost:8080/",
          "height": 435
        },
        "id": "q8h68HZpQ3bZ",
        "outputId": "fc6b2c09-7071-41b6-e231-e58611b92b27"
      },
      "source": [
        "plt.figure(figsize=(10, 6))\n",
        "\n",
        "plt.scatter(x=y_test, y=test_preds) # Scatter plot\n",
        "\n",
        "plt.xlim([1E3, 1E7]) # X-axis limit\n",
        "plt.ylim([1E3, 1E7]) # Y-axis limit\n",
        "\n",
        "plt.xlabel('Actual Property Loss')\n",
        "plt.ylabel('Predicted Property Loss')\n",
        "\n",
        "\n",
        "## converting the plot to log scale to better understnd the graph in terms of visibility\n",
        "plt.xscale('log')\n",
        "plt.yscale('log')\n",
        "\n",
        "plt.suptitle('Test Results')\n",
        "plt.plot([1E3, 1E7], [1E3, 1E7], '--k') # 45 degree line\n",
        "\n",
        "plt.axis('tight')\n",
        "\n",
        "plt.show()"
      ],
      "execution_count": null,
      "outputs": [
        {
          "output_type": "display_data",
          "data": {
            "image/png": "[encoded data removed]",
            "text/plain": [
              "<Figure size 720x432 with 1 Axes>"
            ]
          },
          "metadata": {
            "needs_background": "light"
          }
        }
      ]
    },
    {
      "cell_type": "markdown",
      "metadata": {
        "id": "CKVbv5A1aehB"
      },
      "source": [
        "Based on the aforementioned plots and scores for both models, we can conclude that the Random Forest model outperforms the Linear Regression Model on this dataset.\n",
        "\n",
        "For the test dataset, the Linear Regression model gets a score of 0.085, whereas the RandomForest model has a score of 0.23, which is good."
      ]
    },
    {
      "cell_type": "markdown",
      "metadata": {
        "id": "Re9YHTGs26tC"
      },
      "source": [
        "# Completed!!!"
      ]
    }
  ]
}